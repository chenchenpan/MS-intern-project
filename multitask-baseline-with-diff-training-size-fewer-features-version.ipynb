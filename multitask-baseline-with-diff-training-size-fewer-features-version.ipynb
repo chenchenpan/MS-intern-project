{
 "cells": [
  {
   "cell_type": "code",
   "execution_count": 1,
   "metadata": {},
   "outputs": [],
   "source": [
    "import pandas as pd\n",
    "import numpy as np\n",
    "import matplotlib.pyplot as plt\n",
    "from sklearn import preprocessing\n",
    "# from sklearn.utils import shuffle\n",
    "# from sklearn.model_selection import train_test_split\n",
    "# from sklearn.preprocessing import StandardScaler\n",
    "from sklearn.neighbors import KNeighborsRegressor\n",
    "from sklearn.linear_model import LinearRegression, MultiTaskElasticNet, MultiTaskLasso\n",
    "from sklearn.ensemble import RandomForestRegressor\n",
    "from sklearn.multioutput import MultiOutputRegressor\n",
    "from sklearn.metrics import confusion_matrix, mean_squared_error, log_loss, accuracy_score\n",
    "import time\n",
    "# from sklearn.manifold import TSNE\n",
    "import joblib\n",
    "\n",
    "\n",
    "# pd.set_option('display.max_columns', None)\n",
    "# pd.set_option('display.max_rows', None)"
   ]
  },
  {
   "cell_type": "code",
   "execution_count": 2,
   "metadata": {
    "scrolled": true
   },
   "outputs": [
    {
     "data": {
      "text/plain": [
       "'0.24.2'"
      ]
     },
     "execution_count": 2,
     "metadata": {},
     "output_type": "execute_result"
    }
   ],
   "source": [
    "pd.__version__"
   ]
  },
  {
   "cell_type": "code",
   "execution_count": 3,
   "metadata": {},
   "outputs": [],
   "source": [
    "Xtrain = np.load('data/Xtrain.npy')\n",
    "Xdev = np.load('data/Xdev.npy')\n",
    "# Xtest = np.load('data_8.21/Xtest.npy')\n",
    "\n",
    "ytrain = np.load('data/ytrain.npy')\n",
    "ydev = np.load('data/ydev.npy')\n",
    "# ytest = np.load('data_8.21/ytest.npy')"
   ]
  },
  {
   "cell_type": "code",
   "execution_count": 4,
   "metadata": {
    "scrolled": true
   },
   "outputs": [
    {
     "data": {
      "text/html": [
       "<div>\n",
       "<style scoped>\n",
       "    .dataframe tbody tr th:only-of-type {\n",
       "        vertical-align: middle;\n",
       "    }\n",
       "\n",
       "    .dataframe tbody tr th {\n",
       "        vertical-align: top;\n",
       "    }\n",
       "\n",
       "    .dataframe thead th {\n",
       "        text-align: right;\n",
       "    }\n",
       "</style>\n",
       "<table border=\"1\" class=\"dataframe\">\n",
       "  <thead>\n",
       "    <tr style=\"text-align: right;\">\n",
       "      <th></th>\n",
       "      <th>Dev_mse</th>\n",
       "      <th>data_size</th>\n",
       "    </tr>\n",
       "  </thead>\n",
       "  <tbody>\n",
       "    <tr>\n",
       "      <th>0</th>\n",
       "      <td>1.108396</td>\n",
       "      <td>0.001</td>\n",
       "    </tr>\n",
       "    <tr>\n",
       "      <th>1</th>\n",
       "      <td>0.629150</td>\n",
       "      <td>0.002</td>\n",
       "    </tr>\n",
       "    <tr>\n",
       "      <th>2</th>\n",
       "      <td>0.561474</td>\n",
       "      <td>0.004</td>\n",
       "    </tr>\n",
       "    <tr>\n",
       "      <th>3</th>\n",
       "      <td>0.456059</td>\n",
       "      <td>0.008</td>\n",
       "    </tr>\n",
       "    <tr>\n",
       "      <th>4</th>\n",
       "      <td>0.486010</td>\n",
       "      <td>0.016</td>\n",
       "    </tr>\n",
       "    <tr>\n",
       "      <th>5</th>\n",
       "      <td>0.433918</td>\n",
       "      <td>0.020</td>\n",
       "    </tr>\n",
       "    <tr>\n",
       "      <th>6</th>\n",
       "      <td>0.290724</td>\n",
       "      <td>0.030</td>\n",
       "    </tr>\n",
       "    <tr>\n",
       "      <th>7</th>\n",
       "      <td>0.259333</td>\n",
       "      <td>0.040</td>\n",
       "    </tr>\n",
       "    <tr>\n",
       "      <th>8</th>\n",
       "      <td>0.154907</td>\n",
       "      <td>0.080</td>\n",
       "    </tr>\n",
       "    <tr>\n",
       "      <th>9</th>\n",
       "      <td>0.101245</td>\n",
       "      <td>0.100</td>\n",
       "    </tr>\n",
       "    <tr>\n",
       "      <th>10</th>\n",
       "      <td>0.105856</td>\n",
       "      <td>0.150</td>\n",
       "    </tr>\n",
       "    <tr>\n",
       "      <th>11</th>\n",
       "      <td>0.173952</td>\n",
       "      <td>0.200</td>\n",
       "    </tr>\n",
       "  </tbody>\n",
       "</table>\n",
       "</div>"
      ],
      "text/plain": [
       "     Dev_mse  data_size\n",
       "0   1.108396      0.001\n",
       "1   0.629150      0.002\n",
       "2   0.561474      0.004\n",
       "3   0.456059      0.008\n",
       "4   0.486010      0.016\n",
       "5   0.433918      0.020\n",
       "6   0.290724      0.030\n",
       "7   0.259333      0.040\n",
       "8   0.154907      0.080\n",
       "9   0.101245      0.100\n",
       "10  0.105856      0.150\n",
       "11  0.173952      0.200"
      ]
     },
     "execution_count": 4,
     "metadata": {},
     "output_type": "execute_result"
    }
   ],
   "source": [
    "rf_results = pd.read_csv('results/rf_results_with_14_estimators.csv')\n",
    "rf_results"
   ]
  },
  {
   "cell_type": "code",
   "execution_count": 5,
   "metadata": {
    "scrolled": true
   },
   "outputs": [
    {
     "data": {
      "text/html": [
       "<div>\n",
       "<style scoped>\n",
       "    .dataframe tbody tr th:only-of-type {\n",
       "        vertical-align: middle;\n",
       "    }\n",
       "\n",
       "    .dataframe tbody tr th {\n",
       "        vertical-align: top;\n",
       "    }\n",
       "\n",
       "    .dataframe thead th {\n",
       "        text-align: right;\n",
       "    }\n",
       "</style>\n",
       "<table border=\"1\" class=\"dataframe\">\n",
       "  <thead>\n",
       "    <tr style=\"text-align: right;\">\n",
       "      <th></th>\n",
       "      <th>Dev_mse</th>\n",
       "      <th>data_size</th>\n",
       "    </tr>\n",
       "  </thead>\n",
       "  <tbody>\n",
       "    <tr>\n",
       "      <th>0</th>\n",
       "      <td>0.853096</td>\n",
       "      <td>0.001</td>\n",
       "    </tr>\n",
       "    <tr>\n",
       "      <th>1</th>\n",
       "      <td>0.824338</td>\n",
       "      <td>0.002</td>\n",
       "    </tr>\n",
       "    <tr>\n",
       "      <th>2</th>\n",
       "      <td>0.802022</td>\n",
       "      <td>0.004</td>\n",
       "    </tr>\n",
       "    <tr>\n",
       "      <th>3</th>\n",
       "      <td>0.782316</td>\n",
       "      <td>0.008</td>\n",
       "    </tr>\n",
       "    <tr>\n",
       "      <th>4</th>\n",
       "      <td>0.786907</td>\n",
       "      <td>0.016</td>\n",
       "    </tr>\n",
       "    <tr>\n",
       "      <th>5</th>\n",
       "      <td>0.783772</td>\n",
       "      <td>0.020</td>\n",
       "    </tr>\n",
       "    <tr>\n",
       "      <th>6</th>\n",
       "      <td>0.783441</td>\n",
       "      <td>0.030</td>\n",
       "    </tr>\n",
       "    <tr>\n",
       "      <th>7</th>\n",
       "      <td>0.777841</td>\n",
       "      <td>0.040</td>\n",
       "    </tr>\n",
       "    <tr>\n",
       "      <th>8</th>\n",
       "      <td>0.773365</td>\n",
       "      <td>0.080</td>\n",
       "    </tr>\n",
       "    <tr>\n",
       "      <th>9</th>\n",
       "      <td>0.744707</td>\n",
       "      <td>0.100</td>\n",
       "    </tr>\n",
       "    <tr>\n",
       "      <th>10</th>\n",
       "      <td>0.740574</td>\n",
       "      <td>0.150</td>\n",
       "    </tr>\n",
       "    <tr>\n",
       "      <th>11</th>\n",
       "      <td>0.747839</td>\n",
       "      <td>0.200</td>\n",
       "    </tr>\n",
       "  </tbody>\n",
       "</table>\n",
       "</div>"
      ],
      "text/plain": [
       "     Dev_mse  data_size\n",
       "0   0.853096      0.001\n",
       "1   0.824338      0.002\n",
       "2   0.802022      0.004\n",
       "3   0.782316      0.008\n",
       "4   0.786907      0.016\n",
       "5   0.783772      0.020\n",
       "6   0.783441      0.030\n",
       "7   0.777841      0.040\n",
       "8   0.773365      0.080\n",
       "9   0.744707      0.100\n",
       "10  0.740574      0.150\n",
       "11  0.747839      0.200"
      ]
     },
     "execution_count": 5,
     "metadata": {},
     "output_type": "execute_result"
    }
   ],
   "source": [
    "knn_results = pd.read_csv('results/knn_results_with_5_neighbors.csv')\n",
    "knn_results"
   ]
  },
  {
   "cell_type": "code",
   "execution_count": 11,
   "metadata": {},
   "outputs": [
    {
     "data": {
      "text/html": [
       "<div>\n",
       "<style scoped>\n",
       "    .dataframe tbody tr th:only-of-type {\n",
       "        vertical-align: middle;\n",
       "    }\n",
       "\n",
       "    .dataframe tbody tr th {\n",
       "        vertical-align: top;\n",
       "    }\n",
       "\n",
       "    .dataframe thead th {\n",
       "        text-align: right;\n",
       "    }\n",
       "</style>\n",
       "<table border=\"1\" class=\"dataframe\">\n",
       "  <thead>\n",
       "    <tr style=\"text-align: right;\">\n",
       "      <th></th>\n",
       "      <th>Dev_mse</th>\n",
       "      <th>data_size</th>\n",
       "    </tr>\n",
       "  </thead>\n",
       "  <tbody>\n",
       "    <tr>\n",
       "      <th>0</th>\n",
       "      <td>0.638520</td>\n",
       "      <td>0.001</td>\n",
       "    </tr>\n",
       "    <tr>\n",
       "      <th>1</th>\n",
       "      <td>0.641886</td>\n",
       "      <td>0.002</td>\n",
       "    </tr>\n",
       "    <tr>\n",
       "      <th>2</th>\n",
       "      <td>0.630374</td>\n",
       "      <td>0.004</td>\n",
       "    </tr>\n",
       "    <tr>\n",
       "      <th>3</th>\n",
       "      <td>0.623086</td>\n",
       "      <td>0.008</td>\n",
       "    </tr>\n",
       "    <tr>\n",
       "      <th>4</th>\n",
       "      <td>0.597791</td>\n",
       "      <td>0.016</td>\n",
       "    </tr>\n",
       "    <tr>\n",
       "      <th>5</th>\n",
       "      <td>0.599966</td>\n",
       "      <td>0.020</td>\n",
       "    </tr>\n",
       "    <tr>\n",
       "      <th>6</th>\n",
       "      <td>0.519379</td>\n",
       "      <td>0.030</td>\n",
       "    </tr>\n",
       "    <tr>\n",
       "      <th>7</th>\n",
       "      <td>0.579430</td>\n",
       "      <td>0.040</td>\n",
       "    </tr>\n",
       "    <tr>\n",
       "      <th>8</th>\n",
       "      <td>0.476269</td>\n",
       "      <td>0.080</td>\n",
       "    </tr>\n",
       "    <tr>\n",
       "      <th>9</th>\n",
       "      <td>0.449225</td>\n",
       "      <td>0.100</td>\n",
       "    </tr>\n",
       "    <tr>\n",
       "      <th>10</th>\n",
       "      <td>0.335526</td>\n",
       "      <td>0.150</td>\n",
       "    </tr>\n",
       "    <tr>\n",
       "      <th>11</th>\n",
       "      <td>0.175058</td>\n",
       "      <td>0.200</td>\n",
       "    </tr>\n",
       "  </tbody>\n",
       "</table>\n",
       "</div>"
      ],
      "text/plain": [
       "     Dev_mse  data_size\n",
       "0   0.638520      0.001\n",
       "1   0.641886      0.002\n",
       "2   0.630374      0.004\n",
       "3   0.623086      0.008\n",
       "4   0.597791      0.016\n",
       "5   0.599966      0.020\n",
       "6   0.519379      0.030\n",
       "7   0.579430      0.040\n",
       "8   0.476269      0.080\n",
       "9   0.449225      0.100\n",
       "10  0.335526      0.150\n",
       "11  0.175058      0.200"
      ]
     },
     "execution_count": 11,
     "metadata": {},
     "output_type": "execute_result"
    }
   ],
   "source": [
    "nn_resuls = pd.read_csv('results/nn_results_with_4Layers_128H.csv')\n",
    "nn_resuls"
   ]
  },
  {
   "cell_type": "code",
   "execution_count": 7,
   "metadata": {},
   "outputs": [
    {
     "data": {
      "text/html": [
       "<div>\n",
       "<style scoped>\n",
       "    .dataframe tbody tr th:only-of-type {\n",
       "        vertical-align: middle;\n",
       "    }\n",
       "\n",
       "    .dataframe tbody tr th {\n",
       "        vertical-align: top;\n",
       "    }\n",
       "\n",
       "    .dataframe thead th {\n",
       "        text-align: right;\n",
       "    }\n",
       "</style>\n",
       "<table border=\"1\" class=\"dataframe\">\n",
       "  <thead>\n",
       "    <tr style=\"text-align: right;\">\n",
       "      <th></th>\n",
       "      <th>Dev_mse</th>\n",
       "      <th>data_size</th>\n",
       "    </tr>\n",
       "  </thead>\n",
       "  <tbody>\n",
       "    <tr>\n",
       "      <th>0</th>\n",
       "      <td>1.586396e+25</td>\n",
       "      <td>0.001</td>\n",
       "    </tr>\n",
       "    <tr>\n",
       "      <th>1</th>\n",
       "      <td>9.595359e+25</td>\n",
       "      <td>0.002</td>\n",
       "    </tr>\n",
       "    <tr>\n",
       "      <th>2</th>\n",
       "      <td>7.127947e+25</td>\n",
       "      <td>0.004</td>\n",
       "    </tr>\n",
       "    <tr>\n",
       "      <th>3</th>\n",
       "      <td>4.948195e+24</td>\n",
       "      <td>0.008</td>\n",
       "    </tr>\n",
       "    <tr>\n",
       "      <th>4</th>\n",
       "      <td>1.619013e+25</td>\n",
       "      <td>0.016</td>\n",
       "    </tr>\n",
       "    <tr>\n",
       "      <th>5</th>\n",
       "      <td>8.267683e+24</td>\n",
       "      <td>0.020</td>\n",
       "    </tr>\n",
       "    <tr>\n",
       "      <th>6</th>\n",
       "      <td>1.150485e+24</td>\n",
       "      <td>0.030</td>\n",
       "    </tr>\n",
       "    <tr>\n",
       "      <th>7</th>\n",
       "      <td>6.118690e+23</td>\n",
       "      <td>0.040</td>\n",
       "    </tr>\n",
       "    <tr>\n",
       "      <th>8</th>\n",
       "      <td>2.540414e+24</td>\n",
       "      <td>0.080</td>\n",
       "    </tr>\n",
       "    <tr>\n",
       "      <th>9</th>\n",
       "      <td>2.693960e+24</td>\n",
       "      <td>0.100</td>\n",
       "    </tr>\n",
       "    <tr>\n",
       "      <th>10</th>\n",
       "      <td>8.484265e+22</td>\n",
       "      <td>0.150</td>\n",
       "    </tr>\n",
       "    <tr>\n",
       "      <th>11</th>\n",
       "      <td>7.062144e+22</td>\n",
       "      <td>0.200</td>\n",
       "    </tr>\n",
       "  </tbody>\n",
       "</table>\n",
       "</div>"
      ],
      "text/plain": [
       "         Dev_mse  data_size\n",
       "0   1.586396e+25      0.001\n",
       "1   9.595359e+25      0.002\n",
       "2   7.127947e+25      0.004\n",
       "3   4.948195e+24      0.008\n",
       "4   1.619013e+25      0.016\n",
       "5   8.267683e+24      0.020\n",
       "6   1.150485e+24      0.030\n",
       "7   6.118690e+23      0.040\n",
       "8   2.540414e+24      0.080\n",
       "9   2.693960e+24      0.100\n",
       "10  8.484265e+22      0.150\n",
       "11  7.062144e+22      0.200"
      ]
     },
     "execution_count": 7,
     "metadata": {},
     "output_type": "execute_result"
    }
   ],
   "source": [
    "lr_results = pd.read_csv('results_8.21/lr_results_with_diff_trainingsize.csv')\n",
    "lr_results"
   ]
  },
  {
   "cell_type": "code",
   "execution_count": 12,
   "metadata": {},
   "outputs": [],
   "source": [
    "def plot_performance(df_rf, df_knn, df_nn):\n",
    "\n",
    "    plt.figure()\n",
    "    plt.xlabel('Data Size')\n",
    "    plt.ylabel('Dev set Mean Square Error')\n",
    "    plt.plot(df_rf['data_size'], df_rf['Dev_mse'],\n",
    "             label='RF Performamce')\n",
    "    \n",
    "    plt.plot(df_knn['data_size'], df_knn['Dev_mse'],\n",
    "             label='KNN Performamce')\n",
    "    \n",
    "    plt.plot(df_nn['data_size'], df_nn['Dev_mse'],\n",
    "             label='NN Performamce')\n",
    "    plt.xlim([-0.01,0.22])\n",
    "    plt.legend()\n",
    "    plt.savefig('plots/model_comparison_with_diff_datasize.png')\n",
    "    plt.show()"
   ]
  },
  {
   "cell_type": "code",
   "execution_count": 13,
   "metadata": {},
   "outputs": [
    {
     "data": {
      "image/png": "[encoded data removed]",
      "text/plain": [
       "<Figure size 432x288 with 1 Axes>"
      ]
     },
     "metadata": {
      "needs_background": "light"
     },
     "output_type": "display_data"
    }
   ],
   "source": [
    "plot_performance(rf_results, knn_results, nn_resuls)"
   ]
  },
  {
   "cell_type": "code",
   "execution_count": 10,
   "metadata": {
    "scrolled": true
   },
   "outputs": [
    {
     "data": {
      "image/png": "[encoded data removed]",
      "text/plain": [
       "<Figure size 432x288 with 1 Axes>"
      ]
     },
     "metadata": {
      "needs_background": "light"
     },
     "output_type": "display_data"
    }
   ],
   "source": [
    "ax1 = rf_results.plot(kind='scatter', \n",
    "                      x='data_size',\n",
    "                      y='Dev_mse',\n",
    "                      c='DarkBlue')"
   ]
  },
  {
   "cell_type": "code",
   "execution_count": null,
   "metadata": {},
   "outputs": [],
   "source": []
  },
  {
   "cell_type": "code",
   "execution_count": null,
   "metadata": {},
   "outputs": [],
   "source": []
  },
  {
   "cell_type": "code",
   "execution_count": 7,
   "metadata": {},
   "outputs": [],
   "source": [
    "data_size = [0.001, 0.002, 0.004, 0.008, 0.016, 0.02,\n",
    "             0.03, 0.04, 0.08, 0.10, 0.15, 0.20\n",
    "#              ,0.21, 0.22\n",
    "            ]\n"
   ]
  },
  {
   "cell_type": "code",
   "execution_count": 9,
   "metadata": {},
   "outputs": [
    {
     "name": "stdout",
     "output_type": "stream",
     "text": [
      "full training size is 1372529\n",
      "selected training size is 1372\n",
      "selected training size is 2745\n",
      "selected training size is 5490\n",
      "selected training size is 10980\n",
      "selected training size is 21960\n",
      "selected training size is 27450\n",
      "selected training size is 41175\n",
      "selected training size is 54901\n",
      "selected training size is 109802\n",
      "selected training size is 137252\n",
      "selected training size is 205879\n",
      "selected training size is 274505\n"
     ]
    }
   ],
   "source": [
    "## LR model\n",
    "\n",
    "lr_results = []\n",
    "full_size = Xtrain.shape[0]\n",
    "print('full training size is {}'.format(full_size))\n",
    "\n",
    "for i in data_size[:]:\n",
    "    results = {}\n",
    "    \n",
    "    selected_size = int(full_size * i)\n",
    "    print('selected training size is {}'.format(selected_size))\n",
    "    \n",
    "    Xtrain_selected = Xtrain[:selected_size,:]\n",
    "    ytrain_selected = ytrain[:selected_size,:]\n",
    "\n",
    "    model = MultiOutputRegressor(LinearRegression())\n",
    "    model.fit(Xtrain_selected, ytrain_selected)\n",
    "\n",
    "    pred_dev = model.predict(Xdev)\n",
    "    mse_dev = mean_squared_error(ydev, pred_dev)\n",
    "\n",
    "    results['data_size'] = i\n",
    "    results['Dev_mse'] = mse_dev\n",
    "\n",
    "    lr_results.append(results)\n",
    "\n",
    "lr_df = pd.DataFrame(lr_results)\n",
    "lr_df.to_csv('results_8.21/lr_results_with_diff_trainingsize.csv', index=False)"
   ]
  },
  {
   "cell_type": "code",
   "execution_count": null,
   "metadata": {},
   "outputs": [],
   "source": [
    "## RF model\n",
    "## run .py file to get the results\n",
    "\n",
    "# rf_results = []\n",
    "# full_size = Xtrain.shape[0]\n",
    "# print('full training size is {}'.format(full_size))\n",
    "\n",
    "# for i in data_size[:]:\n",
    "#     results = {}\n",
    "    \n",
    "#     selected_size = int(full_size * i)\n",
    "#     print('selected training size is {}'.format(selected_size))\n",
    "    \n",
    "#     Xtrain_selected = Xtrain[:selected_size,:]\n",
    "#     ytrain_selected = ytrain[:selected_size,:]\n",
    "\n",
    "#     model = MultiOutputRegressor(RandomForestRegressor(n_estimators=14, n_jobs=3,\n",
    "#                                                           max_depth=200,\n",
    "#                                                           random_state=0))\n",
    "#     model.fit(Xtrain_selected, ytrain_selected)\n",
    "#     pred_dev = model.predict(Xdev)\n",
    "#     mse_dev = mean_squared_error(ydev, pred_dev)\n",
    "    \n",
    "#     results['data_size'] = i\n",
    "#     results['Dev_mse'] = mse_dev\n",
    "    \n",
    "#     rf_results.append(results)\n",
    "\n",
    "# rf_df = pd.DataFrame(rf_results)\n",
    "# # rf_df.to_csv('results_8.21/rf_results_with_14_estimators')"
   ]
  },
  {
   "cell_type": "code",
   "execution_count": 25,
   "metadata": {},
   "outputs": [
    {
     "name": "stdout",
     "output_type": "stream",
     "text": [
      "full training size is 1372529\n",
      "selected training size is 13\n",
      "used time in 0.2003798484802246 seconds.\n",
      "selected training size is 27\n",
      "used time in 0.2078101634979248 seconds.\n",
      "selected training size is 54\n",
      "used time in 0.2982029914855957 seconds.\n",
      "selected training size is 10980\n",
      "used time in 17.27768611907959 seconds.\n",
      "selected training size is 21960\n",
      "used time in 37.588852405548096 seconds.\n",
      "selected training size is 27450\n",
      "used time in 49.92403769493103 seconds.\n",
      "selected training size is 41175\n",
      "used time in 90.92969012260437 seconds.\n",
      "selected training size is 54901\n",
      "used time in 138.14603185653687 seconds.\n",
      "selected training size is 109802\n",
      "used time in 426.3664622306824 seconds.\n",
      "selected training size is 137252\n",
      "used time in 637.2464191913605 seconds.\n"
     ]
    }
   ],
   "source": [
    "## KNN model\n",
    "## run .py file to get the results\n",
    "\n",
    "knn_results = []\n",
    "full_size = Xtrain.shape[0]\n",
    "print('full training size is {}'.format(full_size))\n",
    "# Xdev = Xdev[:100,:]\n",
    "# ydev = ydev[:100,:]\n",
    "\n",
    "for i in data_size[:]:\n",
    "    t1 = time.time()\n",
    "    results = {}\n",
    "    \n",
    "    selected_size = int(full_size * i)\n",
    "    print('selected training size is {}'.format(selected_size))\n",
    "    \n",
    "    Xtrain_selected = Xtrain[:selected_size,:]\n",
    "    ytrain_selected = ytrain[:selected_size,:]\n",
    "\n",
    "    model = MultiOutputRegressor(KNeighborsRegressor(n_neighbors=5, n_jobs=3))\n",
    "    model.fit(Xtrain_selected, ytrain_selected)\n",
    "    pred_dev = model.predict(Xdev)\n",
    "    mse_dev = mean_squared_error(ydev, pred_dev)\n",
    "    \n",
    "    results['data_size'] = i\n",
    "    results['Dev_mse'] = mse_dev\n",
    "    \n",
    "    knn_results.append(results)\n",
    "    \n",
    "    t2 = time.time()\n",
    "    print('used time in {} seconds.'.format(t2-t1))\n",
    "\n",
    "knn_df = pd.DataFrame(knn_results)\n",
    "# knn_df.to_csv('results_8.21/knn_results_with_5_neighbors')"
   ]
  },
  {
   "cell_type": "code",
   "execution_count": 22,
   "metadata": {},
   "outputs": [
    {
     "data": {
      "text/html": [
       "<div>\n",
       "<style scoped>\n",
       "    .dataframe tbody tr th:only-of-type {\n",
       "        vertical-align: middle;\n",
       "    }\n",
       "\n",
       "    .dataframe tbody tr th {\n",
       "        vertical-align: top;\n",
       "    }\n",
       "\n",
       "    .dataframe thead th {\n",
       "        text-align: right;\n",
       "    }\n",
       "</style>\n",
       "<table border=\"1\" class=\"dataframe\">\n",
       "  <thead>\n",
       "    <tr style=\"text-align: right;\">\n",
       "      <th></th>\n",
       "      <th>Dev_mse</th>\n",
       "      <th>data_size</th>\n",
       "    </tr>\n",
       "  </thead>\n",
       "  <tbody>\n",
       "    <tr>\n",
       "      <th>0</th>\n",
       "      <td>0.824889</td>\n",
       "      <td>0.00001</td>\n",
       "    </tr>\n",
       "    <tr>\n",
       "      <th>1</th>\n",
       "      <td>0.841055</td>\n",
       "      <td>0.00002</td>\n",
       "    </tr>\n",
       "    <tr>\n",
       "      <th>2</th>\n",
       "      <td>0.828403</td>\n",
       "      <td>0.00004</td>\n",
       "    </tr>\n",
       "  </tbody>\n",
       "</table>\n",
       "</div>"
      ],
      "text/plain": [
       "    Dev_mse  data_size\n",
       "0  0.824889    0.00001\n",
       "1  0.841055    0.00002\n",
       "2  0.828403    0.00004"
      ]
     },
     "execution_count": 22,
     "metadata": {},
     "output_type": "execute_result"
    }
   ],
   "source": [
    "rf_df"
   ]
  },
  {
   "cell_type": "code",
   "execution_count": 16,
   "metadata": {},
   "outputs": [
    {
     "data": {
      "text/html": [
       "<div>\n",
       "<style scoped>\n",
       "    .dataframe tbody tr th:only-of-type {\n",
       "        vertical-align: middle;\n",
       "    }\n",
       "\n",
       "    .dataframe tbody tr th {\n",
       "        vertical-align: top;\n",
       "    }\n",
       "\n",
       "    .dataframe thead th {\n",
       "        text-align: right;\n",
       "    }\n",
       "</style>\n",
       "<table border=\"1\" class=\"dataframe\">\n",
       "  <thead>\n",
       "    <tr style=\"text-align: right;\">\n",
       "      <th></th>\n",
       "      <th>Dev_mse</th>\n",
       "      <th>data_size</th>\n",
       "    </tr>\n",
       "  </thead>\n",
       "  <tbody>\n",
       "    <tr>\n",
       "      <th>0</th>\n",
       "      <td>0.824889</td>\n",
       "      <td>0.00001</td>\n",
       "    </tr>\n",
       "    <tr>\n",
       "      <th>1</th>\n",
       "      <td>0.841055</td>\n",
       "      <td>0.00002</td>\n",
       "    </tr>\n",
       "    <tr>\n",
       "      <th>2</th>\n",
       "      <td>0.828403</td>\n",
       "      <td>0.00004</td>\n",
       "    </tr>\n",
       "  </tbody>\n",
       "</table>\n",
       "</div>"
      ],
      "text/plain": [
       "    Dev_mse  data_size\n",
       "0  0.824889    0.00001\n",
       "1  0.841055    0.00002\n",
       "2  0.828403    0.00004"
      ]
     },
     "execution_count": 16,
     "metadata": {},
     "output_type": "execute_result"
    }
   ],
   "source": [
    "knn_df"
   ]
  },
  {
   "cell_type": "code",
   "execution_count": null,
   "metadata": {},
   "outputs": [],
   "source": []
  },
  {
   "cell_type": "code",
   "execution_count": 9,
   "metadata": {},
   "outputs": [],
   "source": [
    "def hyp_tuning(model_name, Xtrain, ytrain, Xdev, ydev):\n",
    "    best_results = {}\n",
    "    best_dev_mse = 1000\n",
    "    \n",
    "    for hyp in range(1, 10):\n",
    "        \n",
    "        print('='*20)\n",
    "        print('starting to compute hyp={}'.format(hyp))\n",
    "        \n",
    "        if model_name == 'KNN':\n",
    "            model = MultiOutputRegressor(KNeighborsRegressor(n_neighbors=hyp))\n",
    "        elif model_name == 'RF':\n",
    "            model = MultiOutputRegressor(RandomForestRegressor(n_estimators=hyp,\n",
    "                                                          #max_depth=max_depth,\n",
    "                                                          random_state=0))\n",
    "        else:\n",
    "            raise ValueError('Unknown model_name')                               \n",
    "\n",
    "        model.fit(Xtrain, ytrain)\n",
    "        \n",
    "        pred_train = model.predict(Xtrain)\n",
    "        mse_train = mean_squared_error(ytrain, pred_train)\n",
    "\n",
    "        pred_dev = model.predict(Xdev)\n",
    "        mse_dev = mean_squared_error(ydev, pred_dev)\n",
    "        \n",
    "        if mse_dev < best_dev_mse:\n",
    "            best_dev_mse = mse_dev\n",
    "            print('Up to now the best dev_mse is {}'.format(best_dev_mse))\n",
    "            print('and the associated training_mse is {}'.format(mse_train))\n",
    "            best_results['Dev_mse'] = best_dev_mse\n",
    "            best_results['Train_mse'] = mse_train\n",
    "            \n",
    "            best_model = model\n",
    "            best_hyp = hyp\n",
    "            \n",
    "    save_path = 'results/baseline_{}_with_{}.joblib'.format(model_name, best_hyp)\n",
    "    joblib.dump(best_model, save_path)\n",
    "    \n",
    "    return best_results"
   ]
  },
  {
   "cell_type": "code",
   "execution_count": null,
   "metadata": {},
   "outputs": [],
   "source": [
    "rf_best_model = joblib.load('results/baseline_KNN_with_7.joblib')"
   ]
  },
  {
   "cell_type": "code",
   "execution_count": 10,
   "metadata": {},
   "outputs": [
    {
     "name": "stdout",
     "output_type": "stream",
     "text": [
      "====================\n",
      "starting to compute hyp=1\n",
      "Up to now the best dev_mse is 0.10234985476743712\n",
      "and the associated training_mse is 0.0\n",
      "====================\n",
      "starting to compute hyp=2\n",
      "Up to now the best dev_mse is 0.08465692519429463\n",
      "and the associated training_mse is 0.42284243542451544\n",
      "====================\n",
      "starting to compute hyp=3\n",
      "====================\n",
      "starting to compute hyp=4\n",
      "====================\n",
      "starting to compute hyp=5\n",
      "Up to now the best dev_mse is 0.08393667070164451\n",
      "and the associated training_mse is 1.0140709275467523\n",
      "====================\n",
      "starting to compute hyp=6\n",
      "Up to now the best dev_mse is 0.07278864640279205\n",
      "and the associated training_mse is 1.0936818186322534\n",
      "====================\n",
      "starting to compute hyp=7\n",
      "Up to now the best dev_mse is 0.06818806633878849\n",
      "and the associated training_mse is 1.159180766788052\n",
      "====================\n",
      "starting to compute hyp=8\n",
      "====================\n",
      "starting to compute hyp=9\n"
     ]
    }
   ],
   "source": [
    "knn_best_results = hyp_tuning('KNN', Xtrain, ytrain, Xdev, ydev)"
   ]
  },
  {
   "cell_type": "code",
   "execution_count": 12,
   "metadata": {},
   "outputs": [
    {
     "data": {
      "text/plain": [
       "{'Dev_mse': 0.06818806633878849, 'Train_mse': 1.159180766788052}"
      ]
     },
     "execution_count": 12,
     "metadata": {},
     "output_type": "execute_result"
    }
   ],
   "source": [
    "knn_best_results"
   ]
  },
  {
   "cell_type": "code",
   "execution_count": 13,
   "metadata": {},
   "outputs": [
    {
     "name": "stdout",
     "output_type": "stream",
     "text": [
      "The test_mse of the best KNN model is 0.4914082589694498\n"
     ]
    }
   ],
   "source": [
    "knn_best_model = joblib.load('results/baseline_KNN_with_7.joblib')\n",
    "pred_test = knn_best_model.predict(Xtest)\n",
    "mse_test = mean_squared_error(ytest, pred_test)\n",
    "\n",
    "print('The test_mse of the best KNN model is {}'.format(mse_test))\n",
    "knn_best_results['Test_mse'] = mse_test"
   ]
  },
  {
   "cell_type": "code",
   "execution_count": 15,
   "metadata": {
    "scrolled": true
   },
   "outputs": [
    {
     "name": "stdout",
     "output_type": "stream",
     "text": [
      "====================\n",
      "starting to compute hyp=1\n",
      "Up to now the best dev_mse is 12.638849038595891\n",
      "and the associated training_mse is 0.40183168114755025\n",
      "====================\n",
      "starting to compute hyp=2\n",
      "Up to now the best dev_mse is 3.2075993008254264\n",
      "and the associated training_mse is 0.4701808003788381\n",
      "====================\n",
      "starting to compute hyp=3\n",
      "====================\n",
      "starting to compute hyp=4\n",
      "Up to now the best dev_mse is 3.155231662920647\n",
      "and the associated training_mse is 0.1241974961462712\n",
      "====================\n",
      "starting to compute hyp=5\n",
      "====================\n",
      "starting to compute hyp=6\n",
      "====================\n",
      "starting to compute hyp=7\n",
      "====================\n",
      "starting to compute hyp=8\n",
      "====================\n",
      "starting to compute hyp=9\n"
     ]
    }
   ],
   "source": [
    "rf_best_results = hyp_tuning('RF', Xtrain, ytrain, Xdev, ydev)"
   ]
  },
  {
   "cell_type": "code",
   "execution_count": 16,
   "metadata": {},
   "outputs": [
    {
     "data": {
      "text/plain": [
       "{'Dev_mse': 3.155231662920647, 'Train_mse': 0.1241974961462712}"
      ]
     },
     "execution_count": 16,
     "metadata": {},
     "output_type": "execute_result"
    }
   ],
   "source": [
    "rf_best_results"
   ]
  },
  {
   "cell_type": "code",
   "execution_count": 17,
   "metadata": {},
   "outputs": [
    {
     "name": "stdout",
     "output_type": "stream",
     "text": [
      "The test_mse of the best RF model is 12.011205353294924\n"
     ]
    }
   ],
   "source": [
    "rf_best_model = joblib.load('results/baseline_RF_with_4.joblib')\n",
    "pred_test = rf_best_model.predict(Xtest)\n",
    "mse_test = mean_squared_error(ytest, pred_test)\n",
    "\n",
    "print('The test_mse of the best RF model is {}'.format(mse_test))\n",
    "rf_best_results['Test_mse'] = mse_test"
   ]
  },
  {
   "cell_type": "markdown",
   "metadata": {},
   "source": [
    "## The Linear Regression Model"
   ]
  },
  {
   "cell_type": "code",
   "execution_count": 4,
   "metadata": {},
   "outputs": [
    {
     "name": "stdout",
     "output_type": "stream",
     "text": [
      "0.7145946130515584\n"
     ]
    }
   ],
   "source": [
    "regr_multilr = MultiOutputRegressor(LinearRegression())\n",
    "regr_multilr.fit(Xtrain, ytrain)\n",
    "# pred_train = regr_multilr.predict(Xtrain)\n",
    "# mse_train = mean_squared_error(ytrain, pred_train)\n",
    "\n",
    "pred_dev = regr_multilr.predict(Xdev)\n",
    "mse_dev = mean_squared_error(ydev, pred_dev)\n",
    "\n",
    "# pred_test = regr_multilr.predict(Xtest)\n",
    "# mse_test = mean_squared_error(ytest, pred_test)\n",
    "\n",
    "# lr_results = {}\n",
    "# lr_results['Dev_mse'] = mse_dev\n",
    "# lr_results['Train_mse'] = mse_train\n",
    "# lr_results['Test_mse'] = mse_test\n",
    "\n",
    "# joblib.dump(regr_multilr, 'results/baseline_LR.joblib')\n",
    "print(mse_dev)"
   ]
  },
  {
   "cell_type": "code",
   "execution_count": null,
   "metadata": {},
   "outputs": [],
   "source": []
  },
  {
   "cell_type": "code",
   "execution_count": null,
   "metadata": {},
   "outputs": [],
   "source": []
  },
  {
   "cell_type": "code",
   "execution_count": null,
   "metadata": {},
   "outputs": [],
   "source": []
  }
 ],
 "metadata": {
  "kernelspec": {
   "display_name": "Python 3",
   "language": "python",
   "name": "python3"
  },
  "language_info": {
   "codemirror_mode": {
    "name": "ipython",
    "version": 3
   },
   "file_extension": ".py",
   "mimetype": "text/x-python",
   "name": "python",
   "nbconvert_exporter": "python",
   "pygments_lexer": "ipython3",
   "version": "3.5.2"
  }
 },
 "nbformat": 4,
 "nbformat_minor": 2
}
