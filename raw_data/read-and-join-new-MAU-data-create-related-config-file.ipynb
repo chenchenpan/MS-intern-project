{
 "cells": [
  {
   "cell_type": "code",
   "execution_count": 1,
   "metadata": {},
   "outputs": [],
   "source": [
    "import numpy as np\n",
    "import pandas as pd\n",
    "import matplotlib.pyplot as plt\n",
    "import time\n",
    "import json\n",
    "# import xlrd\n",
    "pd.set_option('display.max_columns', None)"
   ]
  },
  {
   "cell_type": "markdown",
   "metadata": {},
   "source": [
    "## Preprocess the data (agian...)\n",
    "\n",
    "1. read the new MAU data and fill all the nan with 0.0\n",
    "2. join it with previous ready-to-use dataframe\n",
    "3. calculate the AR columns for 12 workloads\n",
    "4. convert NaN to 0.0 and INF to a real number\n",
    "5. clip the AR data to (0.0 to 1.0)\n",
    "6. seperate mature and young tenants\n",
    "7. create related configure file."
   ]
  },
  {
   "cell_type": "code",
   "execution_count": 21,
   "metadata": {},
   "outputs": [],
   "source": [
    "df_u = pd.read_csv('IDEAS_newMAU-2019-06.csv')"
   ]
  },
  {
   "cell_type": "code",
   "execution_count": 22,
   "metadata": {},
   "outputs": [
    {
     "data": {
      "text/html": [
       "<div>\n",
       "<style scoped>\n",
       "    .dataframe tbody tr th:only-of-type {\n",
       "        vertical-align: middle;\n",
       "    }\n",
       "\n",
       "    .dataframe tbody tr th {\n",
       "        vertical-align: top;\n",
       "    }\n",
       "\n",
       "    .dataframe thead th {\n",
       "        text-align: right;\n",
       "    }\n",
       "</style>\n",
       "<table border=\"1\" class=\"dataframe\">\n",
       "  <thead>\n",
       "    <tr style=\"text-align: right;\">\n",
       "      <th></th>\n",
       "      <th>TenantId</th>\n",
       "      <th>AU_eslt</th>\n",
       "      <th>AU_exchange</th>\n",
       "      <th>AU_excel</th>\n",
       "      <th>AU_oatp</th>\n",
       "      <th>AU_od4b</th>\n",
       "      <th>AU_odsp</th>\n",
       "      <th>AU_officeclient</th>\n",
       "      <th>AU_onenote</th>\n",
       "      <th>AU_outlook</th>\n",
       "      <th>AU_powerpoint</th>\n",
       "      <th>AU_sharepoint</th>\n",
       "      <th>AU_skype</th>\n",
       "      <th>AU_teams</th>\n",
       "      <th>AU_word</th>\n",
       "    </tr>\n",
       "  </thead>\n",
       "  <tbody>\n",
       "    <tr>\n",
       "      <th>0</th>\n",
       "      <td>00000000-0000-0000-0000-000000000000</td>\n",
       "      <td>NaN</td>\n",
       "      <td>NaN</td>\n",
       "      <td>NaN</td>\n",
       "      <td>NaN</td>\n",
       "      <td>NaN</td>\n",
       "      <td>NaN</td>\n",
       "      <td>9.0</td>\n",
       "      <td>NaN</td>\n",
       "      <td>9.0</td>\n",
       "      <td>NaN</td>\n",
       "      <td>NaN</td>\n",
       "      <td>NaN</td>\n",
       "      <td>NaN</td>\n",
       "      <td>NaN</td>\n",
       "    </tr>\n",
       "    <tr>\n",
       "      <th>1</th>\n",
       "      <td>00000051-56F4-4474-B2C0-68559D76E254</td>\n",
       "      <td>1.0</td>\n",
       "      <td>1.0</td>\n",
       "      <td>1.0</td>\n",
       "      <td>NaN</td>\n",
       "      <td>NaN</td>\n",
       "      <td>NaN</td>\n",
       "      <td>1.0</td>\n",
       "      <td>NaN</td>\n",
       "      <td>1.0</td>\n",
       "      <td>1.0</td>\n",
       "      <td>NaN</td>\n",
       "      <td>NaN</td>\n",
       "      <td>NaN</td>\n",
       "      <td>1.0</td>\n",
       "    </tr>\n",
       "    <tr>\n",
       "      <th>2</th>\n",
       "      <td>000001F9-6BCA-4027-A3A8-243B62FB52DE</td>\n",
       "      <td>1.0</td>\n",
       "      <td>1.0</td>\n",
       "      <td>NaN</td>\n",
       "      <td>NaN</td>\n",
       "      <td>NaN</td>\n",
       "      <td>NaN</td>\n",
       "      <td>1.0</td>\n",
       "      <td>NaN</td>\n",
       "      <td>1.0</td>\n",
       "      <td>NaN</td>\n",
       "      <td>NaN</td>\n",
       "      <td>NaN</td>\n",
       "      <td>NaN</td>\n",
       "      <td>NaN</td>\n",
       "    </tr>\n",
       "    <tr>\n",
       "      <th>3</th>\n",
       "      <td>0000072E-8DC0-43CB-8FEE-9B366176B190</td>\n",
       "      <td>1.0</td>\n",
       "      <td>1.0</td>\n",
       "      <td>2.0</td>\n",
       "      <td>NaN</td>\n",
       "      <td>1.0</td>\n",
       "      <td>1.0</td>\n",
       "      <td>2.0</td>\n",
       "      <td>NaN</td>\n",
       "      <td>2.0</td>\n",
       "      <td>NaN</td>\n",
       "      <td>NaN</td>\n",
       "      <td>NaN</td>\n",
       "      <td>NaN</td>\n",
       "      <td>2.0</td>\n",
       "    </tr>\n",
       "    <tr>\n",
       "      <th>4</th>\n",
       "      <td>00000875-0649-4EF7-BB1C-A7C090441EE3</td>\n",
       "      <td>1.0</td>\n",
       "      <td>NaN</td>\n",
       "      <td>NaN</td>\n",
       "      <td>NaN</td>\n",
       "      <td>NaN</td>\n",
       "      <td>NaN</td>\n",
       "      <td>NaN</td>\n",
       "      <td>NaN</td>\n",
       "      <td>NaN</td>\n",
       "      <td>NaN</td>\n",
       "      <td>NaN</td>\n",
       "      <td>NaN</td>\n",
       "      <td>1.0</td>\n",
       "      <td>NaN</td>\n",
       "    </tr>\n",
       "  </tbody>\n",
       "</table>\n",
       "</div>"
      ],
      "text/plain": [
       "                               TenantId  AU_eslt  AU_exchange  AU_excel  \\\n",
       "0  00000000-0000-0000-0000-000000000000      NaN          NaN       NaN   \n",
       "1  00000051-56F4-4474-B2C0-68559D76E254      1.0          1.0       1.0   \n",
       "2  000001F9-6BCA-4027-A3A8-243B62FB52DE      1.0          1.0       NaN   \n",
       "3  0000072E-8DC0-43CB-8FEE-9B366176B190      1.0          1.0       2.0   \n",
       "4  00000875-0649-4EF7-BB1C-A7C090441EE3      1.0          NaN       NaN   \n",
       "\n",
       "   AU_oatp  AU_od4b  AU_odsp  AU_officeclient  AU_onenote  AU_outlook  \\\n",
       "0      NaN      NaN      NaN              9.0         NaN         9.0   \n",
       "1      NaN      NaN      NaN              1.0         NaN         1.0   \n",
       "2      NaN      NaN      NaN              1.0         NaN         1.0   \n",
       "3      NaN      1.0      1.0              2.0         NaN         2.0   \n",
       "4      NaN      NaN      NaN              NaN         NaN         NaN   \n",
       "\n",
       "   AU_powerpoint  AU_sharepoint  AU_skype  AU_teams  AU_word  \n",
       "0            NaN            NaN       NaN       NaN      NaN  \n",
       "1            1.0            NaN       NaN       NaN      1.0  \n",
       "2            NaN            NaN       NaN       NaN      NaN  \n",
       "3            NaN            NaN       NaN       NaN      2.0  \n",
       "4            NaN            NaN       NaN       1.0      NaN  "
      ]
     },
     "execution_count": 22,
     "metadata": {},
     "output_type": "execute_result"
    }
   ],
   "source": [
    "df_u.head()"
   ]
  },
  {
   "cell_type": "code",
   "execution_count": 23,
   "metadata": {},
   "outputs": [],
   "source": [
    "df_u = df_u.iloc[1:, :]"
   ]
  },
  {
   "cell_type": "code",
   "execution_count": 24,
   "metadata": {},
   "outputs": [],
   "source": [
    "df_u.drop(['AU_oatp', 'AU_odsp'], axis=1, inplace=True)"
   ]
  },
  {
   "cell_type": "code",
   "execution_count": 25,
   "metadata": {},
   "outputs": [],
   "source": [
    "df_u = df_u.fillna(0.0)"
   ]
  },
  {
   "cell_type": "code",
   "execution_count": 26,
   "metadata": {},
   "outputs": [
    {
     "data": {
      "text/plain": [
       "(5207078, 13)"
      ]
     },
     "execution_count": 26,
     "metadata": {},
     "output_type": "execute_result"
    }
   ],
   "source": [
    "df_u.shape"
   ]
  },
  {
   "cell_type": "code",
   "execution_count": 27,
   "metadata": {},
   "outputs": [],
   "source": [
    "df_u = df_u[['TenantId', 'AU_exchange',\n",
    " 'AU_sharepoint',\n",
    " 'AU_skype',\n",
    " 'AU_teams',\n",
    " 'AU_od4b',\n",
    " 'AU_onenote',\n",
    " 'AU_word',\n",
    " 'AU_excel',\n",
    " 'AU_powerpoint',\n",
    " 'AU_outlook',\n",
    " 'AU_eslt',\n",
    " 'AU_officeclient']]"
   ]
  },
  {
   "cell_type": "code",
   "execution_count": 2,
   "metadata": {},
   "outputs": [
    {
     "name": "stderr",
     "output_type": "stream",
     "text": [
      "/data/home/t-chepan/env/newlab/lib/python3.5/site-packages/IPython/core/interactiveshell.py:3057: DtypeWarning: Columns (145,146) have mixed types. Specify dtype option on import or set low_memory=False.\n",
      "  interactivity=interactivity, compiler=compiler, result=result)\n"
     ]
    }
   ],
   "source": [
    "df_orig = pd.read_csv('TenantInfo-and-usage_shuffled_inf.csv')"
   ]
  },
  {
   "cell_type": "code",
   "execution_count": 3,
   "metadata": {},
   "outputs": [
    {
     "data": {
      "text/plain": [
       "(1865326, 228)"
      ]
     },
     "execution_count": 3,
     "metadata": {},
     "output_type": "execute_result"
    }
   ],
   "source": [
    "df_orig.shape"
   ]
  },
  {
   "cell_type": "code",
   "execution_count": 5,
   "metadata": {},
   "outputs": [
    {
     "data": {
      "text/plain": [
       "count     1865326\n",
       "unique          1\n",
       "top          True\n",
       "freq      1865326\n",
       "Name: HasNonTrial, dtype: object"
      ]
     },
     "execution_count": 5,
     "metadata": {},
     "output_type": "execute_result"
    }
   ],
   "source": [
    "df_orig['HasNonTrial'].describe()"
   ]
  },
  {
   "cell_type": "code",
   "execution_count": 28,
   "metadata": {},
   "outputs": [],
   "source": [
    "df = pd.merge(left=df_orig, right=df_u, on='TenantId',suffixes=('_06', '_06n'))"
   ]
  },
  {
   "cell_type": "code",
   "execution_count": 29,
   "metadata": {},
   "outputs": [
    {
     "data": {
      "text/plain": [
       "(1863984, 240)"
      ]
     },
     "execution_count": 29,
     "metadata": {},
     "output_type": "execute_result"
    }
   ],
   "source": [
    "df.shape"
   ]
  },
  {
   "cell_type": "code",
   "execution_count": 30,
   "metadata": {},
   "outputs": [],
   "source": [
    "cols_ps = ['PaidEXOSeats','PaidSPOSeats','PaidSFBSeats','PaidTeamsSeats',\n",
    "           'PaidOD4BSeats'] + ['PaidOfficeSeats']*5 +['PaidCount','PaidOfficeSeats']\n",
    "cols_au = df.columns.tolist()[-12:]"
   ]
  },
  {
   "cell_type": "code",
   "execution_count": 31,
   "metadata": {},
   "outputs": [
    {
     "data": {
      "text/plain": [
       "['AU_exchange_06n',\n",
       " 'AU_sharepoint_06n',\n",
       " 'AU_skype_06n',\n",
       " 'AU_teams_06n',\n",
       " 'AU_od4b_06n',\n",
       " 'AU_onenote_06n',\n",
       " 'AU_word_06n',\n",
       " 'AU_excel_06n',\n",
       " 'AU_powerpoint_06n',\n",
       " 'AU_outlook_06n',\n",
       " 'AU_eslt_06n',\n",
       " 'AU_officeclient_06n']"
      ]
     },
     "execution_count": 31,
     "metadata": {},
     "output_type": "execute_result"
    }
   ],
   "source": [
    "cols_au"
   ]
  },
  {
   "cell_type": "code",
   "execution_count": 32,
   "metadata": {},
   "outputs": [
    {
     "data": {
      "text/plain": [
       "['PaidEXOSeats',\n",
       " 'PaidSPOSeats',\n",
       " 'PaidSFBSeats',\n",
       " 'PaidTeamsSeats',\n",
       " 'PaidOD4BSeats',\n",
       " 'PaidOfficeSeats',\n",
       " 'PaidOfficeSeats',\n",
       " 'PaidOfficeSeats',\n",
       " 'PaidOfficeSeats',\n",
       " 'PaidOfficeSeats',\n",
       " 'PaidCount',\n",
       " 'PaidOfficeSeats']"
      ]
     },
     "execution_count": 32,
     "metadata": {},
     "output_type": "execute_result"
    }
   ],
   "source": [
    "cols_ps"
   ]
  },
  {
   "cell_type": "code",
   "execution_count": 34,
   "metadata": {},
   "outputs": [],
   "source": [
    "cols_ar = ['AR_exchange_06n',\n",
    " 'AR_sharepoint_06n',\n",
    " 'AR_skype_06n',\n",
    " 'AR_teams_06n',\n",
    " 'AR_od4b_06n',\n",
    " 'AR_onenote_06n',\n",
    " 'AR_word_06n',\n",
    " 'AR_excel_06n',\n",
    " 'AR_powerpoint_06n',\n",
    " 'AR_outlook_06n',\n",
    " 'AR_eslt_06n',\n",
    " 'AR_officeclient_06n']\n"
   ]
  },
  {
   "cell_type": "code",
   "execution_count": 35,
   "metadata": {},
   "outputs": [],
   "source": [
    "ar_list = list(zip(cols_ar, cols_au, cols_ps))"
   ]
  },
  {
   "cell_type": "code",
   "execution_count": 36,
   "metadata": {},
   "outputs": [
    {
     "name": "stdout",
     "output_type": "stream",
     "text": [
      "[('AR_exchange_06n', 'AU_exchange_06n', 'PaidEXOSeats'), ('AR_sharepoint_06n', 'AU_sharepoint_06n', 'PaidSPOSeats'), ('AR_skype_06n', 'AU_skype_06n', 'PaidSFBSeats'), ('AR_teams_06n', 'AU_teams_06n', 'PaidTeamsSeats'), ('AR_od4b_06n', 'AU_od4b_06n', 'PaidOD4BSeats'), ('AR_onenote_06n', 'AU_onenote_06n', 'PaidOfficeSeats'), ('AR_word_06n', 'AU_word_06n', 'PaidOfficeSeats'), ('AR_excel_06n', 'AU_excel_06n', 'PaidOfficeSeats'), ('AR_powerpoint_06n', 'AU_powerpoint_06n', 'PaidOfficeSeats'), ('AR_outlook_06n', 'AU_outlook_06n', 'PaidOfficeSeats'), ('AR_eslt_06n', 'AU_eslt_06n', 'PaidCount'), ('AR_officeclient_06n', 'AU_officeclient_06n', 'PaidOfficeSeats')]\n"
     ]
    }
   ],
   "source": [
    "print(ar_list)"
   ]
  },
  {
   "cell_type": "code",
   "execution_count": 37,
   "metadata": {},
   "outputs": [],
   "source": [
    "def compute_ar(df, ar_list):\n",
    "    for i in ar_list:\n",
    "        df[i[0]] = df[i[1]] / df[i[2]]\n",
    "    return df"
   ]
  },
  {
   "cell_type": "code",
   "execution_count": 38,
   "metadata": {},
   "outputs": [],
   "source": [
    "df_ar = compute_ar(df, ar_list)"
   ]
  },
  {
   "cell_type": "code",
   "execution_count": 39,
   "metadata": {},
   "outputs": [
    {
     "data": {
      "text/html": [
       "<div>\n",
       "<style scoped>\n",
       "    .dataframe tbody tr th:only-of-type {\n",
       "        vertical-align: middle;\n",
       "    }\n",
       "\n",
       "    .dataframe tbody tr th {\n",
       "        vertical-align: top;\n",
       "    }\n",
       "\n",
       "    .dataframe thead th {\n",
       "        text-align: right;\n",
       "    }\n",
       "</style>\n",
       "<table border=\"1\" class=\"dataframe\">\n",
       "  <thead>\n",
       "    <tr style=\"text-align: right;\">\n",
       "      <th></th>\n",
       "      <th>AR_exchange_06n</th>\n",
       "      <th>AR_sharepoint_06n</th>\n",
       "      <th>AR_skype_06n</th>\n",
       "      <th>AR_teams_06n</th>\n",
       "      <th>AR_od4b_06n</th>\n",
       "      <th>AR_onenote_06n</th>\n",
       "      <th>AR_word_06n</th>\n",
       "      <th>AR_excel_06n</th>\n",
       "      <th>AR_powerpoint_06n</th>\n",
       "      <th>AR_outlook_06n</th>\n",
       "      <th>AR_eslt_06n</th>\n",
       "      <th>AR_officeclient_06n</th>\n",
       "    </tr>\n",
       "  </thead>\n",
       "  <tbody>\n",
       "    <tr>\n",
       "      <th>0</th>\n",
       "      <td>0.500000</td>\n",
       "      <td>NaN</td>\n",
       "      <td>1.000000</td>\n",
       "      <td>NaN</td>\n",
       "      <td>NaN</td>\n",
       "      <td>NaN</td>\n",
       "      <td>NaN</td>\n",
       "      <td>NaN</td>\n",
       "      <td>NaN</td>\n",
       "      <td>inf</td>\n",
       "      <td>0.400000</td>\n",
       "      <td>inf</td>\n",
       "    </tr>\n",
       "    <tr>\n",
       "      <th>1</th>\n",
       "      <td>0.785714</td>\n",
       "      <td>0.010204</td>\n",
       "      <td>0.010204</td>\n",
       "      <td>0.010204</td>\n",
       "      <td>0.181818</td>\n",
       "      <td>inf</td>\n",
       "      <td>inf</td>\n",
       "      <td>inf</td>\n",
       "      <td>inf</td>\n",
       "      <td>inf</td>\n",
       "      <td>0.777778</td>\n",
       "      <td>inf</td>\n",
       "    </tr>\n",
       "    <tr>\n",
       "      <th>2</th>\n",
       "      <td>0.750000</td>\n",
       "      <td>0.000000</td>\n",
       "      <td>0.000000</td>\n",
       "      <td>0.000000</td>\n",
       "      <td>0.500000</td>\n",
       "      <td>inf</td>\n",
       "      <td>inf</td>\n",
       "      <td>inf</td>\n",
       "      <td>inf</td>\n",
       "      <td>inf</td>\n",
       "      <td>0.750000</td>\n",
       "      <td>inf</td>\n",
       "    </tr>\n",
       "    <tr>\n",
       "      <th>3</th>\n",
       "      <td>0.379310</td>\n",
       "      <td>0.034483</td>\n",
       "      <td>0.034483</td>\n",
       "      <td>0.137931</td>\n",
       "      <td>0.000000</td>\n",
       "      <td>NaN</td>\n",
       "      <td>inf</td>\n",
       "      <td>inf</td>\n",
       "      <td>inf</td>\n",
       "      <td>inf</td>\n",
       "      <td>0.482759</td>\n",
       "      <td>inf</td>\n",
       "    </tr>\n",
       "    <tr>\n",
       "      <th>4</th>\n",
       "      <td>0.916667</td>\n",
       "      <td>NaN</td>\n",
       "      <td>NaN</td>\n",
       "      <td>NaN</td>\n",
       "      <td>NaN</td>\n",
       "      <td>NaN</td>\n",
       "      <td>inf</td>\n",
       "      <td>inf</td>\n",
       "      <td>inf</td>\n",
       "      <td>inf</td>\n",
       "      <td>0.916667</td>\n",
       "      <td>inf</td>\n",
       "    </tr>\n",
       "    <tr>\n",
       "      <th>5</th>\n",
       "      <td>1.000000</td>\n",
       "      <td>NaN</td>\n",
       "      <td>NaN</td>\n",
       "      <td>NaN</td>\n",
       "      <td>NaN</td>\n",
       "      <td>NaN</td>\n",
       "      <td>NaN</td>\n",
       "      <td>NaN</td>\n",
       "      <td>NaN</td>\n",
       "      <td>inf</td>\n",
       "      <td>1.000000</td>\n",
       "      <td>inf</td>\n",
       "    </tr>\n",
       "    <tr>\n",
       "      <th>6</th>\n",
       "      <td>0.806630</td>\n",
       "      <td>0.085227</td>\n",
       "      <td>0.000000</td>\n",
       "      <td>0.131429</td>\n",
       "      <td>0.082418</td>\n",
       "      <td>inf</td>\n",
       "      <td>inf</td>\n",
       "      <td>inf</td>\n",
       "      <td>inf</td>\n",
       "      <td>inf</td>\n",
       "      <td>0.781915</td>\n",
       "      <td>inf</td>\n",
       "    </tr>\n",
       "    <tr>\n",
       "      <th>7</th>\n",
       "      <td>0.927711</td>\n",
       "      <td>NaN</td>\n",
       "      <td>NaN</td>\n",
       "      <td>NaN</td>\n",
       "      <td>NaN</td>\n",
       "      <td>inf</td>\n",
       "      <td>inf</td>\n",
       "      <td>inf</td>\n",
       "      <td>inf</td>\n",
       "      <td>inf</td>\n",
       "      <td>0.927711</td>\n",
       "      <td>inf</td>\n",
       "    </tr>\n",
       "    <tr>\n",
       "      <th>8</th>\n",
       "      <td>1.000000</td>\n",
       "      <td>0.000000</td>\n",
       "      <td>0.000000</td>\n",
       "      <td>0.000000</td>\n",
       "      <td>0.000000</td>\n",
       "      <td>NaN</td>\n",
       "      <td>inf</td>\n",
       "      <td>NaN</td>\n",
       "      <td>NaN</td>\n",
       "      <td>inf</td>\n",
       "      <td>1.000000</td>\n",
       "      <td>inf</td>\n",
       "    </tr>\n",
       "    <tr>\n",
       "      <th>9</th>\n",
       "      <td>1.000000</td>\n",
       "      <td>0.909091</td>\n",
       "      <td>0.000000</td>\n",
       "      <td>0.000000</td>\n",
       "      <td>0.363636</td>\n",
       "      <td>NaN</td>\n",
       "      <td>inf</td>\n",
       "      <td>inf</td>\n",
       "      <td>NaN</td>\n",
       "      <td>inf</td>\n",
       "      <td>1.000000</td>\n",
       "      <td>inf</td>\n",
       "    </tr>\n",
       "  </tbody>\n",
       "</table>\n",
       "</div>"
      ],
      "text/plain": [
       "   AR_exchange_06n  AR_sharepoint_06n  AR_skype_06n  AR_teams_06n  \\\n",
       "0         0.500000                NaN      1.000000           NaN   \n",
       "1         0.785714           0.010204      0.010204      0.010204   \n",
       "2         0.750000           0.000000      0.000000      0.000000   \n",
       "3         0.379310           0.034483      0.034483      0.137931   \n",
       "4         0.916667                NaN           NaN           NaN   \n",
       "5         1.000000                NaN           NaN           NaN   \n",
       "6         0.806630           0.085227      0.000000      0.131429   \n",
       "7         0.927711                NaN           NaN           NaN   \n",
       "8         1.000000           0.000000      0.000000      0.000000   \n",
       "9         1.000000           0.909091      0.000000      0.000000   \n",
       "\n",
       "   AR_od4b_06n  AR_onenote_06n  AR_word_06n  AR_excel_06n  AR_powerpoint_06n  \\\n",
       "0          NaN             NaN          NaN           NaN                NaN   \n",
       "1     0.181818             inf          inf           inf                inf   \n",
       "2     0.500000             inf          inf           inf                inf   \n",
       "3     0.000000             NaN          inf           inf                inf   \n",
       "4          NaN             NaN          inf           inf                inf   \n",
       "5          NaN             NaN          NaN           NaN                NaN   \n",
       "6     0.082418             inf          inf           inf                inf   \n",
       "7          NaN             inf          inf           inf                inf   \n",
       "8     0.000000             NaN          inf           NaN                NaN   \n",
       "9     0.363636             NaN          inf           inf                NaN   \n",
       "\n",
       "   AR_outlook_06n  AR_eslt_06n  AR_officeclient_06n  \n",
       "0             inf     0.400000                  inf  \n",
       "1             inf     0.777778                  inf  \n",
       "2             inf     0.750000                  inf  \n",
       "3             inf     0.482759                  inf  \n",
       "4             inf     0.916667                  inf  \n",
       "5             inf     1.000000                  inf  \n",
       "6             inf     0.781915                  inf  \n",
       "7             inf     0.927711                  inf  \n",
       "8             inf     1.000000                  inf  \n",
       "9             inf     1.000000                  inf  "
      ]
     },
     "execution_count": 39,
     "metadata": {},
     "output_type": "execute_result"
    }
   ],
   "source": [
    "df_ar.iloc[:10, -12:]"
   ]
  },
  {
   "cell_type": "code",
   "execution_count": 40,
   "metadata": {},
   "outputs": [],
   "source": [
    "# convert NaN to 0:\n",
    "df_ar.fillna(0.0, inplace=True)"
   ]
  },
  {
   "cell_type": "code",
   "execution_count": 44,
   "metadata": {},
   "outputs": [
    {
     "name": "stdout",
     "output_type": "stream",
     "text": [
      "Already complete coloumn AR_exchange_06n\n",
      "Already complete coloumn AR_sharepoint_06n\n",
      "Already complete coloumn AR_skype_06n\n",
      "Already complete coloumn AR_teams_06n\n",
      "Already complete coloumn AR_od4b_06n\n",
      "Already complete coloumn AR_onenote_06n\n",
      "Already complete coloumn AR_word_06n\n",
      "Already complete coloumn AR_excel_06n\n",
      "Already complete coloumn AR_powerpoint_06n\n",
      "Already complete coloumn AR_outlook_06n\n",
      "Already complete coloumn AR_eslt_06n\n",
      "Already complete coloumn AR_officeclient_06n\n",
      "0.21718072891235352\n"
     ]
    }
   ],
   "source": [
    "# convert inf to a numerical number:\n",
    "conv_list = list(zip(cols_ar, cols_au))\n",
    "\n",
    "t1 = time.time()\n",
    "for c in conv_list[:]:\n",
    "    df_ar[c[0]] = np.where(df_ar[c[0]] != np.inf, df_ar[c[0]], df_ar[c[1]]/df_ar['PaidCount'])\n",
    "    print('Already complete coloumn {}'.format(c[0]))\n",
    "t2 = time.time()\n",
    "print(t2 - t1)"
   ]
  },
  {
   "cell_type": "code",
   "execution_count": 45,
   "metadata": {},
   "outputs": [
    {
     "data": {
      "text/html": [
       "<div>\n",
       "<style scoped>\n",
       "    .dataframe tbody tr th:only-of-type {\n",
       "        vertical-align: middle;\n",
       "    }\n",
       "\n",
       "    .dataframe tbody tr th {\n",
       "        vertical-align: top;\n",
       "    }\n",
       "\n",
       "    .dataframe thead th {\n",
       "        text-align: right;\n",
       "    }\n",
       "</style>\n",
       "<table border=\"1\" class=\"dataframe\">\n",
       "  <thead>\n",
       "    <tr style=\"text-align: right;\">\n",
       "      <th></th>\n",
       "      <th>AR_exchange_06n</th>\n",
       "      <th>AR_sharepoint_06n</th>\n",
       "      <th>AR_skype_06n</th>\n",
       "      <th>AR_teams_06n</th>\n",
       "      <th>AR_od4b_06n</th>\n",
       "      <th>AR_onenote_06n</th>\n",
       "      <th>AR_word_06n</th>\n",
       "      <th>AR_excel_06n</th>\n",
       "      <th>AR_powerpoint_06n</th>\n",
       "      <th>AR_outlook_06n</th>\n",
       "      <th>AR_eslt_06n</th>\n",
       "      <th>AR_officeclient_06n</th>\n",
       "    </tr>\n",
       "  </thead>\n",
       "  <tbody>\n",
       "    <tr>\n",
       "      <th>0</th>\n",
       "      <td>0.500000</td>\n",
       "      <td>0.000000</td>\n",
       "      <td>1.000000</td>\n",
       "      <td>0.000000</td>\n",
       "      <td>0.000000</td>\n",
       "      <td>0.000000</td>\n",
       "      <td>0.000000</td>\n",
       "      <td>0.000000</td>\n",
       "      <td>0.000000</td>\n",
       "      <td>0.200000</td>\n",
       "      <td>0.400000</td>\n",
       "      <td>0.200000</td>\n",
       "    </tr>\n",
       "    <tr>\n",
       "      <th>1</th>\n",
       "      <td>0.785714</td>\n",
       "      <td>0.010204</td>\n",
       "      <td>0.010204</td>\n",
       "      <td>0.010204</td>\n",
       "      <td>0.181818</td>\n",
       "      <td>0.151515</td>\n",
       "      <td>0.444444</td>\n",
       "      <td>0.393939</td>\n",
       "      <td>0.373737</td>\n",
       "      <td>0.666667</td>\n",
       "      <td>0.777778</td>\n",
       "      <td>0.676768</td>\n",
       "    </tr>\n",
       "    <tr>\n",
       "      <th>2</th>\n",
       "      <td>0.750000</td>\n",
       "      <td>0.000000</td>\n",
       "      <td>0.000000</td>\n",
       "      <td>0.000000</td>\n",
       "      <td>0.500000</td>\n",
       "      <td>0.250000</td>\n",
       "      <td>0.500000</td>\n",
       "      <td>0.500000</td>\n",
       "      <td>0.250000</td>\n",
       "      <td>0.500000</td>\n",
       "      <td>0.750000</td>\n",
       "      <td>0.750000</td>\n",
       "    </tr>\n",
       "    <tr>\n",
       "      <th>3</th>\n",
       "      <td>0.379310</td>\n",
       "      <td>0.034483</td>\n",
       "      <td>0.034483</td>\n",
       "      <td>0.137931</td>\n",
       "      <td>0.000000</td>\n",
       "      <td>0.000000</td>\n",
       "      <td>0.241379</td>\n",
       "      <td>0.241379</td>\n",
       "      <td>0.137931</td>\n",
       "      <td>0.275862</td>\n",
       "      <td>0.482759</td>\n",
       "      <td>0.275862</td>\n",
       "    </tr>\n",
       "    <tr>\n",
       "      <th>4</th>\n",
       "      <td>0.916667</td>\n",
       "      <td>0.000000</td>\n",
       "      <td>0.000000</td>\n",
       "      <td>0.000000</td>\n",
       "      <td>0.000000</td>\n",
       "      <td>0.000000</td>\n",
       "      <td>0.416667</td>\n",
       "      <td>0.083333</td>\n",
       "      <td>0.083333</td>\n",
       "      <td>0.750000</td>\n",
       "      <td>0.916667</td>\n",
       "      <td>0.750000</td>\n",
       "    </tr>\n",
       "    <tr>\n",
       "      <th>5</th>\n",
       "      <td>1.000000</td>\n",
       "      <td>0.000000</td>\n",
       "      <td>0.000000</td>\n",
       "      <td>0.000000</td>\n",
       "      <td>0.000000</td>\n",
       "      <td>0.000000</td>\n",
       "      <td>0.000000</td>\n",
       "      <td>0.000000</td>\n",
       "      <td>0.000000</td>\n",
       "      <td>0.083333</td>\n",
       "      <td>1.000000</td>\n",
       "      <td>0.083333</td>\n",
       "    </tr>\n",
       "    <tr>\n",
       "      <th>6</th>\n",
       "      <td>0.806630</td>\n",
       "      <td>0.085227</td>\n",
       "      <td>0.000000</td>\n",
       "      <td>0.131429</td>\n",
       "      <td>0.082418</td>\n",
       "      <td>0.015957</td>\n",
       "      <td>0.281915</td>\n",
       "      <td>0.255319</td>\n",
       "      <td>0.132979</td>\n",
       "      <td>0.388298</td>\n",
       "      <td>0.781915</td>\n",
       "      <td>0.398936</td>\n",
       "    </tr>\n",
       "    <tr>\n",
       "      <th>7</th>\n",
       "      <td>0.927711</td>\n",
       "      <td>0.000000</td>\n",
       "      <td>0.000000</td>\n",
       "      <td>0.000000</td>\n",
       "      <td>0.000000</td>\n",
       "      <td>0.004016</td>\n",
       "      <td>0.092369</td>\n",
       "      <td>0.196787</td>\n",
       "      <td>0.008032</td>\n",
       "      <td>0.586345</td>\n",
       "      <td>0.927711</td>\n",
       "      <td>0.586345</td>\n",
       "    </tr>\n",
       "    <tr>\n",
       "      <th>8</th>\n",
       "      <td>1.000000</td>\n",
       "      <td>0.000000</td>\n",
       "      <td>0.000000</td>\n",
       "      <td>0.000000</td>\n",
       "      <td>0.000000</td>\n",
       "      <td>0.000000</td>\n",
       "      <td>0.666667</td>\n",
       "      <td>0.000000</td>\n",
       "      <td>0.000000</td>\n",
       "      <td>1.000000</td>\n",
       "      <td>1.000000</td>\n",
       "      <td>1.000000</td>\n",
       "    </tr>\n",
       "    <tr>\n",
       "      <th>9</th>\n",
       "      <td>1.000000</td>\n",
       "      <td>0.909091</td>\n",
       "      <td>0.000000</td>\n",
       "      <td>0.000000</td>\n",
       "      <td>0.363636</td>\n",
       "      <td>0.000000</td>\n",
       "      <td>0.818182</td>\n",
       "      <td>0.818182</td>\n",
       "      <td>0.000000</td>\n",
       "      <td>0.909091</td>\n",
       "      <td>1.000000</td>\n",
       "      <td>0.909091</td>\n",
       "    </tr>\n",
       "  </tbody>\n",
       "</table>\n",
       "</div>"
      ],
      "text/plain": [
       "   AR_exchange_06n  AR_sharepoint_06n  AR_skype_06n  AR_teams_06n  \\\n",
       "0         0.500000           0.000000      1.000000      0.000000   \n",
       "1         0.785714           0.010204      0.010204      0.010204   \n",
       "2         0.750000           0.000000      0.000000      0.000000   \n",
       "3         0.379310           0.034483      0.034483      0.137931   \n",
       "4         0.916667           0.000000      0.000000      0.000000   \n",
       "5         1.000000           0.000000      0.000000      0.000000   \n",
       "6         0.806630           0.085227      0.000000      0.131429   \n",
       "7         0.927711           0.000000      0.000000      0.000000   \n",
       "8         1.000000           0.000000      0.000000      0.000000   \n",
       "9         1.000000           0.909091      0.000000      0.000000   \n",
       "\n",
       "   AR_od4b_06n  AR_onenote_06n  AR_word_06n  AR_excel_06n  AR_powerpoint_06n  \\\n",
       "0     0.000000        0.000000     0.000000      0.000000           0.000000   \n",
       "1     0.181818        0.151515     0.444444      0.393939           0.373737   \n",
       "2     0.500000        0.250000     0.500000      0.500000           0.250000   \n",
       "3     0.000000        0.000000     0.241379      0.241379           0.137931   \n",
       "4     0.000000        0.000000     0.416667      0.083333           0.083333   \n",
       "5     0.000000        0.000000     0.000000      0.000000           0.000000   \n",
       "6     0.082418        0.015957     0.281915      0.255319           0.132979   \n",
       "7     0.000000        0.004016     0.092369      0.196787           0.008032   \n",
       "8     0.000000        0.000000     0.666667      0.000000           0.000000   \n",
       "9     0.363636        0.000000     0.818182      0.818182           0.000000   \n",
       "\n",
       "   AR_outlook_06n  AR_eslt_06n  AR_officeclient_06n  \n",
       "0        0.200000     0.400000             0.200000  \n",
       "1        0.666667     0.777778             0.676768  \n",
       "2        0.500000     0.750000             0.750000  \n",
       "3        0.275862     0.482759             0.275862  \n",
       "4        0.750000     0.916667             0.750000  \n",
       "5        0.083333     1.000000             0.083333  \n",
       "6        0.388298     0.781915             0.398936  \n",
       "7        0.586345     0.927711             0.586345  \n",
       "8        1.000000     1.000000             1.000000  \n",
       "9        0.909091     1.000000             0.909091  "
      ]
     },
     "execution_count": 45,
     "metadata": {},
     "output_type": "execute_result"
    }
   ],
   "source": [
    "df_ar.iloc[:10, -12:]"
   ]
  },
  {
   "cell_type": "code",
   "execution_count": 46,
   "metadata": {},
   "outputs": [
    {
     "data": {
      "text/plain": [
       "(1863984, 252)"
      ]
     },
     "execution_count": 46,
     "metadata": {},
     "output_type": "execute_result"
    }
   ],
   "source": [
    "df_ar.shape"
   ]
  },
  {
   "cell_type": "code",
   "execution_count": 51,
   "metadata": {},
   "outputs": [],
   "source": [
    "drop_cols = ['AR_exchange_04',\n",
    " 'AR_sharepoint_04',\n",
    " 'AR_skype_04',\n",
    " 'AR_teams_04',\n",
    " 'AR_od4b_04',\n",
    " 'AR_onenote_04',\n",
    " 'AR_word_04',\n",
    " 'AR_excel_04',\n",
    " 'AR_powerpoint_04',\n",
    " 'AR_outlook_04',\n",
    " 'AR_eslt_04',\n",
    " 'AR_officeclient_04'] + ['AR_exchange_05',\n",
    " 'AR_sharepoint_05',\n",
    " 'AR_skype_05',\n",
    " 'AR_teams_05',\n",
    " 'AR_od4b_05',\n",
    " 'AR_onenote_05',\n",
    " 'AR_word_05',\n",
    " 'AR_excel_05',\n",
    " 'AR_powerpoint_05',\n",
    " 'AR_outlook_05',\n",
    " 'AR_eslt_05',\n",
    " 'AR_officeclient_05'] + ['AR_exchange_06',\n",
    " 'AR_sharepoint_06',\n",
    " 'AR_skype_06',\n",
    " 'AR_teams_06',\n",
    " 'AR_od4b_06',\n",
    " 'AR_onenote_06',\n",
    " 'AR_word_06',\n",
    " 'AR_excel_06',\n",
    " 'AR_powerpoint_06',\n",
    " 'AR_outlook_06',\n",
    " 'AR_eslt_06',\n",
    " 'AR_officeclient_06'] + ['AU_exchange_04',\n",
    " 'AU_sharepoint_04',\n",
    " 'AU_skype_04',\n",
    " 'AU_teams_04',\n",
    " 'AU_od4b_04',\n",
    " 'AU_onenote_04',\n",
    " 'AU_word_04',\n",
    " 'AU_excel_04',\n",
    " 'AU_powerpoint_04',\n",
    " 'AU_outlook_04',\n",
    " 'AU_eslt_04',\n",
    " 'AU_officeclient_04',\n",
    " 'AU_exchange_05',\n",
    " 'AU_sharepoint_05',\n",
    " 'AU_skype_05',\n",
    " 'AU_teams_05',\n",
    " 'AU_od4b_05',\n",
    " 'AU_onenote_05',\n",
    " 'AU_word_05',\n",
    " 'AU_excel_05',\n",
    " 'AU_powerpoint_05',\n",
    " 'AU_outlook_05',\n",
    " 'AU_eslt_05',\n",
    " 'AU_officeclient_05',\n",
    " 'AU_exchange_06',\n",
    " 'AU_sharepoint_06',\n",
    " 'AU_skype_06',\n",
    " 'AU_teams_06',\n",
    " 'AU_od4b_06',\n",
    " 'AU_onenote_06',\n",
    " 'AU_word_06',\n",
    " 'AU_excel_06',\n",
    " 'AU_powerpoint_06',\n",
    " 'AU_outlook_06',\n",
    " 'AU_eslt_06',\n",
    " 'AU_officeclient_06'] +['AU_oatp_04','AU_odsp_04','AU_oatp_05','AU_odsp_05','AU_oatp','AU_odsp']"
   ]
  },
  {
   "cell_type": "code",
   "execution_count": 52,
   "metadata": {},
   "outputs": [
    {
     "data": {
      "text/plain": [
       "78"
      ]
     },
     "execution_count": 52,
     "metadata": {},
     "output_type": "execute_result"
    }
   ],
   "source": [
    "len(drop_cols)"
   ]
  },
  {
   "cell_type": "code",
   "execution_count": 54,
   "metadata": {},
   "outputs": [],
   "source": [
    "df_ar = df_ar.drop(columns=drop_cols)"
   ]
  },
  {
   "cell_type": "code",
   "execution_count": 55,
   "metadata": {},
   "outputs": [
    {
     "data": {
      "text/plain": [
       "(1863984, 174)"
      ]
     },
     "execution_count": 55,
     "metadata": {},
     "output_type": "execute_result"
    }
   ],
   "source": [
    "df_ar.shape"
   ]
  },
  {
   "cell_type": "markdown",
   "metadata": {},
   "source": [
    "## Seperate mature and young tenants"
   ]
  },
  {
   "cell_type": "code",
   "execution_count": 58,
   "metadata": {},
   "outputs": [],
   "source": [
    "def clip_wl_ar_cols(df, cols_ar):    \n",
    "\n",
    "    wl_arr = df.loc[:, cols_ar].to_numpy()\n",
    "    wl_clip = np.clip(wl_arr, 0.0, 1.0)\n",
    "\n",
    "    df.loc[:, cols_ar] = wl_clip\n",
    "    \n",
    "    return df"
   ]
  },
  {
   "cell_type": "code",
   "execution_count": 59,
   "metadata": {},
   "outputs": [],
   "source": [
    "df_clip = clip_wl_ar_cols(df_ar, cols_ar)"
   ]
  },
  {
   "cell_type": "code",
   "execution_count": 60,
   "metadata": {},
   "outputs": [],
   "source": [
    "df_clip.to_csv('TenantInfo-and-usage_wNewMAU_clip.csv', index=None)"
   ]
  },
  {
   "cell_type": "code",
   "execution_count": 61,
   "metadata": {},
   "outputs": [],
   "source": [
    "def split_mature_and_young(df, age=360):\n",
    "    df_mature = df.loc[df['Age'] >= age]\n",
    "    df_young = df.loc[df['Age'] < age]\n",
    "    \n",
    "    df_mature = df_mature.drop('Age', axis=1)\n",
    "    df_young = df_young.drop('Age', axis=1)\n",
    "    \n",
    "    print('full dataset shape is {}'.format(df.shape))\n",
    "    print('df_young shape is {}'.format(df_young.shape))\n",
    "    return df_mature, df_young"
   ]
  },
  {
   "cell_type": "code",
   "execution_count": 62,
   "metadata": {},
   "outputs": [
    {
     "name": "stdout",
     "output_type": "stream",
     "text": [
      "full dataset shape is (1863984, 174)\n",
      "df_young shape is (478619, 173)\n"
     ]
    }
   ],
   "source": [
    "df_c_mature, df_c_young = split_mature_and_young(df_clip) "
   ]
  },
  {
   "cell_type": "code",
   "execution_count": 63,
   "metadata": {},
   "outputs": [],
   "source": [
    "df_c_young = df_c_young.sample(frac=1.0)\n",
    "df_c_young.to_csv('TenantInfo-and-usage_wNewMAU_young_clip_shuffled.csv', index=None)"
   ]
  },
  {
   "cell_type": "code",
   "execution_count": 64,
   "metadata": {},
   "outputs": [],
   "source": [
    "df_c_mature = df_c_mature.sample(frac=1.0)\n",
    "df_c_mature.to_csv('TenantInfo-and-usage_wNewMAU_mature_clip_shuffled.csv', index=None)"
   ]
  },
  {
   "cell_type": "code",
   "execution_count": null,
   "metadata": {},
   "outputs": [],
   "source": []
  },
  {
   "cell_type": "code",
   "execution_count": null,
   "metadata": {},
   "outputs": [],
   "source": []
  },
  {
   "cell_type": "markdown",
   "metadata": {},
   "source": [
    "## Create the related configure file"
   ]
  },
  {
   "cell_type": "code",
   "execution_count": 56,
   "metadata": {},
   "outputs": [],
   "source": [
    "def get_input_details(df, input_cols, has_text_features=False):\n",
    "    \n",
    "    df_input = df.loc[:, input_cols]\n",
    "    print(len(input_cols))\n",
    "    \n",
    "    ## you can also hard code the different types of input features\n",
    "#     df_float = df_input.select_dtypes(include=['float'])\n",
    "#     input_float_cols = df_float.columns.tolist()\n",
    "    input_float_cols = []\n",
    "    \n",
    "    \n",
    "    input_int_cols = [\n",
    "        'AllupSeats',\n",
    "        'EXOSubscriptionsCount',\n",
    "        'OD4BSubscriptionsCount',\n",
    "        'SfBSubscriptionsCount',\n",
    "        'TeamsSubscriptionsCount',\n",
    "        'PaidCount',\n",
    "        'ProjectSubscriptionsCount',\n",
    "        'SPOSubscriptionsCount',\n",
    "        'ActivatedSubscriptionTotalCount',\n",
    "        'VisioSubscriptionsCount',\n",
    "        'TrialSubscriptionsCount',\n",
    "        'NonTrialSubscriptionsCount',\n",
    "        'EXOEnabledUsers',\n",
    "        'SPOEnabledUsers',\n",
    "        'OD4BEnabledUsers',\n",
    "        'SFBEnabledUsers',\n",
    "        'TeamEnabledUsers',\n",
    "        'YammerEnabledUsers',\n",
    "        'PPDEnabledUsers',\n",
    "        'KaizalaEnabledUsers',\n",
    "        'AADPEnabledUsers',\n",
    "        'AIPEnabledUsers',\n",
    "        'AATPEnabledUsers',\n",
    "        'IntuneEnabledUsers',\n",
    "        'MCASEnabledUsers',\n",
    "        'WDATPEnabledUsers',\n",
    "        'AudioConferenceEnabledUsers',\n",
    "        'PhoneSystemEnabledUsers',\n",
    "        'EdiscoveryEnabledUsers',\n",
    "        'ComplianceEnabledUsers ',\n",
    "        'ThreatIntelligenceEnabledUsers',\n",
    "        'CustomerLockboxEnabledUsers',\n",
    "        'OATPEnabledUsers',\n",
    "        'AADPP2EnabledUsers',\n",
    "        'AIPP2EnabledUsers',\n",
    "        'WindowsEnabledUsers ',\n",
    "        'O365CASEnabledUsers',\n",
    "        'CASDiscoveryEnabledUsers',\n",
    "        'PAMEnabledUsers',\n",
    "        'O365EnabledUsers',\n",
    "        'EMSEnabledUsers',\n",
    "        'M365EnabledUsers',\n",
    "        'O365E5EnabledUsers',\n",
    "        'EMSE5EnabledUsers',\n",
    "        'M365E5EnabledUsers',\n",
    "        'TotalUsers',\n",
    "        'PaidEXOSeats',\n",
    "        'PaidSPOSeats',\n",
    "        'PaidOD4BSeats',\n",
    "        'PaidYammerSeats',\n",
    "        'PaidTeamsSeats',\n",
    "        'PaidSFBSeats',\n",
    "        'PaidKaizalaSeats',\n",
    "        'PaidProplusSeats',\n",
    "        'PaidAADPSeats',\n",
    "        'PaidAIPSeats',\n",
    "        'PaidAATPSeats',\n",
    "        'PaidIntuneSeats',\n",
    "        'PaidMCASSeats',\n",
    "        'PaidWDATPSeats',\n",
    "        'PaidPhoneSystemSeats',\n",
    "        'PaidAIPP2Seats',\n",
    "        'PaidAudioConferenceSeats',\n",
    "        'PaidOATPSeats',\n",
    "        'PaidAADPP2Seats',\n",
    "        'PaidWindowsSeats',\n",
    "        'PaidO365CASSeats',\n",
    "        'PaidCASDiscoverySeats',\n",
    "        'PaidPAMSeats',\n",
    "        'PaidPowerBISeats',\n",
    "        'PaidPowerBIPremiumSeats',\n",
    "        'PaidPowerBIProSeats',\n",
    "        'PaidEMSSeats',\n",
    "        'PaidM365Seats',\n",
    "        'PaidOfficeSeats'\n",
    "        ]\n",
    "    \n",
    "    input_datetime_cols =  ['CreatedDate', 'CreateDateOfFirstSubscription','FirstPaidEXOStartDate',\n",
    "       'FirstPaidSPOStartDate', 'FirstPaidOD4BStartDate',\n",
    "       'FirstPaidSfBStartDate', 'FirstPaidTeamsStartDate', 'FirstPaidProPlusStartDate']\n",
    "    \n",
    "    input_categotical_cols = ['CountryCode', 'Languange', 'TopParents_Industry']\n",
    "    \n",
    "    df_bool = df_input.select_dtypes(include=['bool'])\n",
    "    input_bool_cols = df_bool.columns.tolist()\n",
    "    \n",
    "    if has_text_features == True:\n",
    "        input_text_cols = ['Comment', 'Theme']\n",
    "    else:\n",
    "        input_text_cols = []\n",
    "    \n",
    "    input_drop_cols = ['TenantId', 'FirstPaidYammerStartDate', 'FirstPaidAADPStartDate', 'FirstPaidAIPStartDate',\n",
    "       'FirstPaidAATPStartDate', 'FirstPaidIntuneStartDate',\n",
    "       'FirstPaidMCASStartDate', 'FirstPaidO365E5SkuStartDate',\n",
    "       'FirstPaidM365E5SkuStartDate', 'FirstPaidEMSE5SkuStartDate',\n",
    "       'DataCenterInstance', 'DataCenterModel',\n",
    "       'SignupLocationInfo_Country', 'SignupLocationInfo_CountryCode',\n",
    "       'SignupLocationInfo_Region', 'TopParents_AreaName',\n",
    "       'TopParents_CountryCode', 'TopParents_BigAreaName', \n",
    "       'TopParents_RegionName', 'OrgNameEnteredInCommerce',\n",
    "       'TopParents_SegmentGroup', 'TopParents_SubRegionName',\n",
    "       'TopParents_VerticalName'\n",
    "                      ]\n",
    "    \n",
    "    n = len(input_text_cols) + len(input_float_cols) + len(input_int_cols) + len(\n",
    "        input_categotical_cols) + len(input_bool_cols) + len(input_datetime_cols) + len(input_drop_cols)\n",
    "    \n",
    "    print(n)\n",
    "    print(len(input_cols))\n",
    "    \n",
    "    assert len(input_cols) ==  n\n",
    "    \n",
    "    return (input_text_cols, input_float_cols, input_int_cols, input_categotical_cols,\n",
    "            input_datetime_cols, input_bool_cols, input_drop_cols)\n",
    "\n",
    "    "
   ]
  },
  {
   "cell_type": "code",
   "execution_count": 57,
   "metadata": {},
   "outputs": [],
   "source": [
    "def separate_input_output_cols(df, has_text_features=False):\n",
    "    cols_name = pd.Series(data=df.columns)\n",
    "\n",
    "    ar_beg_col_index = cols_name[cols_name == 'AR_exchange_06n'].index[0]\n",
    "    ar_end_col_index = cols_name[cols_name == 'AR_officeclient_06n'].index[0]\n",
    "\n",
    "    au_beg_col_index = cols_name[cols_name == 'AU_exchange_06n'].index[0]\n",
    "    au_end_col_index = cols_name[cols_name == 'AU_officeclient_06n'].index[0]\n",
    "\n",
    "    wl_AR_cols = cols_name[ar_beg_col_index:ar_end_col_index+1].tolist()\n",
    "    wl_AU_cols = cols_name[au_beg_col_index:au_end_col_index+1].tolist()\n",
    "    \n",
    "    all_cols = cols_name.tolist()\n",
    "    \n",
    "    output_cols = wl_AR_cols\n",
    "    \n",
    "    # use profile info only, exclude the usage of previous months (exclude AR and AU)\n",
    "    input_cols = [x for x in all_cols if x not in (wl_AR_cols + wl_AU_cols)]\n",
    "    \n",
    "    (input_text_cols, input_float_cols, input_int_cols, input_categotical_cols, input_datetime_cols,\n",
    "     input_bool_cols, input_drop_cols) = get_input_details(df, input_cols, has_text_features=has_text_features)\n",
    "        \n",
    "        \n",
    "    print('There are {} inputs and {} outputs'.format(len(input_cols), len(output_cols)))\n",
    "    \n",
    "    n = len(input_text_cols) + len(input_float_cols) + len(input_int_cols) + len(input_categotical_cols) + len(\n",
    "        input_bool_cols) + len(input_datetime_cols) + len(input_drop_cols)\n",
    "    \n",
    "    print(len(input_float_cols))\n",
    "    print(n)\n",
    "    print(len(input_cols))\n",
    "    \n",
    "    \n",
    "    assert len(input_cols) ==  n\n",
    "    \n",
    "    return (input_cols, output_cols, input_text_cols, input_float_cols, input_int_cols,\n",
    "            input_categotical_cols, input_datetime_cols, input_bool_cols, input_drop_cols)"
   ]
  },
  {
   "cell_type": "code",
   "execution_count": 65,
   "metadata": {},
   "outputs": [],
   "source": [
    "df = pd.read_csv('TenantInfo-and-usage_wNewMAU_young_clip_shuffled.csv')"
   ]
  },
  {
   "cell_type": "code",
   "execution_count": 66,
   "metadata": {},
   "outputs": [
    {
     "name": "stdout",
     "output_type": "stream",
     "text": [
      "149\n",
      "149\n",
      "149\n",
      "There are 149 inputs and 12 outputs\n",
      "0\n",
      "149\n",
      "149\n"
     ]
    }
   ],
   "source": [
    "(input_cols, output_cols, input_text_cols, input_float_cols, input_int_cols,\n",
    " input_categotical_cols, input_datetime_cols, input_bool_cols, input_drop_cols) = separate_input_output_cols(df)\n",
    "\n",
    "## the basic configure file doesn't include the text features:\n",
    "\n",
    "metadata = {}\n",
    "metadata['input_features'] = input_cols\n",
    "metadata['output_label'] = output_cols\n",
    "metadata['input_text'] = input_text_cols\n",
    "metadata['input_float'] = input_float_cols\n",
    "metadata['input_int'] = input_int_cols\n",
    "metadata['input_categorical'] = input_categotical_cols\n",
    "metadata['input_datetime'] = input_datetime_cols\n",
    "metadata['input_bool'] = input_bool_cols\n",
    "metadata['input_drop'] = input_drop_cols\n",
    "\n"
   ]
  },
  {
   "cell_type": "code",
   "execution_count": 69,
   "metadata": {},
   "outputs": [],
   "source": [
    "with open('configure_wNewMAU.json', 'w') as f:\n",
    "    json.dump(metadata, f)"
   ]
  },
  {
   "cell_type": "code",
   "execution_count": null,
   "metadata": {},
   "outputs": [],
   "source": []
  }
 ],
 "metadata": {
  "kernelspec": {
   "display_name": "Python 3",
   "language": "python",
   "name": "python3"
  },
  "language_info": {
   "codemirror_mode": {
    "name": "ipython",
    "version": 3
   },
   "file_extension": ".py",
   "mimetype": "text/x-python",
   "name": "python",
   "nbconvert_exporter": "python",
   "pygments_lexer": "ipython3",
   "version": "3.5.2"
  }
 },
 "nbformat": 4,
 "nbformat_minor": 2
}
