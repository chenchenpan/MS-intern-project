{
 "cells": [
  {
   "cell_type": "code",
   "execution_count": 1,
   "metadata": {},
   "outputs": [],
   "source": [
    "import json\n",
    "import numpy as np\n",
    "import pandas as pd\n",
    "pd.set_option('display.max_columns', None)\n",
    "pd.set_option('display.max_rows', None)"
   ]
  },
  {
   "cell_type": "code",
   "execution_count": 2,
   "metadata": {},
   "outputs": [],
   "source": [
    "# with open('configure.json', 'r') as f:\n",
    "#     metadata = json.load(f)\n",
    "\n",
    "# metadata"
   ]
  },
  {
   "cell_type": "code",
   "execution_count": 3,
   "metadata": {},
   "outputs": [
    {
     "name": "stderr",
     "output_type": "stream",
     "text": [
      "/data/home/t-chepan/env/newlab/lib/python3.5/site-packages/IPython/core/interactiveshell.py:3057: DtypeWarning: Columns (145,146) have mixed types. Specify dtype option on import or set low_memory=False.\n",
      "  interactivity=interactivity, compiler=compiler, result=result)\n"
     ]
    }
   ],
   "source": [
    "df = pd.read_csv('/home/t-chepan/projects/MS-intern-project/raw_data/TenantInfo-and-usage_shuffled_inf.csv'#, nrows=1000\n",
    "                )"
   ]
  },
  {
   "cell_type": "code",
   "execution_count": 4,
   "metadata": {},
   "outputs": [],
   "source": [
    "# df_train = df.loc[df['Age'] >= 360]\n",
    "\n",
    "# df_train.Age.dtype"
   ]
  },
  {
   "cell_type": "code",
   "execution_count": 28,
   "metadata": {},
   "outputs": [],
   "source": [
    "def get_input_details(df, input_cols, has_text_features=False):\n",
    "    \n",
    "    df_input = df.loc[:, input_cols]\n",
    "    \n",
    "    ## you can also hard code the different types of input features\n",
    "#     df_float = df_input.select_dtypes(include=['float'])\n",
    "#     input_float_cols = df_float.columns.tolist()\n",
    "    input_float_cols = [\n",
    "        'AU_exchange_04',\n",
    "        'AU_sharepoint_04',\n",
    "        'AU_skype_04',\n",
    "        'AU_teams_04',\n",
    "        'AU_od4b_04',\n",
    "        'AU_onenote_04',\n",
    "        'AU_word_04',\n",
    "        'AU_excel_04',\n",
    "        'AU_powerpoint_04',\n",
    "        'AU_outlook_04',\n",
    "        'AU_oatp_04',\n",
    "        'AU_odsp_04',\n",
    "        'AU_eslt_04',\n",
    "        'AU_officeclient_04',\n",
    "        'AU_exchange_05',\n",
    "        'AU_sharepoint_05',\n",
    "        'AU_skype_05',\n",
    "        'AU_teams_05',\n",
    "        'AU_od4b_05',\n",
    "        'AU_onenote_05',\n",
    "        'AU_word_05',\n",
    "        'AU_excel_05',\n",
    "        'AU_powerpoint_05',\n",
    "        'AU_outlook_05',\n",
    "        'AU_oatp_05',\n",
    "        'AU_odsp_05',\n",
    "        'AU_eslt_05',\n",
    "        'AU_officeclient_05',\n",
    "        'AU_exchange',\n",
    "        'AU_sharepoint',\n",
    "        'AU_skype',\n",
    "        'AU_teams',\n",
    "        'AU_od4b',\n",
    "        'AU_onenote',\n",
    "        'AU_word',\n",
    "        'AU_excel',\n",
    "        'AU_powerpoint',\n",
    "        'AU_outlook',\n",
    "        'AU_oatp',\n",
    "        'AU_odsp',\n",
    "        'AU_eslt',\n",
    "        'AU_officeclient'\n",
    "        ]\n",
    "    \n",
    "    \n",
    "    input_int_cols = [\n",
    "        'AllupSeats',\n",
    "        'EXOSubscriptionsCount',\n",
    "        'OD4BSubscriptionsCount',\n",
    "        'SfBSubscriptionsCount',\n",
    "        'TeamsSubscriptionsCount',\n",
    "        'PaidCount',\n",
    "        'ProjectSubscriptionsCount',\n",
    "        'SPOSubscriptionsCount',\n",
    "        'ActivatedSubscriptionTotalCount',\n",
    "        'VisioSubscriptionsCount',\n",
    "        'TrialSubscriptionsCount',\n",
    "        'NonTrialSubscriptionsCount',\n",
    "        'EXOEnabledUsers',\n",
    "        'SPOEnabledUsers',\n",
    "        'OD4BEnabledUsers',\n",
    "        'SFBEnabledUsers',\n",
    "        'TeamEnabledUsers',\n",
    "        'YammerEnabledUsers',\n",
    "        'PPDEnabledUsers',\n",
    "        'KaizalaEnabledUsers',\n",
    "        'AADPEnabledUsers',\n",
    "        'AIPEnabledUsers',\n",
    "        'AATPEnabledUsers',\n",
    "        'IntuneEnabledUsers',\n",
    "        'MCASEnabledUsers',\n",
    "        'WDATPEnabledUsers',\n",
    "        'AudioConferenceEnabledUsers',\n",
    "        'PhoneSystemEnabledUsers',\n",
    "        'EdiscoveryEnabledUsers',\n",
    "        'ComplianceEnabledUsers ',\n",
    "        'ThreatIntelligenceEnabledUsers',\n",
    "        'CustomerLockboxEnabledUsers',\n",
    "        'OATPEnabledUsers',\n",
    "        'AADPP2EnabledUsers',\n",
    "        'AIPP2EnabledUsers',\n",
    "        'WindowsEnabledUsers ',\n",
    "        'O365CASEnabledUsers',\n",
    "        'CASDiscoveryEnabledUsers',\n",
    "        'PAMEnabledUsers',\n",
    "        'O365EnabledUsers',\n",
    "        'EMSEnabledUsers',\n",
    "        'M365EnabledUsers',\n",
    "        'O365E5EnabledUsers',\n",
    "        'EMSE5EnabledUsers',\n",
    "        'M365E5EnabledUsers',\n",
    "        'TotalUsers',\n",
    "        'PaidEXOSeats',\n",
    "        'PaidSPOSeats',\n",
    "        'PaidOD4BSeats',\n",
    "        'PaidYammerSeats',\n",
    "        'PaidTeamsSeats',\n",
    "        'PaidSFBSeats',\n",
    "        'PaidKaizalaSeats',\n",
    "        'PaidProplusSeats',\n",
    "        'PaidAADPSeats',\n",
    "        'PaidAIPSeats',\n",
    "        'PaidAATPSeats',\n",
    "        'PaidIntuneSeats',\n",
    "        'PaidMCASSeats',\n",
    "        'PaidWDATPSeats',\n",
    "        'PaidPhoneSystemSeats',\n",
    "        'PaidAIPP2Seats',\n",
    "        'PaidAudioConferenceSeats',\n",
    "        'PaidOATPSeats',\n",
    "        'PaidAADPP2Seats',\n",
    "        'PaidWindowsSeats',\n",
    "        'PaidO365CASSeats',\n",
    "        'PaidCASDiscoverySeats',\n",
    "        'PaidPAMSeats',\n",
    "        'PaidPowerBISeats',\n",
    "        'PaidPowerBIPremiumSeats',\n",
    "        'PaidPowerBIProSeats',\n",
    "        'PaidEMSSeats',\n",
    "        'PaidM365Seats',\n",
    "        'PaidOfficeSeats'\n",
    "        ]\n",
    "    \n",
    "    input_datetime_cols =  ['CreatedDate', 'CreateDateOfFirstSubscription','FirstPaidEXOStartDate',\n",
    "       'FirstPaidSPOStartDate', 'FirstPaidOD4BStartDate',\n",
    "       'FirstPaidSfBStartDate', 'FirstPaidTeamsStartDate', 'FirstPaidProPlusStartDate']\n",
    "    \n",
    "    input_categotical_cols = ['CountryCode', 'Languange', 'TopParents_Industry']\n",
    "    \n",
    "    df_bool = df_input.select_dtypes(include=['bool'])\n",
    "    input_bool_cols = df_bool.columns.tolist()\n",
    "    \n",
    "    if has_text_features == True:\n",
    "        input_text_cols = ['Comment', 'Theme']\n",
    "    else:\n",
    "        input_text_cols = []\n",
    "    \n",
    "    input_drop_cols = ['TenantId', 'FirstPaidYammerStartDate', 'FirstPaidAADPStartDate', 'FirstPaidAIPStartDate',\n",
    "       'FirstPaidAATPStartDate', 'FirstPaidIntuneStartDate',\n",
    "       'FirstPaidMCASStartDate', 'FirstPaidO365E5SkuStartDate',\n",
    "       'FirstPaidM365E5SkuStartDate', 'FirstPaidEMSE5SkuStartDate',\n",
    "       'DataCenterInstance', 'DataCenterModel',\n",
    "       'SignupLocationInfo_Country', 'SignupLocationInfo_CountryCode',\n",
    "       'SignupLocationInfo_Region', 'TopParents_AreaName',\n",
    "       'TopParents_CountryCode', 'TopParents_BigAreaName', \n",
    "       'TopParents_RegionName', 'OrgNameEnteredInCommerce',\n",
    "       'TopParents_SegmentGroup', 'TopParents_SubRegionName',\n",
    "       'TopParents_VerticalName', 'Age']\n",
    "    \n",
    "    n = len(input_text_cols) + len(input_float_cols) + len(input_int_cols) + len(input_categotical_cols) + len(\n",
    "        input_bool_cols) + len(input_datetime_cols) + len(input_drop_cols)\n",
    "    print(n)\n",
    "    print(len(input_cols))\n",
    "    \n",
    "    assert len(input_cols) ==  n\n",
    "    \n",
    "    return (input_text_cols, input_float_cols, input_int_cols, input_categotical_cols,\n",
    "            input_datetime_cols, input_bool_cols, input_drop_cols)\n",
    "\n",
    "    "
   ]
  },
  {
   "cell_type": "code",
   "execution_count": 43,
   "metadata": {},
   "outputs": [],
   "source": [
    "def separate_input_output_cols(df, predict_ahead=0, previous_usage=0, has_text_features=False):\n",
    "    cols_name = pd.Series(data=df.columns)\n",
    "\n",
    "    ar_04_beg_col_index = cols_name[cols_name == 'AR_exchange_04'].index[0]\n",
    "    ar_06_beg_col_index = cols_name[cols_name == 'AR_exchange_06'].index[0]\n",
    "    ar_06_end_col_index = cols_name[cols_name == 'AR_officeclient_06'].index[0]\n",
    "\n",
    "    au_06_beg_col_index = cols_name[cols_name == 'AU_exchange'].index[0]\n",
    "    au_06_end_col_index = cols_name[cols_name == 'AU_officeclient'].index[0]\n",
    "\n",
    "    au_06_cols = cols_name[au_06_beg_col_index : au_06_end_col_index+1].tolist()\n",
    "\n",
    "    wl_AR_cols = cols_name[ar_04_beg_col_index:ar_06_end_col_index+1].tolist()\n",
    "\n",
    "    output_cols = cols_name[ar_06_beg_col_index:ar_06_end_col_index+1].tolist()\n",
    "    \n",
    "    all_cols = cols_name.tolist()\n",
    "    \n",
    "    ### use profile info only, exclude the usage of previous months ###\n",
    "    input_cols = [x for x in all_cols if x not in wl_AR_cols]\n",
    "    \n",
    "    (input_text_cols, input_float_cols, input_int_cols, input_categotical_cols, input_datetime_cols,\n",
    "     input_bool_cols, input_drop_cols) = get_input_details(df, input_cols, has_text_features=has_text_features)\n",
    "\n",
    "    \n",
    "    if previous_usage == 1:\n",
    "    ## use profile info and the usage of previous 2 months ###\n",
    "        input_cols = [x for x in all_cols if x not in output_cols]\n",
    "        previous_ar = [x for x in wl_AR_cols if x not in output_cols]\n",
    "        input_float_cols += previous_ar\n",
    "\n",
    "    if predict_ahead == 1:\n",
    "    ### if we predict the usage at the beginning of the month, we should ###\n",
    "    ### exclude the active users' number for that month (June).          ###\n",
    "        input_cols = [x for x in input_cols if x not in au_06_cols]\n",
    "        input_float_cols = [x for x in input_float_cols if x not in au_06_cols]\n",
    "\n",
    "    print('There are {} inputs and {} outputs'.format(len(input_cols), len(output_cols)))\n",
    "    \n",
    "    n = len(input_text_cols) + len(input_float_cols) + len(input_int_cols) + len(input_categotical_cols) + len(\n",
    "        input_bool_cols) + len(input_datetime_cols) + len(input_drop_cols)\n",
    "    print(n)\n",
    "    print(len(input_cols))\n",
    "    \n",
    "    assert len(input_cols) ==  n\n",
    "    \n",
    "    return (input_cols, output_cols, input_text_cols, input_float_cols, input_int_cols,\n",
    "            input_categotical_cols, input_datetime_cols, input_bool_cols, input_drop_cols)"
   ]
  },
  {
   "cell_type": "code",
   "execution_count": 30,
   "metadata": {},
   "outputs": [
    {
     "name": "stdout",
     "output_type": "stream",
     "text": [
      "192\n",
      "192\n",
      "There are 192 inputs and 12 outputs\n",
      "192\n",
      "192\n"
     ]
    }
   ],
   "source": [
    "(input_cols, output_cols, input_text_cols, input_float_cols, input_int_cols,\n",
    " input_categotical_cols, input_datetime_cols, input_bool_cols, input_drop_cols) = separate_input_output_cols(df)"
   ]
  },
  {
   "cell_type": "code",
   "execution_count": 63,
   "metadata": {},
   "outputs": [
    {
     "name": "stdout",
     "output_type": "stream",
     "text": [
      "<class 'pandas.core.frame.DataFrame'>\n",
      "RangeIndex: 1865326 entries, 0 to 1865325\n",
      "Columns: 228 entries, TenantId to AR_officeclient_06\n",
      "dtypes: bool(40), float64(92), int64(62), object(34)\n",
      "memory usage: 2.7+ GB\n"
     ]
    }
   ],
   "source": [
    "df.info()"
   ]
  },
  {
   "cell_type": "markdown",
   "metadata": {},
   "source": [
    "## Tell metadata what the types of the input features.\n",
    "there are commonly 4 types of features:\n",
    "1. numerical features (float and int)\n",
    "2. object features (datetime and categorical)\n",
    "3. boolean features\n",
    "4. text features\n",
    "5. the features you want to drop\n"
   ]
  },
  {
   "cell_type": "code",
   "execution_count": 7,
   "metadata": {},
   "outputs": [
    {
     "name": "stdout",
     "output_type": "stream",
     "text": [
      "<class 'pandas.core.frame.DataFrame'>\n",
      "RangeIndex: 1865326 entries, 0 to 1865325\n",
      "Columns: 192 entries, TenantId to AU_officeclient\n",
      "dtypes: bool(40), float64(56), int64(62), object(34)\n",
      "memory usage: 2.2+ GB\n"
     ]
    }
   ],
   "source": [
    "df_input = df.loc[:, input_cols]\n",
    "df_input.info()"
   ]
  },
  {
   "cell_type": "code",
   "execution_count": 32,
   "metadata": {},
   "outputs": [
    {
     "data": {
      "text/plain": [
       "[]"
      ]
     },
     "execution_count": 32,
     "metadata": {},
     "output_type": "execute_result"
    }
   ],
   "source": [
    "## the basic configure file doesn't include the text features:\n",
    "\n",
    "metadata = {}\n",
    "metadata['input_features'] = input_cols\n",
    "metadata['output_label'] = output_cols\n",
    "metadata['input_text'] = input_text_cols\n",
    "metadata['input_float'] = input_float_cols\n",
    "metadata['input_int'] = input_int_cols\n",
    "metadata['input_categorical'] = input_categotical_cols\n",
    "metadata['input_datetime'] = input_datetime_cols\n",
    "metadata['input_bool'] = input_bool_cols\n",
    "metadata['input_drop'] = input_drop_cols\n",
    "\n",
    "\n",
    "metadata['input_text']"
   ]
  },
  {
   "cell_type": "code",
   "execution_count": 2,
   "metadata": {},
   "outputs": [],
   "source": [
    "## the configure.json is good to use, no need be changed\n",
    "\n",
    "# with open('configure.json', 'w') as f:\n",
    "#     json.dump(metadata, f)"
   ]
  },
  {
   "cell_type": "code",
   "execution_count": 73,
   "metadata": {},
   "outputs": [],
   "source": [
    "with open('configure.json', 'r') as f:\n",
    "    meta = json.load(f)"
   ]
  },
  {
   "cell_type": "code",
   "execution_count": 74,
   "metadata": {},
   "outputs": [
    {
     "data": {
      "text/plain": [
       "[]"
      ]
     },
     "execution_count": 74,
     "metadata": {},
     "output_type": "execute_result"
    }
   ],
   "source": [
    "meta['input_text']"
   ]
  },
  {
   "cell_type": "code",
   "execution_count": 75,
   "metadata": {},
   "outputs": [],
   "source": [
    "df_text = df.loc[:,meta['input_text']]"
   ]
  },
  {
   "cell_type": "code",
   "execution_count": 76,
   "metadata": {},
   "outputs": [
    {
     "data": {
      "text/plain": [
       "(1865326, 0)"
      ]
     },
     "execution_count": 76,
     "metadata": {},
     "output_type": "execute_result"
    }
   ],
   "source": [
    "df_text.shape"
   ]
  },
  {
   "cell_type": "markdown",
   "metadata": {},
   "source": [
    "## Create the other 4 configure files:\n",
    "1. previous_usage = 1, include previous usage data as input\n",
    "2. predict_ahead = 1, which means exclude the number of active users for current month\n",
    "3. previous_usage = 1 and predict_ahead = 1, combine the two above\n",
    "4. basic + text features"
   ]
  },
  {
   "cell_type": "code",
   "execution_count": 37,
   "metadata": {},
   "outputs": [
    {
     "name": "stdout",
     "output_type": "stream",
     "text": [
      "192\n",
      "192\n",
      "There are 216 inputs and 12 outputs\n",
      "216\n",
      "216\n",
      "[]\n"
     ]
    }
   ],
   "source": [
    "(input_cols, output_cols, input_text_cols, input_float, input_int, input_categotical,\n",
    " input_datetime, input_bool, input_drop) = separate_input_output_cols(df, previous_usage=1)\n",
    "\n",
    "metadata_1 = {}\n",
    "metadata_1['input_features'] = input_cols\n",
    "metadata_1['output_label'] = output_cols\n",
    "metadata_1['input_text'] = input_text_cols\n",
    "metadata_1['input_float'] = input_float\n",
    "metadata_1['input_int'] = input_int\n",
    "metadata_1['input_categorical'] = input_categotical\n",
    "metadata_1['input_datetime'] = input_datetime\n",
    "metadata_1['input_bool'] = input_bool\n",
    "metadata_1['input_drop'] = input_drop\n",
    "\n",
    "print(metadata_1['input_text'])\n",
    "\n",
    "with open('configure_wPreviousUsage_NotPredectAhead.json', 'w') as f:\n",
    "    json.dump(metadata_1, f)"
   ]
  },
  {
   "cell_type": "code",
   "execution_count": 38,
   "metadata": {},
   "outputs": [
    {
     "name": "stdout",
     "output_type": "stream",
     "text": [
      "192\n",
      "192\n",
      "There are 178 inputs and 12 outputs\n",
      "178\n",
      "178\n",
      "[]\n"
     ]
    }
   ],
   "source": [
    "(input_cols, output_cols, input_text_cols, input_float_cols, input_int_cols, input_categotical_cols,\n",
    " input_datetime_cols, input_bool_cols, input_drop_cols) = separate_input_output_cols(df, predict_ahead=1)\n",
    "\n",
    "metadata_2 = {}\n",
    "metadata_2['input_features'] = input_cols\n",
    "metadata_2['output_label'] = output_cols\n",
    "metadata_2['input_text'] = input_text_cols\n",
    "metadata_2['input_float'] = input_float_cols\n",
    "metadata_2['input_int'] = input_int_cols\n",
    "metadata_2['input_categorical'] = input_categotical_cols\n",
    "metadata_2['input_datetime'] = input_datetime_cols\n",
    "metadata_2['input_bool'] = input_bool_cols\n",
    "metadata_2['input_drop'] = input_drop_cols\n",
    "\n",
    "\n",
    "print(metadata_2['input_text'])\n",
    "\n",
    "with open('configure_woPreviousUsage_PredectAhead.json', 'w') as f:\n",
    "    json.dump(metadata_2, f)"
   ]
  },
  {
   "cell_type": "code",
   "execution_count": 40,
   "metadata": {},
   "outputs": [
    {
     "name": "stdout",
     "output_type": "stream",
     "text": [
      "192\n",
      "192\n",
      "There are 202 inputs and 12 outputs\n",
      "202\n",
      "202\n",
      "[]\n"
     ]
    }
   ],
   "source": [
    "(input_cols, output_cols, input_text_cols, input_float, input_int, input_categotical,\n",
    " input_datetime, input_bool, input_drop) = separate_input_output_cols(df, predict_ahead=1, previous_usage=1)\n",
    "\n",
    "\n",
    "metadata_3 = {}\n",
    "metadata_3['input_features'] = input_cols\n",
    "metadata_3['output_label'] = output_cols\n",
    "metadata_3['input_text'] = input_text_cols\n",
    "metadata_3['input_float'] = input_float\n",
    "metadata_3['input_int'] = input_int\n",
    "metadata_3['input_categotical'] = input_categotical\n",
    "metadata_3['input_datetime'] = input_datetime\n",
    "metadata_3['input_bool'] = input_bool\n",
    "metadata_3['input_drop'] = input_drop\n",
    "\n",
    "print(metadata_3['input_text'])\n",
    "\n",
    "\n",
    "with open('configure_wPreviousUsage_PredectAhead.json', 'w') as f:\n",
    "    json.dump(metadata_3, f)"
   ]
  },
  {
   "cell_type": "code",
   "execution_count": null,
   "metadata": {},
   "outputs": [],
   "source": []
  },
  {
   "cell_type": "code",
   "execution_count": 41,
   "metadata": {},
   "outputs": [],
   "source": [
    "df = pd.read_csv('/home/t-chepan/projects/MS-intern-project/raw_data/TenantInfo-usage-and-verbatim_shuffled_inf.csv'#, nrows=1000\n",
    "                )"
   ]
  },
  {
   "cell_type": "code",
   "execution_count": 44,
   "metadata": {},
   "outputs": [
    {
     "name": "stdout",
     "output_type": "stream",
     "text": [
      "194\n",
      "194\n",
      "There are 194 inputs and 12 outputs\n",
      "194\n",
      "194\n",
      "['Comment', 'Theme']\n"
     ]
    }
   ],
   "source": [
    "(input_cols, output_cols, input_text, input_float, input_int, input_categotical,\n",
    " input_datetime, input_bool, input_drop) = separate_input_output_cols(df, has_text_features=True)\n",
    "\n",
    "metadata_0 = {}\n",
    "metadata_0['input_features'] = input_cols\n",
    "metadata_0['output_label'] = output_cols\n",
    "metadata_0['input_text'] = input_text\n",
    "metadata_0['input_float'] = input_float\n",
    "metadata_0['input_int'] = input_int\n",
    "metadata_0['input_categorical'] = input_categotical\n",
    "metadata_0['input_datetime'] = input_datetime\n",
    "metadata_0['input_bool'] = input_bool\n",
    "metadata_0['input_drop'] = input_drop\n",
    "\n",
    "print(metadata_0['input_text'])\n",
    "\n",
    "with open('configure_wText_woPreviousUsage_NotPredectAhead.json', 'w') as f:\n",
    "    json.dump(metadata_0, f)"
   ]
  },
  {
   "cell_type": "code",
   "execution_count": null,
   "metadata": {},
   "outputs": [],
   "source": []
  },
  {
   "cell_type": "code",
   "execution_count": null,
   "metadata": {},
   "outputs": [],
   "source": []
  },
  {
   "cell_type": "code",
   "execution_count": null,
   "metadata": {},
   "outputs": [],
   "source": []
  }
 ],
 "metadata": {
  "kernelspec": {
   "display_name": "Python 3",
   "language": "python",
   "name": "python3"
  },
  "language_info": {
   "codemirror_mode": {
    "name": "ipython",
    "version": 3
   },
   "file_extension": ".py",
   "mimetype": "text/x-python",
   "name": "python",
   "nbconvert_exporter": "python",
   "pygments_lexer": "ipython3",
   "version": "3.5.2"
  }
 },
 "nbformat": 4,
 "nbformat_minor": 2
}
