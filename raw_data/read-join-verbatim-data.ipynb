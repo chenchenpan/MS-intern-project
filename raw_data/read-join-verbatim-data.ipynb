{
 "cells": [
  {
   "cell_type": "code",
   "execution_count": 110,
   "metadata": {},
   "outputs": [],
   "source": [
    "import gzip\n",
    "import csv\n",
    "import pandas as pd\n",
    "import json\n",
    "import matplotlib.pyplot as plt\n",
    "from sklearn import preprocessing\n",
    "from sklearn.feature_extraction import DictVectorizer \n",
    "\n",
    "pd.set_option('display.max_rows', None)\n",
    "pd.set_option('display.max_columns', None)\n",
    "pd.set_option('display.max_colwidth', 150)"
   ]
  },
  {
   "cell_type": "code",
   "execution_count": null,
   "metadata": {},
   "outputs": [],
   "source": [
    "df = pd.read_csv('raw_data/TenantInfo-and-usage_shuffled_inf.csv'#, nrows=1000\n",
    "                )\n"
   ]
  },
  {
   "cell_type": "code",
   "execution_count": null,
   "metadata": {},
   "outputs": [],
   "source": [
    "df.head()"
   ]
  },
  {
   "cell_type": "code",
   "execution_count": null,
   "metadata": {},
   "outputs": [],
   "source": [
    "df.shape"
   ]
  },
  {
   "cell_type": "code",
   "execution_count": null,
   "metadata": {},
   "outputs": [],
   "source": [
    "df_v =pd.read_csv('raw_data/verbatim.csv', sep='\"\"', delimiter='\\t', quotechar='\"',\n",
    "                  encoding='utf-16', error_bad_lines=False, skiprows=1, names=['TenantId','Comment', 'Theme'])\n",
    "\n",
    "df_v.dropna(inplace=True)\n",
    "df_v = df_v.loc[df_v['Theme'] !='null-0\"\"']"
   ]
  },
  {
   "cell_type": "code",
   "execution_count": null,
   "metadata": {
    "scrolled": false
   },
   "outputs": [],
   "source": [
    "df_v.info()"
   ]
  },
  {
   "cell_type": "code",
   "execution_count": null,
   "metadata": {},
   "outputs": [],
   "source": [
    "s = 'Commerce - Manage Subscriptions and Licenses (Add, Modify and Cancel)-0.172084481\"\"'"
   ]
  },
  {
   "cell_type": "code",
   "execution_count": null,
   "metadata": {},
   "outputs": [],
   "source": [
    "s_l = s.split('-')\n",
    "print(s_l)\n",
    "s_l[2]"
   ]
  },
  {
   "cell_type": "code",
   "execution_count": null,
   "metadata": {},
   "outputs": [],
   "source": [
    "df_v_fake = df_v.copy()\n",
    "df_v_fake.loc[df_v_fake['TenantId'] == '27299C40-0A78-4EAC-B101-DAD988D57031']\n",
    "# df_v_fake['workload'] = ''\n",
    "# df_v_fake['problem'] = ''\n",
    "# df_v_fake['score'] = ''\n",
    "for i, row in df_v_fake.iterrows():\n",
    "    id_str = row.TenantId\n",
    "    c_str = row.Comment\n",
    "    t_str = row.Theme\n",
    "    t = t_str[:-2]#.split('-')\n",
    "    row.TenantId = id_str[1:-3]\n",
    "    row.Comment = c_str[:-2]\n",
    "    row.Theme = t\n",
    "#     if len(t_list) == 3:\n",
    "#         row.workload = t_list[0][:-1]\n",
    "#         row.problem = t_list[1][1:]\n",
    "#         row.score = t_list[2][:-2]\n",
    "#     elif len(t_list) == 2:\n",
    "#         row.workload = 'missing wl'\n",
    "#         row.problem = t_list[0]\n",
    "#         row.score = t_list[1][:-2]\n",
    "#     else:\n",
    "#         print(i)"
   ]
  },
  {
   "cell_type": "code",
   "execution_count": null,
   "metadata": {},
   "outputs": [],
   "source": [
    "df_v_fake.head()"
   ]
  },
  {
   "cell_type": "code",
   "execution_count": null,
   "metadata": {},
   "outputs": [],
   "source": [
    "tenid = list(df['TenantId'])\n",
    "df_v_filter = df_v_fake.loc[df_v_fake['TenantId'].isin(tenid) & (df_v_fake['Comment'] != '') &\n",
    "                            ~df_v_fake.Comment.str.contains(\";&#\")]"
   ]
  },
  {
   "cell_type": "code",
   "execution_count": null,
   "metadata": {},
   "outputs": [],
   "source": [
    "df_v_filter.shape"
   ]
  },
  {
   "cell_type": "code",
   "execution_count": 75,
   "metadata": {},
   "outputs": [
    {
     "data": {
      "text/plain": [
       "161725"
      ]
     },
     "execution_count": 75,
     "metadata": {},
     "output_type": "execute_result"
    }
   ],
   "source": [
    "len(df_v_filter['TenantId'].unique())"
   ]
  },
  {
   "cell_type": "code",
   "execution_count": 76,
   "metadata": {},
   "outputs": [],
   "source": [
    "df_v_sorted = df_v_filter.sort_values('TenantId')\n",
    "df_v_sorted = df_v_sorted.reset_index()\n",
    "df_v_sorted = df_v_sorted.drop('index', axis=1)"
   ]
  },
  {
   "cell_type": "code",
   "execution_count": 77,
   "metadata": {
    "scrolled": false
   },
   "outputs": [
    {
     "data": {
      "text/html": [
       "<div>\n",
       "<style scoped>\n",
       "    .dataframe tbody tr th:only-of-type {\n",
       "        vertical-align: middle;\n",
       "    }\n",
       "\n",
       "    .dataframe tbody tr th {\n",
       "        vertical-align: top;\n",
       "    }\n",
       "\n",
       "    .dataframe thead th {\n",
       "        text-align: right;\n",
       "    }\n",
       "</style>\n",
       "<table border=\"1\" class=\"dataframe\">\n",
       "  <thead>\n",
       "    <tr style=\"text-align: right;\">\n",
       "      <th></th>\n",
       "      <th>TenantId</th>\n",
       "      <th>Comment</th>\n",
       "      <th>Theme</th>\n",
       "    </tr>\n",
       "  </thead>\n",
       "  <tbody>\n",
       "    <tr>\n",
       "      <th>0</th>\n",
       "      <td>00019767-249C-4208-9E68-4CFBBF916A71</td>\n",
       "      <td>great service</td>\n",
       "      <td>Admin - Manage my users, groups and resources</td>\n",
       "    </tr>\n",
       "    <tr>\n",
       "      <th>1</th>\n",
       "      <td>0001FB27-F238-4468-A6B4-E259F0A3C91A</td>\n",
       "      <td>He was great thank you</td>\n",
       "      <td>Skype - Setup and use Skype services</td>\n",
       "    </tr>\n",
       "    <tr>\n",
       "      <th>2</th>\n",
       "      <td>0001FCBE-E449-467F-B72F-9C9D2BFB924A</td>\n",
       "      <td>Maygan was very patient</td>\n",
       "      <td>Admin - Setup domain and DNS settings for Office 365</td>\n",
       "    </tr>\n",
       "    <tr>\n",
       "      <th>3</th>\n",
       "      <td>00029D24-E453-4E43-9C67-DAE820456AFF</td>\n",
       "      <td>Was a pleasure to work with and knowledgeable</td>\n",
       "      <td>IP - Transport, Org Compliance and Org Security</td>\n",
       "    </tr>\n",
       "    <tr>\n",
       "      <th>4</th>\n",
       "      <td>00029D24-E453-4E43-9C67-DAE820456AFF</td>\n",
       "      <td>Was a pleasure to work with and was knowledgeable</td>\n",
       "      <td>IP - Transport, Org Compliance and Org Security</td>\n",
       "    </tr>\n",
       "  </tbody>\n",
       "</table>\n",
       "</div>"
      ],
      "text/plain": [
       "                               TenantId  \\\n",
       "0  00019767-249C-4208-9E68-4CFBBF916A71   \n",
       "1  0001FB27-F238-4468-A6B4-E259F0A3C91A   \n",
       "2  0001FCBE-E449-467F-B72F-9C9D2BFB924A   \n",
       "3  00029D24-E453-4E43-9C67-DAE820456AFF   \n",
       "4  00029D24-E453-4E43-9C67-DAE820456AFF   \n",
       "\n",
       "                                             Comment  \\\n",
       "0                                      great service   \n",
       "1                             He was great thank you   \n",
       "2                            Maygan was very patient   \n",
       "3      Was a pleasure to work with and knowledgeable   \n",
       "4  Was a pleasure to work with and was knowledgeable   \n",
       "\n",
       "                                                  Theme  \n",
       "0         Admin - Manage my users, groups and resources  \n",
       "1                  Skype - Setup and use Skype services  \n",
       "2  Admin - Setup domain and DNS settings for Office 365  \n",
       "3       IP - Transport, Org Compliance and Org Security  \n",
       "4       IP - Transport, Org Compliance and Org Security  "
      ]
     },
     "execution_count": 77,
     "metadata": {},
     "output_type": "execute_result"
    }
   ],
   "source": [
    "df_v_sorted.head()"
   ]
  },
  {
   "cell_type": "code",
   "execution_count": 78,
   "metadata": {},
   "outputs": [],
   "source": [
    "df_v_try = df_v_sorted.copy()\n",
    "\n",
    "df_v_try_1 = df_v_try.groupby('TenantId')['Comment'].apply(' '.join).reset_index()\n",
    "df_v_try_2 = df_v_try.groupby('TenantId')['Theme'].apply(' '.join).reset_index()\n",
    "\n",
    "df_v_com = df_v_try_1.merge(df_v_try_2, on='TenantId')"
   ]
  },
  {
   "cell_type": "code",
   "execution_count": 79,
   "metadata": {},
   "outputs": [
    {
     "data": {
      "text/plain": [
       "(161725, 3)"
      ]
     },
     "execution_count": 79,
     "metadata": {},
     "output_type": "execute_result"
    }
   ],
   "source": [
    "df_v_com.shape"
   ]
  },
  {
   "cell_type": "code",
   "execution_count": 80,
   "metadata": {
    "scrolled": true
   },
   "outputs": [
    {
     "data": {
      "text/html": [
       "<div>\n",
       "<style scoped>\n",
       "    .dataframe tbody tr th:only-of-type {\n",
       "        vertical-align: middle;\n",
       "    }\n",
       "\n",
       "    .dataframe tbody tr th {\n",
       "        vertical-align: top;\n",
       "    }\n",
       "\n",
       "    .dataframe thead th {\n",
       "        text-align: right;\n",
       "    }\n",
       "</style>\n",
       "<table border=\"1\" class=\"dataframe\">\n",
       "  <thead>\n",
       "    <tr style=\"text-align: right;\">\n",
       "      <th></th>\n",
       "      <th>TenantId</th>\n",
       "      <th>Comment</th>\n",
       "      <th>Theme</th>\n",
       "    </tr>\n",
       "  </thead>\n",
       "  <tbody>\n",
       "  </tbody>\n",
       "</table>\n",
       "</div>"
      ],
      "text/plain": [
       "Empty DataFrame\n",
       "Columns: [TenantId, Comment, Theme]\n",
       "Index: []"
      ]
     },
     "execution_count": 80,
     "metadata": {},
     "output_type": "execute_result"
    }
   ],
   "source": [
    "df_v_com.loc[df_v_com['TenantId'] == '27299C40-0A78-4EAC-B101-DAD988D57031']"
   ]
  },
  {
   "cell_type": "code",
   "execution_count": 81,
   "metadata": {},
   "outputs": [
    {
     "data": {
      "text/html": [
       "<div>\n",
       "<style scoped>\n",
       "    .dataframe tbody tr th:only-of-type {\n",
       "        vertical-align: middle;\n",
       "    }\n",
       "\n",
       "    .dataframe tbody tr th {\n",
       "        vertical-align: top;\n",
       "    }\n",
       "\n",
       "    .dataframe thead th {\n",
       "        text-align: right;\n",
       "    }\n",
       "</style>\n",
       "<table border=\"1\" class=\"dataframe\">\n",
       "  <thead>\n",
       "    <tr style=\"text-align: right;\">\n",
       "      <th></th>\n",
       "      <th>TenantId</th>\n",
       "      <th>Comment</th>\n",
       "      <th>Theme</th>\n",
       "    </tr>\n",
       "  </thead>\n",
       "  <tbody>\n",
       "  </tbody>\n",
       "</table>\n",
       "</div>"
      ],
      "text/plain": [
       "Empty DataFrame\n",
       "Columns: [TenantId, Comment, Theme]\n",
       "Index: []"
      ]
     },
     "execution_count": 81,
     "metadata": {},
     "output_type": "execute_result"
    }
   ],
   "source": [
    "df_v_filter.loc[df_v_filter['Comment'] == '']"
   ]
  },
  {
   "cell_type": "code",
   "execution_count": null,
   "metadata": {},
   "outputs": [],
   "source": []
  },
  {
   "cell_type": "code",
   "execution_count": 82,
   "metadata": {},
   "outputs": [
    {
     "data": {
      "text/plain": [
       "'My experience was great, very helpfull employee and was patient and knew what he was doing, true professional!'"
      ]
     },
     "execution_count": 82,
     "metadata": {},
     "output_type": "execute_result"
    }
   ],
   "source": [
    "df_v_com.iloc[29700, 1]"
   ]
  },
  {
   "cell_type": "code",
   "execution_count": 83,
   "metadata": {},
   "outputs": [
    {
     "name": "stdout",
     "output_type": "stream",
     "text": [
      "<class 'pandas.core.frame.DataFrame'>\n",
      "Int64Index: 161725 entries, 0 to 161724\n",
      "Data columns (total 3 columns):\n",
      "TenantId    161725 non-null object\n",
      "Comment     161725 non-null object\n",
      "Theme       161725 non-null object\n",
      "dtypes: object(3)\n",
      "memory usage: 9.9+ MB\n"
     ]
    }
   ],
   "source": [
    "df_v_com.info()"
   ]
  },
  {
   "cell_type": "code",
   "execution_count": 84,
   "metadata": {},
   "outputs": [
    {
     "data": {
      "text/html": [
       "<div>\n",
       "<style scoped>\n",
       "    .dataframe tbody tr th:only-of-type {\n",
       "        vertical-align: middle;\n",
       "    }\n",
       "\n",
       "    .dataframe tbody tr th {\n",
       "        vertical-align: top;\n",
       "    }\n",
       "\n",
       "    .dataframe thead th {\n",
       "        text-align: right;\n",
       "    }\n",
       "</style>\n",
       "<table border=\"1\" class=\"dataframe\">\n",
       "  <thead>\n",
       "    <tr style=\"text-align: right;\">\n",
       "      <th></th>\n",
       "      <th>TenantId</th>\n",
       "      <th>Comment</th>\n",
       "      <th>Theme</th>\n",
       "    </tr>\n",
       "  </thead>\n",
       "  <tbody>\n",
       "    <tr>\n",
       "      <th>0</th>\n",
       "      <td>00019767-249C-4208-9E68-4CFBBF916A71</td>\n",
       "      <td>great service</td>\n",
       "      <td>Admin - Manage my users, groups and resources</td>\n",
       "    </tr>\n",
       "    <tr>\n",
       "      <th>1</th>\n",
       "      <td>0001FB27-F238-4468-A6B4-E259F0A3C91A</td>\n",
       "      <td>He was great thank you</td>\n",
       "      <td>Skype - Setup and use Skype services</td>\n",
       "    </tr>\n",
       "    <tr>\n",
       "      <th>2</th>\n",
       "      <td>0001FCBE-E449-467F-B72F-9C9D2BFB924A</td>\n",
       "      <td>Maygan was very patient</td>\n",
       "      <td>Admin - Setup domain and DNS settings for Office 365</td>\n",
       "    </tr>\n",
       "    <tr>\n",
       "      <th>3</th>\n",
       "      <td>00029D24-E453-4E43-9C67-DAE820456AFF</td>\n",
       "      <td>Was a pleasure to work with and knowledgeable Was a pleasure to work with and was knowledgeable</td>\n",
       "      <td>IP - Transport, Org Compliance and Org Security IP - Transport, Org Compliance and Org Security</td>\n",
       "    </tr>\n",
       "    <tr>\n",
       "      <th>4</th>\n",
       "      <td>0002D497-6351-416B-A000-80F7DAB22567</td>\n",
       "      <td>It was good to understand about CNAME</td>\n",
       "      <td>Keep mailboxes free of spam and viruses</td>\n",
       "    </tr>\n",
       "  </tbody>\n",
       "</table>\n",
       "</div>"
      ],
      "text/plain": [
       "                               TenantId  \\\n",
       "0  00019767-249C-4208-9E68-4CFBBF916A71   \n",
       "1  0001FB27-F238-4468-A6B4-E259F0A3C91A   \n",
       "2  0001FCBE-E449-467F-B72F-9C9D2BFB924A   \n",
       "3  00029D24-E453-4E43-9C67-DAE820456AFF   \n",
       "4  0002D497-6351-416B-A000-80F7DAB22567   \n",
       "\n",
       "                                                                                           Comment  \\\n",
       "0                                                                                    great service   \n",
       "1                                                                           He was great thank you   \n",
       "2                                                                          Maygan was very patient   \n",
       "3  Was a pleasure to work with and knowledgeable Was a pleasure to work with and was knowledgeable   \n",
       "4                                                            It was good to understand about CNAME   \n",
       "\n",
       "                                                                                             Theme  \n",
       "0                                                    Admin - Manage my users, groups and resources  \n",
       "1                                                             Skype - Setup and use Skype services  \n",
       "2                                             Admin - Setup domain and DNS settings for Office 365  \n",
       "3  IP - Transport, Org Compliance and Org Security IP - Transport, Org Compliance and Org Security  \n",
       "4                                                          Keep mailboxes free of spam and viruses  "
      ]
     },
     "execution_count": 84,
     "metadata": {},
     "output_type": "execute_result"
    }
   ],
   "source": [
    "df_v_com.head()"
   ]
  },
  {
   "cell_type": "markdown",
   "metadata": {},
   "source": [
    "## Join TenantInfo-and-usage_shuffled_inf.csv file and verbatim.csv file."
   ]
  },
  {
   "cell_type": "code",
   "execution_count": 85,
   "metadata": {},
   "outputs": [
    {
     "data": {
      "text/plain": [
       "(1865326, 228)"
      ]
     },
     "execution_count": 85,
     "metadata": {},
     "output_type": "execute_result"
    }
   ],
   "source": [
    "df.shape"
   ]
  },
  {
   "cell_type": "code",
   "execution_count": 86,
   "metadata": {},
   "outputs": [],
   "source": [
    "df_all  = df_v_com.merge(df, on='TenantId')"
   ]
  },
  {
   "cell_type": "code",
   "execution_count": 87,
   "metadata": {},
   "outputs": [
    {
     "data": {
      "text/plain": [
       "(161725, 230)"
      ]
     },
     "execution_count": 87,
     "metadata": {},
     "output_type": "execute_result"
    }
   ],
   "source": [
    "df_all.shape"
   ]
  },
  {
   "cell_type": "code",
   "execution_count": 88,
   "metadata": {},
   "outputs": [],
   "source": [
    "df_all = df_all.sample(frac=1.0)"
   ]
  },
  {
   "cell_type": "code",
   "execution_count": 89,
   "metadata": {},
   "outputs": [
    {
     "name": "stdout",
     "output_type": "stream",
     "text": [
      "<class 'pandas.core.frame.DataFrame'>\n",
      "Int64Index: 161725 entries, 67729 to 3968\n",
      "Data columns (total 2 columns):\n",
      "Comment    161725 non-null object\n",
      "Theme      161725 non-null object\n",
      "dtypes: object(2)\n",
      "memory usage: 3.7+ MB\n"
     ]
    }
   ],
   "source": [
    "df_all[['Comment', 'Theme']].info()"
   ]
  },
  {
   "cell_type": "code",
   "execution_count": 90,
   "metadata": {},
   "outputs": [],
   "source": [
    "df_all.to_csv('raw_data/TenantInfo-usage-and-verbatim_shuffled_inf.csv', quotechar='\"', index=False)"
   ]
  },
  {
   "cell_type": "code",
   "execution_count": 91,
   "metadata": {},
   "outputs": [],
   "source": [
    "read_df = pd.read_csv('raw_data/TenantInfo-usage-and-verbatim_shuffled_inf.csv')"
   ]
  },
  {
   "cell_type": "code",
   "execution_count": 108,
   "metadata": {},
   "outputs": [],
   "source": [
    "# read_df.head()"
   ]
  },
  {
   "cell_type": "code",
   "execution_count": 96,
   "metadata": {},
   "outputs": [],
   "source": [
    "read_df_ = read_df.loc[:, ['Comment', 'Theme']]"
   ]
  },
  {
   "cell_type": "code",
   "execution_count": 102,
   "metadata": {},
   "outputs": [
    {
     "name": "stdout",
     "output_type": "stream",
     "text": [
      "<class 'pandas.core.frame.DataFrame'>\n",
      "Int64Index: 161345 entries, 0 to 161724\n",
      "Data columns (total 2 columns):\n",
      "Comment    161345 non-null object\n",
      "Theme      161345 non-null object\n",
      "dtypes: object(2)\n",
      "memory usage: 3.7+ MB\n"
     ]
    }
   ],
   "source": [
    "read_df_.dropna().info()"
   ]
  },
  {
   "cell_type": "code",
   "execution_count": 106,
   "metadata": {},
   "outputs": [],
   "source": [
    "read_df.dropna(inplace=True)"
   ]
  },
  {
   "cell_type": "code",
   "execution_count": 107,
   "metadata": {},
   "outputs": [
    {
     "name": "stdout",
     "output_type": "stream",
     "text": [
      "<class 'pandas.core.frame.DataFrame'>\n",
      "Int64Index: 161345 entries, 0 to 161724\n",
      "Columns: 230 entries, TenantId to AR_officeclient_06\n",
      "dtypes: bool(40), float64(92), int64(62), object(36)\n",
      "memory usage: 241.3+ MB\n"
     ]
    }
   ],
   "source": [
    "read_df.info()"
   ]
  },
  {
   "cell_type": "code",
   "execution_count": 109,
   "metadata": {},
   "outputs": [],
   "source": [
    "read_df.to_csv('raw_data/TenantInfo-usage-and-verbatim_shuffled_inf.csv', quotechar='\"', index=False)"
   ]
  },
  {
   "cell_type": "code",
   "execution_count": null,
   "metadata": {},
   "outputs": [],
   "source": []
  }
 ],
 "metadata": {
  "kernelspec": {
   "display_name": "Python 3",
   "language": "python",
   "name": "python3"
  },
  "language_info": {
   "codemirror_mode": {
    "name": "ipython",
    "version": 3
   },
   "file_extension": ".py",
   "mimetype": "text/x-python",
   "name": "python",
   "nbconvert_exporter": "python",
   "pygments_lexer": "ipython3",
   "version": "3.5.2"
  }
 },
 "nbformat": 4,
 "nbformat_minor": 2
}
