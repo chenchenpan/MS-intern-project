{
 "cells": [
  {
   "cell_type": "code",
   "execution_count": 1,
   "metadata": {},
   "outputs": [],
   "source": [
    "import pandas as pd\n",
    "import numpy as np\n",
    "import matplotlib.pyplot as plt\n",
    "import time\n",
    "from sklearn import preprocessing\n",
    "from sklearn.utils import shuffle\n",
    "from sklearn.model_selection import train_test_split\n",
    "from sklearn.preprocessing import StandardScaler\n",
    "from sklearn.feature_extraction import DictVectorizer\n",
    "from sklearn.neighbors import KNeighborsRegressor\n",
    "from sklearn.linear_model import LinearRegression\n",
    "from sklearn.ensemble import RandomForestRegressor\n",
    "from sklearn.metrics import confusion_matrix, mean_squared_error, log_loss, accuracy_score\n",
    "\n",
    "\n",
    "pd.set_option('display.max_columns', None)\n",
    "pd.set_option('display.max_rows', None)"
   ]
  },
  {
   "cell_type": "code",
   "execution_count": 2,
   "metadata": {},
   "outputs": [
    {
     "data": {
      "text/plain": [
       "'0.24.2'"
      ]
     },
     "execution_count": 2,
     "metadata": {},
     "output_type": "execute_result"
    }
   ],
   "source": [
    "pd.__version__"
   ]
  },
  {
   "cell_type": "code",
   "execution_count": 3,
   "metadata": {},
   "outputs": [],
   "source": [
    "df = pd.read_csv('TenantInfo-and-usage_shuffled_inf.csv', nrows=100)"
   ]
  },
  {
   "cell_type": "code",
   "execution_count": 4,
   "metadata": {},
   "outputs": [
    {
     "data": {
      "text/plain": [
       "(100, 228)"
      ]
     },
     "execution_count": 4,
     "metadata": {},
     "output_type": "execute_result"
    }
   ],
   "source": [
    "df.shape"
   ]
  },
  {
   "cell_type": "code",
   "execution_count": 5,
   "metadata": {},
   "outputs": [
    {
     "data": {
      "text/plain": [
       "['TenantId',\n",
       " 'CreatedDate',\n",
       " 'CreateDateOfFirstSubscription',\n",
       " 'CountryCode',\n",
       " 'AllupSeats',\n",
       " 'EXOSubscriptionsCount',\n",
       " 'OD4BSubscriptionsCount',\n",
       " 'SfBSubscriptionsCount',\n",
       " 'TeamsSubscriptionsCount',\n",
       " 'PaidCount',\n",
       " 'ProjectSubscriptionsCount',\n",
       " 'SPOSubscriptionsCount',\n",
       " 'ActivatedSubscriptionTotalCount',\n",
       " 'VisioSubscriptionsCount',\n",
       " 'TrialSubscriptionsCount',\n",
       " 'NonTrialSubscriptionsCount',\n",
       " 'Languange',\n",
       " 'DataCenterInstance',\n",
       " 'DataCenterModel',\n",
       " 'HasEXO',\n",
       " 'HasSPO',\n",
       " 'HasOD4B',\n",
       " 'HasSfB',\n",
       " 'HasYammer',\n",
       " 'HasTeams',\n",
       " 'HasTeamsFreemium',\n",
       " 'HasKaizala',\n",
       " 'HasProPlus',\n",
       " 'HasAADP',\n",
       " 'HasAIP',\n",
       " 'HasAATP',\n",
       " 'HasIntune',\n",
       " 'HasMCAS',\n",
       " 'HasWDATP',\n",
       " 'HasAudioConference',\n",
       " 'HasPhoneSystem',\n",
       " 'HasEdiscovery',\n",
       " 'HasCompliance',\n",
       " 'HasThreatIntelligence',\n",
       " 'HasCustomerLockbox',\n",
       " 'HasOATP',\n",
       " 'HasAADPP2',\n",
       " 'HasAIPP2',\n",
       " 'HasWindows',\n",
       " 'HasO365CAS',\n",
       " 'HasCASDiscovery',\n",
       " 'HasPAM',\n",
       " 'HasPowerBI',\n",
       " 'HasPowerBIPremium',\n",
       " 'HasPowerBIPro',\n",
       " 'HasVisio',\n",
       " 'HasProject',\n",
       " 'HasNonTrial',\n",
       " 'HasSubscription_AllCounted',\n",
       " 'WithoutTenantAdmin',\n",
       " 'OrgNameEnteredInCommerce',\n",
       " 'HasPartnerTenants',\n",
       " 'SignupLocationInfo_Country',\n",
       " 'SignupLocationInfo_CountryCode',\n",
       " 'SignupLocationInfo_Region',\n",
       " 'Subscriptions_HasPaidSeats',\n",
       " 'TopParents_AreaName',\n",
       " 'TopParents_BigAreaName',\n",
       " 'TopParents_CountryCode',\n",
       " 'TopParents_Industry',\n",
       " 'TopParents_RegionName',\n",
       " 'TopParents_SegmentGroup',\n",
       " 'TopParents_SubRegionName',\n",
       " 'TopParents_VerticalName',\n",
       " 'EXOEnabledUsers',\n",
       " 'SPOEnabledUsers',\n",
       " 'OD4BEnabledUsers',\n",
       " 'SFBEnabledUsers',\n",
       " 'TeamEnabledUsers',\n",
       " 'YammerEnabledUsers',\n",
       " 'PPDEnabledUsers',\n",
       " 'KaizalaEnabledUsers',\n",
       " 'AADPEnabledUsers',\n",
       " 'AIPEnabledUsers',\n",
       " 'AATPEnabledUsers',\n",
       " 'IntuneEnabledUsers',\n",
       " 'MCASEnabledUsers',\n",
       " 'WDATPEnabledUsers',\n",
       " 'AudioConferenceEnabledUsers',\n",
       " 'PhoneSystemEnabledUsers',\n",
       " 'EdiscoveryEnabledUsers',\n",
       " 'ComplianceEnabledUsers ',\n",
       " 'ThreatIntelligenceEnabledUsers',\n",
       " 'CustomerLockboxEnabledUsers',\n",
       " 'OATPEnabledUsers',\n",
       " 'AADPP2EnabledUsers',\n",
       " 'AIPP2EnabledUsers',\n",
       " 'WindowsEnabledUsers ',\n",
       " 'O365CASEnabledUsers',\n",
       " 'CASDiscoveryEnabledUsers',\n",
       " 'PAMEnabledUsers',\n",
       " 'O365EnabledUsers',\n",
       " 'EMSEnabledUsers',\n",
       " 'M365EnabledUsers',\n",
       " 'O365E5EnabledUsers',\n",
       " 'EMSE5EnabledUsers',\n",
       " 'M365E5EnabledUsers',\n",
       " 'TotalUsers',\n",
       " 'PaidEXOSeats',\n",
       " 'PaidSPOSeats',\n",
       " 'PaidOD4BSeats',\n",
       " 'PaidYammerSeats',\n",
       " 'PaidTeamsSeats',\n",
       " 'PaidSFBSeats',\n",
       " 'PaidKaizalaSeats',\n",
       " 'PaidProplusSeats',\n",
       " 'PaidAADPSeats',\n",
       " 'PaidAIPSeats',\n",
       " 'PaidAATPSeats',\n",
       " 'PaidIntuneSeats',\n",
       " 'PaidMCASSeats',\n",
       " 'PaidWDATPSeats',\n",
       " 'PaidAudioConferenceSeats',\n",
       " 'PaidPhoneSystemSeats',\n",
       " 'PaidOATPSeats',\n",
       " 'PaidAADPP2Seats',\n",
       " 'PaidAIPP2Seats',\n",
       " 'PaidWindowsSeats',\n",
       " 'PaidO365CASSeats',\n",
       " 'PaidCASDiscoverySeats',\n",
       " 'PaidPAMSeats',\n",
       " 'PaidPowerBISeats',\n",
       " 'PaidPowerBIPremiumSeats',\n",
       " 'PaidPowerBIProSeats',\n",
       " 'PaidEMSSeats',\n",
       " 'PaidM365Seats',\n",
       " 'PaidOfficeSeats',\n",
       " 'HasUsGovCloudOffer',\n",
       " 'FirstPaidEXOStartDate',\n",
       " 'FirstPaidSPOStartDate',\n",
       " 'FirstPaidOD4BStartDate',\n",
       " 'FirstPaidSfBStartDate',\n",
       " 'FirstPaidYammerStartDate',\n",
       " 'FirstPaidTeamsStartDate',\n",
       " 'FirstPaidProPlusStartDate',\n",
       " 'FirstPaidAADPStartDate',\n",
       " 'FirstPaidAIPStartDate',\n",
       " 'FirstPaidAATPStartDate',\n",
       " 'FirstPaidIntuneStartDate',\n",
       " 'FirstPaidMCASStartDate',\n",
       " 'FirstPaidO365E5SkuStartDate',\n",
       " 'FirstPaidM365E5SkuStartDate',\n",
       " 'FirstPaidEMSE5SkuStartDate',\n",
       " 'Has1YearFreeDomain',\n",
       " 'Age',\n",
       " 'AU_exchange_04',\n",
       " 'AU_sharepoint_04',\n",
       " 'AU_skype_04',\n",
       " 'AU_teams_04',\n",
       " 'AU_od4b_04',\n",
       " 'AU_onenote_04',\n",
       " 'AU_word_04',\n",
       " 'AU_excel_04',\n",
       " 'AU_powerpoint_04',\n",
       " 'AU_outlook_04',\n",
       " 'AU_oatp_04',\n",
       " 'AU_odsp_04',\n",
       " 'AU_eslt_04',\n",
       " 'AU_officeclient_04',\n",
       " 'AU_exchange_05',\n",
       " 'AU_sharepoint_05',\n",
       " 'AU_skype_05',\n",
       " 'AU_teams_05',\n",
       " 'AU_od4b_05',\n",
       " 'AU_onenote_05',\n",
       " 'AU_word_05',\n",
       " 'AU_excel_05',\n",
       " 'AU_powerpoint_05',\n",
       " 'AU_outlook_05',\n",
       " 'AU_oatp_05',\n",
       " 'AU_odsp_05',\n",
       " 'AU_eslt_05',\n",
       " 'AU_officeclient_05',\n",
       " 'AU_exchange',\n",
       " 'AU_sharepoint',\n",
       " 'AU_skype',\n",
       " 'AU_teams',\n",
       " 'AU_od4b',\n",
       " 'AU_onenote',\n",
       " 'AU_word',\n",
       " 'AU_excel',\n",
       " 'AU_powerpoint',\n",
       " 'AU_outlook',\n",
       " 'AU_oatp',\n",
       " 'AU_odsp',\n",
       " 'AU_eslt',\n",
       " 'AU_officeclient',\n",
       " 'AR_exchange_04',\n",
       " 'AR_sharepoint_04',\n",
       " 'AR_skype_04',\n",
       " 'AR_teams_04',\n",
       " 'AR_od4b_04',\n",
       " 'AR_onenote_04',\n",
       " 'AR_word_04',\n",
       " 'AR_excel_04',\n",
       " 'AR_powerpoint_04',\n",
       " 'AR_outlook_04',\n",
       " 'AR_eslt_04',\n",
       " 'AR_officeclient_04',\n",
       " 'AR_exchange_05',\n",
       " 'AR_sharepoint_05',\n",
       " 'AR_skype_05',\n",
       " 'AR_teams_05',\n",
       " 'AR_od4b_05',\n",
       " 'AR_onenote_05',\n",
       " 'AR_word_05',\n",
       " 'AR_excel_05',\n",
       " 'AR_powerpoint_05',\n",
       " 'AR_outlook_05',\n",
       " 'AR_eslt_05',\n",
       " 'AR_officeclient_05',\n",
       " 'AR_exchange_06',\n",
       " 'AR_sharepoint_06',\n",
       " 'AR_skype_06',\n",
       " 'AR_teams_06',\n",
       " 'AR_od4b_06',\n",
       " 'AR_onenote_06',\n",
       " 'AR_word_06',\n",
       " 'AR_excel_06',\n",
       " 'AR_powerpoint_06',\n",
       " 'AR_outlook_06',\n",
       " 'AR_eslt_06',\n",
       " 'AR_officeclient_06']"
      ]
     },
     "execution_count": 5,
     "metadata": {},
     "output_type": "execute_result"
    }
   ],
   "source": [
    "df.columns.tolist()"
   ]
  },
  {
   "cell_type": "code",
   "execution_count": 6,
   "metadata": {},
   "outputs": [],
   "source": [
    "# df = pd.read_csv('TenantInfo-and-usage_shuffled_inf.csv'#, nrows=200000\n",
    "#                 )"
   ]
  },
  {
   "cell_type": "code",
   "execution_count": 7,
   "metadata": {},
   "outputs": [],
   "source": [
    "# print('full data set size {}'.format(df.shape))\n"
   ]
  },
  {
   "cell_type": "markdown",
   "metadata": {},
   "source": [
    "# Preprocess data\n",
    "\n",
    "1. encode categorical data\n",
    "2. transfer datetime data\n",
    "3. convert nan to zero, inf to one\n",
    "4. encode boolean type data\n",
    "5. split dataset\n",
    "6. normalize data"
   ]
  },
  {
   "cell_type": "code",
   "execution_count": 8,
   "metadata": {},
   "outputs": [],
   "source": [
    "cols_name = pd.Series(data=df.columns)\n",
    "\n",
    "ar_04_beg_col_index = cols_name[cols_name == 'AR_exchange_04'].index[0]\n",
    "ar_06_beg_col_index = cols_name[cols_name == 'AR_exchange_06'].index[0]\n",
    "ar_06_end_col_index = cols_name[cols_name == 'AR_officeclient_06'].index[0]\n",
    "\n",
    "wl_AR_cols = cols_name[ar_04_beg_col_index : ar_06_end_col_index+1].tolist()"
   ]
  },
  {
   "cell_type": "code",
   "execution_count": 9,
   "metadata": {},
   "outputs": [],
   "source": [
    "output_cols = cols_name[ar_06_beg_col_index : ar_06_end_col_index+1].tolist()\n"
   ]
  },
  {
   "cell_type": "code",
   "execution_count": 10,
   "metadata": {},
   "outputs": [
    {
     "data": {
      "text/plain": [
       "12"
      ]
     },
     "execution_count": 10,
     "metadata": {},
     "output_type": "execute_result"
    }
   ],
   "source": [
    "len(output_cols)\n",
    "# len(wl_AR_cols)"
   ]
  },
  {
   "cell_type": "code",
   "execution_count": 11,
   "metadata": {},
   "outputs": [],
   "source": [
    "df_train = df.loc[df['Age'] >= 360]\n",
    "df_test = df.loc[df['Age'] < 360]\n",
    "\n",
    "# df_train.drop(columns='Train', inplace=True)\n",
    "# df_test.drop(columns='Train', inplace=True)"
   ]
  },
  {
   "cell_type": "code",
   "execution_count": 12,
   "metadata": {},
   "outputs": [
    {
     "name": "stdout",
     "output_type": "stream",
     "text": [
      "(80, 228)\n",
      "(20, 228)\n"
     ]
    }
   ],
   "source": [
    "print(df_train.shape)\n",
    "print(df_test.shape)"
   ]
  },
  {
   "cell_type": "code",
   "execution_count": 13,
   "metadata": {},
   "outputs": [],
   "source": [
    "ytrain = df_train.loc[:, output_cols]\n",
    "ytest = df_test.loc[:, output_cols]\n",
    "\n",
    "Xtrain = df_train.drop(columns=wl_AR_cols) # use profile only\n",
    "# Xtrain = df_train.drop(columns=output_cols) # use profile + previous usage\n",
    "# Xtrain = df_train.loc[:, wl_AR_cols[:-12]] # use previous usage only\n",
    "\n",
    "Xtest = df_test.drop(columns=wl_AR_cols) # use profile only\n",
    "# Xtest = df_test.drop(columns=output_cols) # use profile + previous usage\n",
    "# Xtest = df_test.loc[:, wl_AR_cols[:-12]] # use previous usage only\n",
    "\n",
    "dev_size = int(Xtrain.shape[0] * 0.2)\n",
    "\n",
    "Xdev = Xtrain.iloc[-dev_size:,:]\n",
    "ydev = ytrain.iloc[-dev_size:,:]\n",
    "\n",
    "Xtrain = Xtrain.iloc[:-dev_size,:]\n",
    "ytrain = ytrain.iloc[:-dev_size,:]\n"
   ]
  },
  {
   "cell_type": "code",
   "execution_count": 14,
   "metadata": {},
   "outputs": [
    {
     "name": "stdout",
     "output_type": "stream",
     "text": [
      "Training size is (64, 192)\n",
      "Dev size is (16, 192)\n",
      "Test size is (20, 192)\n"
     ]
    }
   ],
   "source": [
    "print('Training size is {}'.format(Xtrain.shape))\n",
    "print('Dev size is {}'.format(Xdev.shape))\n",
    "print('Test size is {}'.format(Xtest.shape))"
   ]
  },
  {
   "cell_type": "code",
   "execution_count": 15,
   "metadata": {},
   "outputs": [
    {
     "name": "stdout",
     "output_type": "stream",
     "text": [
      "Outputs are ready!\n"
     ]
    }
   ],
   "source": [
    "ytrain = ytrain.to_numpy()\n",
    "ydev = ydev.to_numpy()\n",
    "ytest = ytest.to_numpy()\n",
    "print('Outputs are ready!')"
   ]
  },
  {
   "cell_type": "code",
   "execution_count": 16,
   "metadata": {},
   "outputs": [
    {
     "name": "stdout",
     "output_type": "stream",
     "text": [
      "Saved the outputs targets!\n"
     ]
    }
   ],
   "source": [
    "np.save('data/ytrain_fake.npy', ytrain)\n",
    "np.save('data/ydev_fake.npy', ydev)\n",
    "np.save('data/ytest_fake.npy', ytest)\n",
    "\n",
    "print('Saved the outputs targets!')"
   ]
  },
  {
   "cell_type": "code",
   "execution_count": 17,
   "metadata": {},
   "outputs": [],
   "source": [
    "def process_object_cols(df):\n",
    "    cols_datetime = ['CreatedDate', 'CreateDateOfFirstSubscription','FirstPaidEXOStartDate',\n",
    "       'FirstPaidSPOStartDate', 'FirstPaidOD4BStartDate',\n",
    "       'FirstPaidSfBStartDate', #'FirstPaidYammerStartDate',\n",
    "       'FirstPaidTeamsStartDate', 'FirstPaidProPlusStartDate',\n",
    "       #'FirstPaidAADPStartDate', 'FirstPaidAIPStartDate',\n",
    "       #'FirstPaidAATPStartDate', 'FirstPaidIntuneStartDate',\n",
    "       #'FirstPaidMCASStartDate', 'FirstPaidO365E5SkuStartDate',\n",
    "       #'FirstPaidM365E5SkuStartDate', 'FirstPaidEMSE5SkuStartDate'\n",
    "                    ]\n",
    "    df_datetime = df.loc[:, cols_datetime]\n",
    "    \n",
    "    cols_cat = ['CountryCode', 'Languange', #'DataCenterInstance', 'DataCenterModel',\n",
    "       'SignupLocationInfo_Country', #'SignupLocationInfo_CountryCode',\n",
    "       #'SignupLocationInfo_Region', 'TopParents_AreaName',\n",
    "       'TopParents_CountryCode', #'TopParents_BigAreaName', \n",
    "       'TopParents_Industry', #'TopParents_RegionName',\n",
    "       'TopParents_SegmentGroup', #'TopParents_SubRegionName',\n",
    "       'TopParents_VerticalName']\n",
    "    df_cat = df.loc[:, cols_cat]\n",
    "    \n",
    "    df_tenantid = df.loc[:,'TenantId']\n",
    "    \n",
    "    return df_tenantid, df_cat, df_datetime"
   ]
  },
  {
   "cell_type": "code",
   "execution_count": 18,
   "metadata": {},
   "outputs": [],
   "source": [
    "Xtrain_id, Xtrain_cat, Xtrain_datetime = process_object_cols(Xtrain)\n",
    "Xdev_id, Xdev_cat, Xdev_datetime = process_object_cols(Xdev)\n",
    "Xtest_id, Xtest_cat, Xtest_datetime = process_object_cols(Xtest)"
   ]
  },
  {
   "cell_type": "code",
   "execution_count": null,
   "metadata": {},
   "outputs": [],
   "source": []
  },
  {
   "cell_type": "code",
   "execution_count": 19,
   "metadata": {},
   "outputs": [],
   "source": [
    "Xtrain_cat_dict = Xtrain_cat.to_dict(orient='records')\n",
    "Xdev_cat_dict = Xdev_cat.to_dict(orient='records')\n",
    "Xtest_cat_dict = Xtest_cat.to_dict(orient='records')\n"
   ]
  },
  {
   "cell_type": "code",
   "execution_count": 20,
   "metadata": {},
   "outputs": [],
   "source": [
    "dv = DictVectorizer(sparse=False)\n",
    "Xtrain_cat_encoded = dv.fit_transform(Xtrain_cat_dict)\n",
    "Xdev_cat_encoded = dv.transform(Xdev_cat_dict)\n",
    "Xtest_cat_encoded = dv.transform(Xtest_cat_dict)"
   ]
  },
  {
   "cell_type": "code",
   "execution_count": 21,
   "metadata": {},
   "outputs": [],
   "source": [
    "vocab = dv.vocabulary_\n",
    "# vocab"
   ]
  },
  {
   "cell_type": "code",
   "execution_count": 22,
   "metadata": {},
   "outputs": [
    {
     "data": {
      "text/plain": [
       "numpy.ndarray"
      ]
     },
     "execution_count": 22,
     "metadata": {},
     "output_type": "execute_result"
    }
   ],
   "source": [
    "type(Xtrain_cat_encoded)"
   ]
  },
  {
   "cell_type": "code",
   "execution_count": 23,
   "metadata": {},
   "outputs": [],
   "source": [
    "# encode datetime columns\n",
    "def encoder_datetime(df):\n",
    "    cols = df.columns\n",
    "    for i in cols:\n",
    "        df[i] = pd.to_datetime(df[i], utc=True, errors='coerce').astype(int,errors='ignore')\n",
    "    return df"
   ]
  },
  {
   "cell_type": "code",
   "execution_count": 24,
   "metadata": {},
   "outputs": [],
   "source": [
    "Xtrain_datetime = encoder_datetime(Xtrain_datetime)\n",
    "Xdev_datetime = encoder_datetime(Xdev_datetime)\n",
    "Xtest_datetime = encoder_datetime(Xtest_datetime)"
   ]
  },
  {
   "cell_type": "code",
   "execution_count": 25,
   "metadata": {},
   "outputs": [],
   "source": [
    "Xtrain_datetime = Xtrain_datetime.to_numpy()\n",
    "Xdev_datetime = Xdev_datetime.to_numpy()\n",
    "Xtest_datetime = Xtest_datetime.to_numpy()"
   ]
  },
  {
   "cell_type": "code",
   "execution_count": 26,
   "metadata": {},
   "outputs": [],
   "source": [
    "def encoder_num_bool(df):\n",
    "    X_num = df.select_dtypes(include=['float','int'])\n",
    "    X_bool = df.select_dtypes(include='bool')\n",
    "    \n",
    "    X_bool = X_bool.astype(int).to_numpy()\n",
    "    X_num = X_num.to_numpy()\n",
    "    return X_bool, X_num"
   ]
  },
  {
   "cell_type": "code",
   "execution_count": 27,
   "metadata": {},
   "outputs": [],
   "source": [
    "Xtrain_bool, Xtrain_num = encoder_num_bool(Xtrain)\n",
    "Xdev_bool, Xdev_num = encoder_num_bool(Xdev)\n",
    "Xtest_bool, Xtest_num = encoder_num_bool(Xtest)"
   ]
  },
  {
   "cell_type": "code",
   "execution_count": 28,
   "metadata": {},
   "outputs": [],
   "source": [
    "def concat_inputs(X_cat_encoded, X_num, X_bool, Xdatetime):\n",
    "    X = np.concatenate((X_cat_encoded, X_num, X_bool, Xdatetime), axis=1)\n",
    "    return X"
   ]
  },
  {
   "cell_type": "code",
   "execution_count": 29,
   "metadata": {},
   "outputs": [],
   "source": [
    "Xtrain_arr = concat_inputs(Xtrain_cat_encoded, Xtrain_num, Xtrain_bool, Xtrain_datetime)\n",
    "Xdev_arr = concat_inputs(Xdev_cat_encoded, Xdev_num, Xdev_bool, Xdev_datetime)\n",
    "Xtest_arr = concat_inputs(Xtest_cat_encoded, Xtest_num, Xtest_bool, Xtest_datetime)"
   ]
  },
  {
   "cell_type": "code",
   "execution_count": 30,
   "metadata": {},
   "outputs": [
    {
     "name": "stdout",
     "output_type": "stream",
     "text": [
      "After encoding, the training size is (64, 274)\n",
      "After encoding, the dev size is (16, 274)\n",
      "After encoding, the test size is (20, 274)\n"
     ]
    }
   ],
   "source": [
    "print('After encoding, the training size is {}'.format(Xtrain_arr.shape))\n",
    "print('After encoding, the dev size is {}'.format(Xdev_arr.shape))\n",
    "print('After encoding, the test size is {}'.format(Xtest_arr.shape))"
   ]
  },
  {
   "cell_type": "code",
   "execution_count": 31,
   "metadata": {},
   "outputs": [],
   "source": [
    "scaler = StandardScaler()\n",
    "Xtrain_scal = scaler.fit_transform(Xtrain_arr)\n",
    "Xdev_scal = scaler.transform(Xdev_arr)\n",
    "Xtest_scal = scaler.transform(Xtest_arr)"
   ]
  },
  {
   "cell_type": "code",
   "execution_count": 32,
   "metadata": {},
   "outputs": [
    {
     "name": "stdout",
     "output_type": "stream",
     "text": [
      "Saved the encoded inputs!\n"
     ]
    }
   ],
   "source": [
    "np.save('data/Xtrain_fake.npy', Xtrain_scal)\n",
    "np.save('data/Xdev_fake.npy', Xdev_scal)\n",
    "np.save('data/Xtest_fake.npy', Xtest_scal)\n",
    "print('Saved the encoded inputs!')"
   ]
  },
  {
   "cell_type": "code",
   "execution_count": null,
   "metadata": {},
   "outputs": [],
   "source": []
  },
  {
   "cell_type": "markdown",
   "metadata": {},
   "source": [
    "## Below is the alternative way to encode the training, dev and test inputs."
   ]
  },
  {
   "cell_type": "code",
   "execution_count": 83,
   "metadata": {},
   "outputs": [],
   "source": [
    "def encoder_training_inputs(df_X):\n",
    "    print('Starting to encode training inputs:')\n",
    "    X_bool, X_num = encoder_num_bool(df_X)\n",
    "    df_X_id, df_X_cat, df_X_datetime = process_object_cols(df_X)\n",
    "    \n",
    "    id_file_name = df_X_id.name + '_train.csv'\n",
    "    df_X_id.to_csv(id_file_name, header=False)\n",
    "    \n",
    "    X_datetime = encoder_datetime(df_X_datetime)\n",
    "    X_datetime = X_datetime.to_numpy()\n",
    "    \n",
    "    X_cat_dict = df_X_cat.to_dict(orient='records')\n",
    "    dv = DictVectorizer(sparse=False)\n",
    "    X_cat_encoded = dv.fit_transform(X_cat_dict)\n",
    "    vocab = dv.vocabulary_\n",
    "    \n",
    "    X_arr = np.concatenate((X_cat_encoded, X_num, X_bool, X_datetime), axis=1)\n",
    "    \n",
    "    return X_arr, dv, vocab\n",
    "  "
   ]
  },
  {
   "cell_type": "code",
   "execution_count": 81,
   "metadata": {},
   "outputs": [],
   "source": [
    "def encoder_dev_test_inputs(df_X, dv, dataset_type):\n",
    "    # dataset_type is a string, it should be 'dev' or 'test'.\n",
    "    \n",
    "    print('Starting to encode dev or test inputs:')\n",
    "    X_bool, X_num = encoder_num_bool(df_X)\n",
    "    df_X_id, df_X_cat, df_X_datetime = process_object_cols(df_X)\n",
    "    \n",
    "    id_file_name = df_X_id.name + '_' + dataset_type + '.csv'\n",
    "    df_X_id.to_csv(id_file_name, header=False)\n",
    "    \n",
    "    X_datetime = encoder_datetime(df_X_datetime)\n",
    "    X_datetime = X_datetime.to_numpy()\n",
    "    \n",
    "    X_cat_dict = df_X_cat.to_dict(orient='records')\n",
    "    X_cat_encoded = dv.transform(X_cat_dict)\n",
    "    \n",
    "    X_arr = np.concatenate((X_cat_encoded, X_num, X_bool, X_datetime), axis=1)\n",
    "    \n",
    "    return X_arr\n",
    "    \n",
    "    "
   ]
  },
  {
   "cell_type": "code",
   "execution_count": 85,
   "metadata": {},
   "outputs": [
    {
     "name": "stdout",
     "output_type": "stream",
     "text": [
      "Starting the encoding training inputs:\n",
      "0.16617798805236816\n"
     ]
    }
   ],
   "source": [
    "t1 = time.time()\n",
    "Xtrain_arr, dv, vocab = encoder_training_inputs(Xtrain)\n",
    "t2 = time.time()\n",
    "print(t2-t1)"
   ]
  },
  {
   "cell_type": "code",
   "execution_count": 86,
   "metadata": {},
   "outputs": [
    {
     "name": "stdout",
     "output_type": "stream",
     "text": [
      "Starting the encoding dev or test inputs:\n",
      "Starting the encoding dev or test inputs:\n"
     ]
    }
   ],
   "source": [
    "Xdev_arr = encoder_dev_test_inputs(Xdev,dv, 'dev')\n",
    "Xtest_arr = encoder_dev_test_inputs(Xtest, dv, 'test')"
   ]
  },
  {
   "cell_type": "code",
   "execution_count": 88,
   "metadata": {},
   "outputs": [],
   "source": [
    "scaler = StandardScaler()\n",
    "Xtrain_scal = scaler.fit_transform(Xtrain_arr)\n",
    "Xdev_scal = scaler.transform(Xdev_arr)\n",
    "Xtest_scal = scaler.transform(Xtest_arr)"
   ]
  },
  {
   "cell_type": "code",
   "execution_count": 89,
   "metadata": {},
   "outputs": [
    {
     "name": "stdout",
     "output_type": "stream",
     "text": [
      "Saved the encoded inputs!\n"
     ]
    }
   ],
   "source": [
    "np.save('data/Xtrain.npy', Xtrain_scal)\n",
    "np.save('data/Xdev.npy', Xdev_scal)\n",
    "np.save('data/Xtest.npy', Xtest_scal)\n",
    "print('Saved the encoded inputs!')"
   ]
  },
  {
   "cell_type": "code",
   "execution_count": null,
   "metadata": {},
   "outputs": [],
   "source": []
  }
 ],
 "metadata": {
  "kernelspec": {
   "display_name": "Python 3",
   "language": "python",
   "name": "python3"
  },
  "language_info": {
   "codemirror_mode": {
    "name": "ipython",
    "version": 3
   },
   "file_extension": ".py",
   "mimetype": "text/x-python",
   "name": "python",
   "nbconvert_exporter": "python",
   "pygments_lexer": "ipython3",
   "version": "3.5.2"
  }
 },
 "nbformat": 4,
 "nbformat_minor": 2
}
