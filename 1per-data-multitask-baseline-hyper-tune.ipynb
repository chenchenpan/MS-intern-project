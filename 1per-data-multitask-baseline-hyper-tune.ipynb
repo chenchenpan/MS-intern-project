{
 "cells": [
  {
   "cell_type": "code",
   "execution_count": 1,
   "metadata": {},
   "outputs": [],
   "source": [
    "import pandas as pd\n",
    "import numpy as np\n",
    "# import matplotlib.pyplot as plt\n",
    "from sklearn import preprocessing\n",
    "# from sklearn.utils import shuffle\n",
    "# from sklearn.model_selection import train_test_split\n",
    "# from sklearn.preprocessing import StandardScaler\n",
    "from sklearn.neighbors import KNeighborsRegressor\n",
    "from sklearn.linear_model import LinearRegression, MultiTaskElasticNet, MultiTaskLasso\n",
    "from sklearn.ensemble import RandomForestRegressor\n",
    "from sklearn.multioutput import MultiOutputRegressor\n",
    "from sklearn.metrics import confusion_matrix, mean_squared_error, log_loss, accuracy_score\n",
    "import time\n",
    "# from sklearn.manifold import TSNE\n",
    "import joblib\n",
    "\n",
    "\n",
    "# pd.set_option('display.max_columns', None)\n",
    "# pd.set_option('display.max_rows', None)"
   ]
  },
  {
   "cell_type": "code",
   "execution_count": 2,
   "metadata": {},
   "outputs": [
    {
     "data": {
      "text/plain": [
       "'0.24.2'"
      ]
     },
     "execution_count": 2,
     "metadata": {},
     "output_type": "execute_result"
    }
   ],
   "source": [
    "pd.__version__"
   ]
  },
  {
   "cell_type": "code",
   "execution_count": 3,
   "metadata": {},
   "outputs": [],
   "source": [
    "Xtrain = np.load('data/Xtrain_fake.npy')\n",
    "Xdev = np.load('data/Xdev_fake.npy')\n",
    "Xtest = np.load('data/Xtest_fake.npy')"
   ]
  },
  {
   "cell_type": "code",
   "execution_count": 4,
   "metadata": {},
   "outputs": [],
   "source": [
    "ytrain = np.load('data/ytrain_fake.npy')\n",
    "ydev = np.load('data/ydev_fake.npy')\n",
    "ytest = np.load('data/ytest_fake.npy')"
   ]
  },
  {
   "cell_type": "code",
   "execution_count": 9,
   "metadata": {},
   "outputs": [],
   "source": [
    "def hyp_tuning(model_name, Xtrain, ytrain, Xdev, ydev):\n",
    "    best_results = {}\n",
    "    best_dev_mse = 1000\n",
    "    \n",
    "    for hyp in range(1, 10):\n",
    "        \n",
    "        print('='*20)\n",
    "        print('starting to compute hyp={}'.format(hyp))\n",
    "        \n",
    "        if model_name == 'KNN':\n",
    "            model = MultiOutputRegressor(KNeighborsRegressor(n_neighbors=hyp))\n",
    "        elif model_name == 'RF':\n",
    "            model = MultiOutputRegressor(RandomForestRegressor(n_estimators=hyp,\n",
    "                                                          #max_depth=max_depth,\n",
    "                                                          random_state=0))\n",
    "        else:\n",
    "            raise ValueError('Unknown model_name')                               \n",
    "\n",
    "        model.fit(Xtrain, ytrain)\n",
    "        \n",
    "        pred_train = model.predict(Xtrain)\n",
    "        mse_train = mean_squared_error(ytrain, pred_train)\n",
    "\n",
    "        pred_dev = model.predict(Xdev)\n",
    "        mse_dev = mean_squared_error(ydev, pred_dev)\n",
    "        \n",
    "        if mse_dev < best_dev_mse:\n",
    "            best_dev_mse = mse_dev\n",
    "            print('Up to now the best dev_mse is {}'.format(best_dev_mse))\n",
    "            print('and the associated training_mse is {}'.format(mse_train))\n",
    "            best_results['Dev_mse'] = best_dev_mse\n",
    "            best_results['Train_mse'] = mse_train\n",
    "            \n",
    "            best_model = model\n",
    "            best_hyp = hyp\n",
    "            \n",
    "    save_path = 'results/baseline_{}_with_{}.joblib'.format(model_name, best_hyp)\n",
    "    joblib.dump(best_model, save_path)\n",
    "    \n",
    "    return best_results"
   ]
  },
  {
   "cell_type": "code",
   "execution_count": 10,
   "metadata": {},
   "outputs": [
    {
     "name": "stdout",
     "output_type": "stream",
     "text": [
      "====================\n",
      "starting to compute hyp=1\n",
      "Up to now the best dev_mse is 0.10234985476743712\n",
      "and the associated training_mse is 0.0\n",
      "====================\n",
      "starting to compute hyp=2\n",
      "Up to now the best dev_mse is 0.08465692519429463\n",
      "and the associated training_mse is 0.42284243542451544\n",
      "====================\n",
      "starting to compute hyp=3\n",
      "====================\n",
      "starting to compute hyp=4\n",
      "====================\n",
      "starting to compute hyp=5\n",
      "Up to now the best dev_mse is 0.08393667070164451\n",
      "and the associated training_mse is 1.0140709275467523\n",
      "====================\n",
      "starting to compute hyp=6\n",
      "Up to now the best dev_mse is 0.07278864640279205\n",
      "and the associated training_mse is 1.0936818186322534\n",
      "====================\n",
      "starting to compute hyp=7\n",
      "Up to now the best dev_mse is 0.06818806633878849\n",
      "and the associated training_mse is 1.159180766788052\n",
      "====================\n",
      "starting to compute hyp=8\n",
      "====================\n",
      "starting to compute hyp=9\n"
     ]
    }
   ],
   "source": [
    "knn_best_results = hyp_tuning('KNN', Xtrain, ytrain, Xdev, ydev)"
   ]
  },
  {
   "cell_type": "code",
   "execution_count": 12,
   "metadata": {},
   "outputs": [
    {
     "data": {
      "text/plain": [
       "{'Dev_mse': 0.06818806633878849, 'Train_mse': 1.159180766788052}"
      ]
     },
     "execution_count": 12,
     "metadata": {},
     "output_type": "execute_result"
    }
   ],
   "source": [
    "knn_best_results"
   ]
  },
  {
   "cell_type": "code",
   "execution_count": 13,
   "metadata": {},
   "outputs": [
    {
     "name": "stdout",
     "output_type": "stream",
     "text": [
      "The test_mse of the best KNN model is 0.4914082589694498\n"
     ]
    }
   ],
   "source": [
    "knn_best_model = joblib.load('results/baseline_KNN_with_7.joblib')\n",
    "pred_test = knn_best_model.predict(Xtest)\n",
    "mse_test = mean_squared_error(ytest, pred_test)\n",
    "\n",
    "print('The test_mse of the best KNN model is {}'.format(mse_test))\n",
    "knn_best_results['Test_mse'] = mse_test"
   ]
  },
  {
   "cell_type": "code",
   "execution_count": 15,
   "metadata": {
    "scrolled": true
   },
   "outputs": [
    {
     "name": "stdout",
     "output_type": "stream",
     "text": [
      "====================\n",
      "starting to compute hyp=1\n",
      "Up to now the best dev_mse is 12.638849038595891\n",
      "and the associated training_mse is 0.40183168114755025\n",
      "====================\n",
      "starting to compute hyp=2\n",
      "Up to now the best dev_mse is 3.2075993008254264\n",
      "and the associated training_mse is 0.4701808003788381\n",
      "====================\n",
      "starting to compute hyp=3\n",
      "====================\n",
      "starting to compute hyp=4\n",
      "Up to now the best dev_mse is 3.155231662920647\n",
      "and the associated training_mse is 0.1241974961462712\n",
      "====================\n",
      "starting to compute hyp=5\n",
      "====================\n",
      "starting to compute hyp=6\n",
      "====================\n",
      "starting to compute hyp=7\n",
      "====================\n",
      "starting to compute hyp=8\n",
      "====================\n",
      "starting to compute hyp=9\n"
     ]
    }
   ],
   "source": [
    "rf_best_results = hyp_tuning('RF', Xtrain, ytrain, Xdev, ydev)"
   ]
  },
  {
   "cell_type": "code",
   "execution_count": 16,
   "metadata": {},
   "outputs": [
    {
     "data": {
      "text/plain": [
       "{'Dev_mse': 3.155231662920647, 'Train_mse': 0.1241974961462712}"
      ]
     },
     "execution_count": 16,
     "metadata": {},
     "output_type": "execute_result"
    }
   ],
   "source": [
    "rf_best_results"
   ]
  },
  {
   "cell_type": "code",
   "execution_count": 17,
   "metadata": {},
   "outputs": [
    {
     "name": "stdout",
     "output_type": "stream",
     "text": [
      "The test_mse of the best RF model is 12.011205353294924\n"
     ]
    }
   ],
   "source": [
    "rf_best_model = joblib.load('results/baseline_RF_with_4.joblib')\n",
    "pred_test = rf_best_model.predict(Xtest)\n",
    "mse_test = mean_squared_error(ytest, pred_test)\n",
    "\n",
    "print('The test_mse of the best RF model is {}'.format(mse_test))\n",
    "rf_best_results['Test_mse'] = mse_test"
   ]
  },
  {
   "cell_type": "markdown",
   "metadata": {},
   "source": [
    "## The Linear Regression Model"
   ]
  },
  {
   "cell_type": "code",
   "execution_count": 19,
   "metadata": {},
   "outputs": [
    {
     "name": "stdout",
     "output_type": "stream",
     "text": [
      "{'Test_mse': 32610.618029070913, 'Dev_mse': 4.346446210908264, 'Train_mse': 9.228302212011216e-30}\n"
     ]
    }
   ],
   "source": [
    "regr_multilr = MultiOutputRegressor(LinearRegression())\n",
    "regr_multilr.fit(Xtrain, ytrain)\n",
    "pred_train = regr_multilr.predict(Xtrain)\n",
    "mse_train = mean_squared_error(ytrain, pred_train)\n",
    "\n",
    "pred_dev = regr_multilr.predict(Xdev)\n",
    "mse_dev = mean_squared_error(ydev, pred_dev)\n",
    "\n",
    "pred_test = regr_multilr.predict(Xtest)\n",
    "mse_test = mean_squared_error(ytest, pred_test)\n",
    "\n",
    "lr_results = {}\n",
    "lr_results['Dev_mse'] = mse_dev\n",
    "lr_results['Train_mse'] = mse_train\n",
    "lr_results['Test_mse'] = mse_test\n",
    "\n",
    "joblib.dump(regr_multilr, 'results/baseline_LR.joblib')\n",
    "print(lr_results)"
   ]
  },
  {
   "cell_type": "code",
   "execution_count": null,
   "metadata": {},
   "outputs": [],
   "source": []
  },
  {
   "cell_type": "code",
   "execution_count": null,
   "metadata": {},
   "outputs": [],
   "source": []
  },
  {
   "cell_type": "markdown",
   "metadata": {},
   "source": [
    "# Below is the old version, don't use anymore"
   ]
  },
  {
   "cell_type": "markdown",
   "metadata": {},
   "source": [
    "## Preparing data"
   ]
  },
  {
   "cell_type": "code",
   "execution_count": 6,
   "metadata": {},
   "outputs": [],
   "source": [
    "cols_name = pd.Series(data=df.columns)\n",
    "ar_04_beg_col_index = cols_name[cols_name == 'AR_exchange_04'].index[0]\n",
    "ar_06_beg_col_index = cols_name[cols_name == 'AR_exchange_06'].index[0]\n",
    "ar_06_end_col_index = cols_name[cols_name == 'AR_eslt_06'].index[0]\n",
    "\n",
    "wl_AR_cols = cols_name[ar_04_beg_col_index : ar_06_end_col_index+1].tolist()"
   ]
  },
  {
   "cell_type": "code",
   "execution_count": 7,
   "metadata": {},
   "outputs": [],
   "source": [
    "output_cols = wl_AR_cols[-12:]"
   ]
  },
  {
   "cell_type": "code",
   "execution_count": 8,
   "metadata": {},
   "outputs": [],
   "source": [
    "df_train = df.loc[df['Train'] == 1]\n",
    "df_test = df.loc[df['Train'] == 0]"
   ]
  },
  {
   "cell_type": "code",
   "execution_count": 9,
   "metadata": {},
   "outputs": [
    {
     "name": "stderr",
     "output_type": "stream",
     "text": [
      "/data/home/t-chepan/env/newlab/lib/python3.5/site-packages/pandas/core/frame.py:3940: SettingWithCopyWarning: \n",
      "A value is trying to be set on a copy of a slice from a DataFrame\n",
      "\n",
      "See the caveats in the documentation: http://pandas.pydata.org/pandas-docs/stable/indexing.html#indexing-view-versus-copy\n",
      "  errors=errors)\n"
     ]
    }
   ],
   "source": [
    "df_train.drop(columns='Train', inplace=True)\n",
    "df_test.drop(columns='Train', inplace=True)"
   ]
  },
  {
   "cell_type": "code",
   "execution_count": 10,
   "metadata": {},
   "outputs": [],
   "source": [
    "ytrain = df_train.loc[:, output_cols]\n",
    "\n",
    "Xtrain = df_train.drop(columns=output_cols) # use profile + previous usage\n",
    "# Xtrain = df_train.loc[:, wl_AR_cols[:-12]] # use previous usage only"
   ]
  },
  {
   "cell_type": "code",
   "execution_count": 11,
   "metadata": {},
   "outputs": [],
   "source": [
    "dev_size = int(Xtrain.shape[0] * 0.2)\n",
    "\n",
    "Xtrain = Xtrain.to_numpy()\n",
    "ytrain = ytrain.to_numpy()\n",
    "\n",
    "Xdev = Xtrain[-dev_size:]\n",
    "ydev = ytrain[-dev_size:]\n",
    "\n",
    "Xtrain = Xtrain[:-dev_size]\n",
    "ytrain = ytrain[:-dev_size]\n"
   ]
  },
  {
   "cell_type": "code",
   "execution_count": 12,
   "metadata": {},
   "outputs": [],
   "source": [
    "ytest = df_test.loc[:, output_cols]\n",
    "\n",
    "Xtest = df_test.drop(columns=output_cols) \n",
    "# Xtest = df_test.loc[:, wl_AR_cols[:-12]] "
   ]
  },
  {
   "cell_type": "code",
   "execution_count": 13,
   "metadata": {},
   "outputs": [],
   "source": [
    "Xtest = Xtest.to_numpy()\n",
    "ytest = ytest.to_numpy()"
   ]
  },
  {
   "cell_type": "code",
   "execution_count": 14,
   "metadata": {},
   "outputs": [],
   "source": [
    "scaler = StandardScaler()\n",
    "\n",
    "Xtrain = scaler.fit_transform(Xtrain)\n",
    "Xdev = scaler.transform(Xdev)\n",
    "Xtest = scaler.transform(Xtest)"
   ]
  },
  {
   "cell_type": "code",
   "execution_count": 46,
   "metadata": {},
   "outputs": [
    {
     "data": {
      "text/plain": [
       "(5208, 1075)"
      ]
     },
     "execution_count": 46,
     "metadata": {},
     "output_type": "execute_result"
    }
   ],
   "source": [
    "Xtest.shape"
   ]
  },
  {
   "cell_type": "markdown",
   "metadata": {},
   "source": [
    "## Baseline models"
   ]
  },
  {
   "cell_type": "code",
   "execution_count": 28,
   "metadata": {
    "scrolled": true
   },
   "outputs": [
    {
     "name": "stdout",
     "output_type": "stream",
     "text": [
      "====================\n",
      "starting to compute hyp=1\n",
      "0.291397589932976\n",
      "====================\n",
      "starting to compute hyp=2\n",
      "0.25400886832455183\n",
      "====================\n",
      "starting to compute hyp=3\n",
      "====================\n",
      "starting to compute hyp=4\n",
      "====================\n",
      "starting to compute hyp=5\n",
      "====================\n",
      "starting to compute hyp=6\n",
      "====================\n",
      "starting to compute hyp=7\n",
      "====================\n",
      "starting to compute hyp=8\n",
      "====================\n",
      "starting to compute hyp=9\n"
     ]
    }
   ],
   "source": [
    "knn_best = hyp_tuning('KNN', Xtrain, ytrain, Xdev, ydev)"
   ]
  },
  {
   "cell_type": "code",
   "execution_count": null,
   "metadata": {
    "scrolled": true
   },
   "outputs": [],
   "source": [
    "rf_best = hyp_tuning('RF', Xtrain, ytrain, Xdev, ydev)"
   ]
  },
  {
   "cell_type": "code",
   "execution_count": 30,
   "metadata": {},
   "outputs": [
    {
     "data": {
      "text/plain": [
       "{1: {'mse_dev': 0.291397589932976, 'mse_train': 0.0},\n",
       " 2: {'mse_dev': 0.25400886832455183, 'mse_train': 0.03877537139647624}}"
      ]
     },
     "execution_count": 30,
     "metadata": {},
     "output_type": "execute_result"
    }
   ],
   "source": [
    "knn_best"
   ]
  },
  {
   "cell_type": "code",
   "execution_count": 41,
   "metadata": {},
   "outputs": [
    {
     "data": {
      "text/plain": [
       "2"
      ]
     },
     "execution_count": 41,
     "metadata": {},
     "output_type": "execute_result"
    }
   ],
   "source": [
    "best_knn_hyp = list(knn_best.keys())[-1]\n",
    "best_knn_hyp\n"
   ]
  },
  {
   "cell_type": "code",
   "execution_count": 42,
   "metadata": {},
   "outputs": [],
   "source": [
    "best_knn_model_path = 'results/baseline_KNN_with_{}'.format(best_knn_hyp)\n",
    "\n",
    "best_knn_model = joblib.load(best_knn_model_path)"
   ]
  },
  {
   "cell_type": "code",
   "execution_count": 48,
   "metadata": {},
   "outputs": [
    {
     "name": "stdout",
     "output_type": "stream",
     "text": [
      "0.5502280806708065\n"
     ]
    }
   ],
   "source": [
    "pred_test = best_knn_model.predict(Xtest[:100])\n",
    "print(mean_squared_error(ytest[:100], pred_test))"
   ]
  },
  {
   "cell_type": "code",
   "execution_count": null,
   "metadata": {},
   "outputs": [],
   "source": []
  },
  {
   "cell_type": "code",
   "execution_count": null,
   "metadata": {},
   "outputs": [],
   "source": []
  },
  {
   "cell_type": "code",
   "execution_count": null,
   "metadata": {},
   "outputs": [],
   "source": []
  },
  {
   "cell_type": "code",
   "execution_count": 20,
   "metadata": {},
   "outputs": [
    {
     "data": {
      "text/plain": [
       "MultiOutputRegressor(estimator=LinearRegression(copy_X=True, fit_intercept=True,\n",
       "                                                n_jobs=None, normalize=False),\n",
       "                     n_jobs=None)"
      ]
     },
     "execution_count": 20,
     "metadata": {},
     "output_type": "execute_result"
    }
   ],
   "source": [
    "regr_multilr = MultiOutputRegressor(LinearRegression())\n",
    "regr_multilr.fit(Xtrain, ytrain)\n"
   ]
  },
  {
   "cell_type": "code",
   "execution_count": 24,
   "metadata": {},
   "outputs": [
    {
     "name": "stdout",
     "output_type": "stream",
     "text": [
      "-5.423296019726179e+22\n"
     ]
    }
   ],
   "source": [
    "score = regr_multilr.score(Xdev,ydev)\n",
    "print(score)"
   ]
  },
  {
   "cell_type": "code",
   "execution_count": 21,
   "metadata": {},
   "outputs": [
    {
     "data": {
      "text/plain": [
       "['results/baseline_models_fake.pk1']"
      ]
     },
     "execution_count": 21,
     "metadata": {},
     "output_type": "execute_result"
    }
   ],
   "source": [
    "file_path = 'results/baseline_models_fake.pk1'\n",
    "joblib.dump(regr_multilr, file_path)"
   ]
  },
  {
   "cell_type": "code",
   "execution_count": 25,
   "metadata": {},
   "outputs": [],
   "source": [
    "loaded_model = joblib.load(file_path)\n",
    "score_ = loaded_model.score(Xdev, ydev)"
   ]
  },
  {
   "cell_type": "code",
   "execution_count": 26,
   "metadata": {},
   "outputs": [
    {
     "data": {
      "text/plain": [
       "-5.423296019726179e+22"
      ]
     },
     "execution_count": 26,
     "metadata": {},
     "output_type": "execute_result"
    }
   ],
   "source": [
    "score_"
   ]
  },
  {
   "cell_type": "code",
   "execution_count": 19,
   "metadata": {},
   "outputs": [
    {
     "name": "stdout",
     "output_type": "stream",
     "text": [
      "0.034366045100794336\n",
      "====================\n",
      "1.3860198866646668e+22\n",
      "====================\n",
      "4.44830001519688e+23\n"
     ]
    }
   ],
   "source": [
    "regr_multilr = MultiOutputRegressor(LinearRegression())\n",
    "regr_multilr.fit(Xtrain, ytrain)\n",
    "\n",
    "# regr_lr = LinearRegression()\n",
    "# regr_lr.fit(Xtrain, ytrain)\n",
    "\n",
    "# Predict on dev data\n",
    "pred_dev_multilr = regr_multilr.predict(Xdev)\n",
    "# pred_dev_lr = regr_lr.predict(Xdev)\n",
    "\n",
    "# Predict on training data\n",
    "pred_train_multilr = regr_multilr.predict(Xtrain)\n",
    "# pred_train_lr = regr_lr.predict(Xtrain)\n",
    "\n",
    "# Predict on test data\n",
    "pred_test_multilr = regr_multilr.predict(Xtest)\n",
    "# pred_test_lr = regr_lr.predict(Xtest)\n",
    "\n",
    "print(mean_squared_error(ytrain, pred_train_multilr))\n",
    "# print(mean_squared_error(ytrain, pred_train_lr))\n",
    "print('='*20)\n",
    "\n",
    "print(mean_squared_error(ydev, pred_dev_multilr))\n",
    "# print(mean_squared_error(ydev, pred_dev_lr))\n",
    "print('='*20)\n",
    "\n",
    "\n",
    "print(mean_squared_error(ytest, pred_test_multilr))\n",
    "# print(mean_squared_error(ytest, pred_test_lr))\n"
   ]
  },
  {
   "cell_type": "code",
   "execution_count": null,
   "metadata": {},
   "outputs": [],
   "source": []
  },
  {
   "cell_type": "code",
   "execution_count": null,
   "metadata": {},
   "outputs": [],
   "source": []
  },
  {
   "cell_type": "code",
   "execution_count": 85,
   "metadata": {},
   "outputs": [
    {
     "name": "stdout",
     "output_type": "stream",
     "text": [
      "0.007517609340720407\n",
      "0.01355654344966159\n",
      "====================\n",
      "0.2427408399047468\n",
      "0.30599999673645834\n",
      "====================\n",
      "1.247933321003166\n",
      "1.5341692445403476\n"
     ]
    }
   ],
   "source": [
    "HYP = 3\n",
    "\n",
    "regr_multirf = MultiOutputRegressor(RandomForestRegressor(n_estimators=HYP,\n",
    "                                                          #max_depth=max_depth,\n",
    "                                                          random_state=0))\n",
    "regr_multirf.fit(Xtrain, ytrain)\n",
    "\n",
    "regr_rf = RandomForestRegressor(n_estimators=HYP, \n",
    "                                #max_depth=max_depth,\n",
    "                                random_state=2)\n",
    "regr_rf.fit(Xtrain, ytrain)\n",
    "\n",
    "# Predict on dev data\n",
    "pred_dev_multirf = regr_multirf.predict(Xdev)\n",
    "pred_dev_rf = regr_rf.predict(Xdev)\n",
    "\n",
    "# Predict on training data\n",
    "pred_train_multirf = regr_multirf.predict(Xtrain)\n",
    "pred_train_rf = regr_rf.predict(Xtrain)\n",
    "\n",
    "# Predict on test data\n",
    "pred_test_multirf = regr_multirf.predict(Xtest)\n",
    "pred_test_rf = regr_rf.predict(Xtest)\n",
    "\n",
    "print(mean_squared_error(ytrain, pred_train_multirf))\n",
    "print(mean_squared_error(ytrain, pred_train_rf))\n",
    "print('='*20)\n",
    "\n",
    "print(mean_squared_error(ydev, pred_dev_multirf))\n",
    "print(mean_squared_error(ydev, pred_dev_rf))\n",
    "print('='*20)\n",
    "\n",
    "print(mean_squared_error(ytest, pred_test_multirf))\n",
    "print(mean_squared_error(ytest, pred_test_rf))"
   ]
  },
  {
   "cell_type": "code",
   "execution_count": 16,
   "metadata": {},
   "outputs": [
    {
     "ename": "NotFittedError",
     "evalue": "This MultiOutputRegressor instance is not fitted yet. Call 'fit' with appropriate arguments before using this method.",
     "output_type": "error",
     "traceback": [
      "\u001b[0;31m---------------------------------------------------------------------------\u001b[0m",
      "\u001b[0;31mNotFittedError\u001b[0m                            Traceback (most recent call last)",
      "\u001b[0;32m<ipython-input-16-813e7fda2434>\u001b[0m in \u001b[0;36m<module>\u001b[0;34m\u001b[0m\n\u001b[1;32m      8\u001b[0m \u001b[0;34m\u001b[0m\u001b[0m\n\u001b[1;32m      9\u001b[0m \u001b[0;31m# Predict on new data\u001b[0m\u001b[0;34m\u001b[0m\u001b[0;34m\u001b[0m\u001b[0m\n\u001b[0;32m---> 10\u001b[0;31m \u001b[0mpred_dev_multiknn\u001b[0m \u001b[0;34m=\u001b[0m \u001b[0mregr_multiknn\u001b[0m\u001b[0;34m.\u001b[0m\u001b[0mpredict\u001b[0m\u001b[0;34m(\u001b[0m\u001b[0mXdev\u001b[0m\u001b[0;34m)\u001b[0m\u001b[0;34m\u001b[0m\u001b[0m\n\u001b[0m\u001b[1;32m     11\u001b[0m \u001b[0;31m# pred_dev_knn = regr_knn.predict(Xdev)\u001b[0m\u001b[0;34m\u001b[0m\u001b[0;34m\u001b[0m\u001b[0m\n\u001b[1;32m     12\u001b[0m \u001b[0;34m\u001b[0m\u001b[0m\n",
      "\u001b[0;32m/data/home/t-chepan/env/newlab/lib/python3.5/site-packages/sklearn/multioutput.py\u001b[0m in \u001b[0;36mpredict\u001b[0;34m(self, X)\u001b[0m\n\u001b[1;32m    185\u001b[0m             \u001b[0mNote\u001b[0m\u001b[0;34m:\u001b[0m \u001b[0mSeparate\u001b[0m \u001b[0mmodels\u001b[0m \u001b[0mare\u001b[0m \u001b[0mgenerated\u001b[0m \u001b[0;32mfor\u001b[0m \u001b[0meach\u001b[0m \u001b[0mpredictor\u001b[0m\u001b[0;34m.\u001b[0m\u001b[0;34m\u001b[0m\u001b[0m\n\u001b[1;32m    186\u001b[0m         \"\"\"\n\u001b[0;32m--> 187\u001b[0;31m         \u001b[0mcheck_is_fitted\u001b[0m\u001b[0;34m(\u001b[0m\u001b[0mself\u001b[0m\u001b[0;34m,\u001b[0m \u001b[0;34m'estimators_'\u001b[0m\u001b[0;34m)\u001b[0m\u001b[0;34m\u001b[0m\u001b[0m\n\u001b[0m\u001b[1;32m    188\u001b[0m         \u001b[0;32mif\u001b[0m \u001b[0;32mnot\u001b[0m \u001b[0mhasattr\u001b[0m\u001b[0;34m(\u001b[0m\u001b[0mself\u001b[0m\u001b[0;34m.\u001b[0m\u001b[0mestimator\u001b[0m\u001b[0;34m,\u001b[0m \u001b[0;34m\"predict\"\u001b[0m\u001b[0;34m)\u001b[0m\u001b[0;34m:\u001b[0m\u001b[0;34m\u001b[0m\u001b[0m\n\u001b[1;32m    189\u001b[0m             raise ValueError(\"The base estimator should implement\"\n",
      "\u001b[0;32m/data/home/t-chepan/env/newlab/lib/python3.5/site-packages/sklearn/utils/validation.py\u001b[0m in \u001b[0;36mcheck_is_fitted\u001b[0;34m(estimator, attributes, msg, all_or_any)\u001b[0m\n\u001b[1;32m    912\u001b[0m \u001b[0;34m\u001b[0m\u001b[0m\n\u001b[1;32m    913\u001b[0m     \u001b[0;32mif\u001b[0m \u001b[0;32mnot\u001b[0m \u001b[0mall_or_any\u001b[0m\u001b[0;34m(\u001b[0m\u001b[0;34m[\u001b[0m\u001b[0mhasattr\u001b[0m\u001b[0;34m(\u001b[0m\u001b[0mestimator\u001b[0m\u001b[0;34m,\u001b[0m \u001b[0mattr\u001b[0m\u001b[0;34m)\u001b[0m \u001b[0;32mfor\u001b[0m \u001b[0mattr\u001b[0m \u001b[0;32min\u001b[0m \u001b[0mattributes\u001b[0m\u001b[0;34m]\u001b[0m\u001b[0;34m)\u001b[0m\u001b[0;34m:\u001b[0m\u001b[0;34m\u001b[0m\u001b[0m\n\u001b[0;32m--> 914\u001b[0;31m         \u001b[0;32mraise\u001b[0m \u001b[0mNotFittedError\u001b[0m\u001b[0;34m(\u001b[0m\u001b[0mmsg\u001b[0m \u001b[0;34m%\u001b[0m \u001b[0;34m{\u001b[0m\u001b[0;34m'name'\u001b[0m\u001b[0;34m:\u001b[0m \u001b[0mtype\u001b[0m\u001b[0;34m(\u001b[0m\u001b[0mestimator\u001b[0m\u001b[0;34m)\u001b[0m\u001b[0;34m.\u001b[0m\u001b[0m__name__\u001b[0m\u001b[0;34m}\u001b[0m\u001b[0;34m)\u001b[0m\u001b[0;34m\u001b[0m\u001b[0m\n\u001b[0m\u001b[1;32m    915\u001b[0m \u001b[0;34m\u001b[0m\u001b[0m\n\u001b[1;32m    916\u001b[0m \u001b[0;34m\u001b[0m\u001b[0m\n",
      "\u001b[0;31mNotFittedError\u001b[0m: This MultiOutputRegressor instance is not fitted yet. Call 'fit' with appropriate arguments before using this method."
     ]
    }
   ],
   "source": [
    "HYP = 5\n",
    "\n",
    "regr_multiknn = MultiOutputRegressor(KNeighborsRegressor(n_neighbors=HYP))\n",
    "# regr_multiknn.fit(Xtrain, ytrain)\n",
    "\n",
    "regr_knn = KNeighborsRegressor(n_neighbors=HYP)\n",
    "# regr_knn.fit(Xtrain, ytrain)\n",
    "\n",
    "# Predict on new data\n",
    "pred_dev_multiknn = regr_multiknn.predict(Xdev)\n",
    "# pred_dev_knn = regr_knn.predict(Xdev)\n",
    "\n",
    "# Predict on training data\n",
    "pred_train_multiknn = regr_multiknn.predict(Xtrain)\n",
    "# pred_train_knn = regr_knn.predict(Xtrain)\n",
    "\n",
    "# Predict on test data\n",
    "pred_test_multiknn = regr_multiknn.predict(Xtest)\n",
    "# pred_test_knn = regr_knn.predict(Xtest)\n",
    "\n",
    "print(mean_squared_error(ytrain, pred_train_multiknn))\n",
    "# print(mean_squared_error(ytrain, pred_train_knn))\n",
    "print('='*20)\n",
    "\n",
    "print(mean_squared_error(ydev, pred_dev_multiknn))\n",
    "# print(mean_squared_error(ydev, pred_dev_knn))\n",
    "print('='*20)\n",
    "\n",
    "print(mean_squared_error(ytest, pred_test_multiknn))\n",
    "# print(mean_squared_error(ytest, pred_test_knn))"
   ]
  },
  {
   "cell_type": "code",
   "execution_count": null,
   "metadata": {},
   "outputs": [],
   "source": []
  },
  {
   "cell_type": "code",
   "execution_count": null,
   "metadata": {},
   "outputs": [],
   "source": [
    "model = regr_multilr\n",
    "\n",
    "Xtest_show = Xtest[:3]\n",
    "ytest_show = ytest[:3]\n",
    "\n",
    "predictions = model.predict(Xtest_show)\n",
    "print(mean_squared_error(ytest_show, predictions))\n"
   ]
  },
  {
   "cell_type": "code",
   "execution_count": 48,
   "metadata": {},
   "outputs": [
    {
     "name": "stdout",
     "output_type": "stream",
     "text": [
      "This is for test example 0\n",
      "AR_exchange_06_true: 2.35\n",
      "AR_exchange_06_pred: 2.2022577871976274\n",
      "==================================================\n",
      "AR_sharepoint_06_true: 1.0\n",
      "AR_sharepoint_06_pred: 1.0393913915702737\n",
      "==================================================\n",
      "AR_skype_06_true: 1.0\n",
      "AR_skype_06_pred: -0.09751276050036277\n",
      "==================================================\n",
      "AR_teams_06_true: 1.0\n",
      "AR_teams_06_pred: 1.5933571860765217\n",
      "==================================================\n",
      "AR_od4b_06_true: 1.0\n",
      "AR_od4b_06_pred: 1.1086326724223692\n",
      "==================================================\n",
      "AR_onenote_06_true: 0.0\n",
      "AR_onenote_06_pred: 0.5920305879010814\n",
      "==================================================\n",
      "AR_word_06_true: 1.0\n",
      "AR_word_06_pred: 1.0320620400386928\n",
      "==================================================\n",
      "AR_excel_06_true: 1.0\n",
      "AR_excel_06_pred: 0.9986296307489022\n",
      "==================================================\n",
      "AR_powerpoint_06_true: 0.0\n",
      "AR_powerpoint_06_pred: 0.9507768976657778\n",
      "==================================================\n",
      "AR_outlook_06_true: 1.0\n",
      "AR_outlook_06_pred: 0.9413428254711472\n",
      "==================================================\n",
      "AR_officelient_06_true: 1.0\n",
      "AR_officelient_06_pred: 0.9975101210396461\n",
      "==================================================\n",
      "AR_eslt_06_true: 2.375\n",
      "AR_eslt_06_pred: 2.2126891323681024\n",
      "==================================================\n",
      "********************\n",
      "This is for test example 1\n",
      "AR_exchange_06_true: 0.9545454545454546\n",
      "AR_exchange_06_pred: 0.9329479104161074\n",
      "==================================================\n",
      "AR_sharepoint_06_true: 0.0\n",
      "AR_sharepoint_06_pred: 0.005770938053517624\n",
      "==================================================\n",
      "AR_skype_06_true: 0.0\n",
      "AR_skype_06_pred: 0.002447909222849309\n",
      "==================================================\n",
      "AR_teams_06_true: 0.0\n",
      "AR_teams_06_pred: 0.005683258061230358\n",
      "==================================================\n",
      "AR_od4b_06_true: 0.02083333333333333\n",
      "AR_od4b_06_pred: 0.012120400853306512\n",
      "==================================================\n",
      "AR_onenote_06_true: 1.0\n",
      "AR_onenote_06_pred: 0.8033613681334042\n",
      "==================================================\n",
      "AR_word_06_true: 1.0\n",
      "AR_word_06_pred: 0.9999592388350365\n",
      "==================================================\n",
      "AR_excel_06_true: 1.0\n",
      "AR_excel_06_pred: 1.0061734541743648\n",
      "==================================================\n",
      "AR_powerpoint_06_true: 1.0\n",
      "AR_powerpoint_06_pred: 0.9499589488289666\n",
      "==================================================\n",
      "AR_outlook_06_true: 1.0\n",
      "AR_outlook_06_pred: 0.9949082179095039\n",
      "==================================================\n",
      "AR_officelient_06_true: 1.0\n",
      "AR_officelient_06_pred: 0.9988089137965341\n",
      "==================================================\n",
      "AR_eslt_06_true: 0.875\n",
      "AR_eslt_06_pred: 0.8630232443360647\n",
      "==================================================\n",
      "********************\n",
      "This is for test example 2\n",
      "AR_exchange_06_true: 1.5578947368421054\n",
      "AR_exchange_06_pred: 1.5215570720860507\n",
      "==================================================\n",
      "AR_sharepoint_06_true: 0.2894736842105263\n",
      "AR_sharepoint_06_pred: 0.29580284065470613\n",
      "==================================================\n",
      "AR_skype_06_true: 0.05526315789473685\n",
      "AR_skype_06_pred: 0.29131058988041336\n",
      "==================================================\n",
      "AR_teams_06_true: 0.4342105263157895\n",
      "AR_teams_06_pred: 0.1570644404305597\n",
      "==================================================\n",
      "AR_od4b_06_true: 0.18536585365853656\n",
      "AR_od4b_06_pred: 0.14410199779062674\n",
      "==================================================\n",
      "AR_onenote_06_true: 1.0\n",
      "AR_onenote_06_pred: 0.8517018455076435\n",
      "==================================================\n",
      "AR_word_06_true: 1.0\n",
      "AR_word_06_pred: 1.0138723365149833\n",
      "==================================================\n",
      "AR_excel_06_true: 1.0\n",
      "AR_excel_06_pred: 1.0144972028619539\n",
      "==================================================\n",
      "AR_powerpoint_06_true: 1.0\n",
      "AR_powerpoint_06_pred: 0.9450809396639339\n",
      "==================================================\n",
      "AR_outlook_06_true: 1.0\n",
      "AR_outlook_06_pred: 1.0084204169278297\n",
      "==================================================\n",
      "AR_officelient_06_true: 1.0\n",
      "AR_officelient_06_pred: 1.0121553885752057\n",
      "==================================================\n",
      "AR_eslt_06_true: 1.4178571428571427\n",
      "AR_eslt_06_pred: 1.3730442853398679\n",
      "==================================================\n",
      "********************\n"
     ]
    }
   ],
   "source": [
    "for i in range(len(ytest_show)):\n",
    "    print('This is for test example {}'.format(i))\n",
    "    \n",
    "    n = Xtest_show.shape[1]\n",
    "    predictions = model.predict(Xtest_show[i].reshape((1, n)))\n",
    "    \n",
    "    for j in range(len(ytest_show[i])):\n",
    "        print('{}_true: {}'.format(output_cols[j], ytest_show[i][j]))\n",
    "        print('{}_pred: {}'.format(output_cols[j], predictions[0][j]))\n",
    "        print('='*50)\n",
    "    \n",
    "    print('*'*20)"
   ]
  },
  {
   "cell_type": "code",
   "execution_count": null,
   "metadata": {},
   "outputs": [],
   "source": []
  },
  {
   "cell_type": "code",
   "execution_count": 20,
   "metadata": {},
   "outputs": [
    {
     "data": {
      "text/plain": [
       "False"
      ]
     },
     "execution_count": 20,
     "metadata": {},
     "output_type": "execute_result"
    }
   ],
   "source": [
    "np.any(np.isnan(Xtrain_exo))"
   ]
  },
  {
   "cell_type": "code",
   "execution_count": 21,
   "metadata": {},
   "outputs": [],
   "source": [
    "sc = StandardScaler()  \n",
    "Xtrain_exo = sc.fit_transform(Xtrain_exo)  \n",
    "# Xtest = sc.transform(Xtest)\n",
    "Xdev_exo = sc.transform(Xdev_exo)"
   ]
  },
  {
   "cell_type": "code",
   "execution_count": 40,
   "metadata": {
    "scrolled": false
   },
   "outputs": [
    {
     "name": "stdout",
     "output_type": "stream",
     "text": [
      "0.33455920368214354\n",
      "0.27741462628985025\n"
     ]
    }
   ],
   "source": [
    "model = KNeighborsRegressor(n_neighbors=7)\n",
    "# model = LinearRegression()\n",
    "# model = RandomForestRegressor(n_estimators=5, random_state=0)\n",
    "\n",
    "model.fit(Xtrain_exo, ytrain_exo)\n",
    "\n",
    "pred_train = model.predict(Xtrain_exo)\n",
    "print(mean_squared_error(ytrain_exo, pred_train))\n",
    "\n",
    "pred_dev = model.predict(Xdev_exo)\n",
    "print(mean_squared_error(ydev_exo, pred_dev))"
   ]
  },
  {
   "cell_type": "code",
   "execution_count": 43,
   "metadata": {},
   "outputs": [
    {
     "name": "stdout",
     "output_type": "stream",
     "text": [
      "0.03357450083696344\n",
      "0.008033447165090218\n"
     ]
    }
   ],
   "source": [
    "# model = KNeighborsRegressor(n_neighbors=7)\n",
    "# model = LinearRegression()\n",
    "model = RandomForestRegressor(n_estimators=5, random_state=0)\n",
    "\n",
    "model.fit(Xtrain_exo, ytrain_exo)\n",
    "\n",
    "pred_train = model.predict(Xtrain_exo)\n",
    "print(mean_squared_error(ytrain_exo, pred_train))\n",
    "\n",
    "pred_dev = model.predict(Xdev_exo)\n",
    "print(mean_squared_error(ydev_exo, pred_dev))\n"
   ]
  },
  {
   "cell_type": "code",
   "execution_count": null,
   "metadata": {},
   "outputs": [],
   "source": []
  },
  {
   "cell_type": "code",
   "execution_count": 42,
   "metadata": {},
   "outputs": [
    {
     "name": "stdout",
     "output_type": "stream",
     "text": [
      "0.004256127313895168\n",
      "2.7955966633382052e+20\n"
     ]
    }
   ],
   "source": [
    "# model = KNeighborsRegressor(n_neighbors=7)\n",
    "model = LinearRegression()\n",
    "# model = RandomForestRegressor(n_estimators=5, random_state=0)\n",
    "\n",
    "model.fit(Xtrain_exo, ytrain_exo)\n",
    "\n",
    "pred_train = model.predict(Xtrain_exo)\n",
    "print(mean_squared_error(ytrain_exo, pred_train))\n",
    "\n",
    "pred_dev = model.predict(Xdev_exo)\n",
    "print(mean_squared_error(ydev_exo, pred_dev))"
   ]
  },
  {
   "cell_type": "code",
   "execution_count": 35,
   "metadata": {},
   "outputs": [],
   "source": [
    "def hyp_tuning(model_name, Xtrain, ytrain, Xdev, ydev):\n",
    "    mse_dev_dict = {}\n",
    "    best_dev_mse = 1000\n",
    "    for hyp in range(2, 30):\n",
    "        \n",
    "        print('='*20)\n",
    "        print('starting to compute hyp={}'.format(hyp))\n",
    "        \n",
    "        if model_name == 'KNN':\n",
    "            model = KNeighborsRegressor(n_neighbors=hyp)\n",
    "        elif model_name == 'RF':\n",
    "            model = RandomForestRegressor(n_estimators=hyp, random_state=0)\n",
    "        else:\n",
    "            raise ValueError('Unknown model_name')                               \n",
    "\n",
    "        model.fit(Xtrain, ytrain)\n",
    "        \n",
    "        pred_train = model.predict(Xtrain_exo)\n",
    "        mse_train = mean_squared_error(ytrain_exo, pred_train)\n",
    "\n",
    "        pred_dev = model.predict(Xdev_exo)\n",
    "        mse_dev = mean_squared_error(ydev_exo, pred_dev)\n",
    "        \n",
    "        if mse_dev < best_dev_mse:\n",
    "            best_dev_mse = mse_dev\n",
    "            print(hyp, best_dev_mse)\n",
    "            mse_dev_dict[hyp] = best_dev_mse\n",
    "            \n",
    "            \n",
    "    \n",
    "    return mse_dev_dict\n",
    "        \n",
    "    "
   ]
  },
  {
   "cell_type": "code",
   "execution_count": 36,
   "metadata": {},
   "outputs": [
    {
     "name": "stdout",
     "output_type": "stream",
     "text": [
      "====================\n",
      "starting to compute hyp=2\n",
      "2 0.303295558483608\n",
      "====================\n",
      "starting to compute hyp=3\n",
      "3 0.3020542355088155\n",
      "====================\n",
      "starting to compute hyp=4\n",
      "====================\n",
      "starting to compute hyp=5\n",
      "5 0.3013890671612971\n",
      "====================\n",
      "starting to compute hyp=6\n",
      "6 0.2869898544553507\n",
      "====================\n",
      "starting to compute hyp=7\n",
      "7 0.27741462628985025\n",
      "====================\n",
      "starting to compute hyp=8\n",
      "====================\n",
      "starting to compute hyp=9\n",
      "====================\n",
      "starting to compute hyp=10\n",
      "====================\n",
      "starting to compute hyp=11\n",
      "====================\n",
      "starting to compute hyp=12\n",
      "====================\n",
      "starting to compute hyp=13\n",
      "====================\n",
      "starting to compute hyp=14\n",
      "====================\n",
      "starting to compute hyp=15\n",
      "====================\n",
      "starting to compute hyp=16\n",
      "====================\n",
      "starting to compute hyp=17\n",
      "====================\n",
      "starting to compute hyp=18\n",
      "====================\n",
      "starting to compute hyp=19\n",
      "====================\n",
      "starting to compute hyp=20\n",
      "====================\n",
      "starting to compute hyp=21\n",
      "====================\n",
      "starting to compute hyp=22\n",
      "====================\n",
      "starting to compute hyp=23\n",
      "====================\n",
      "starting to compute hyp=24\n",
      "====================\n",
      "starting to compute hyp=25\n",
      "====================\n",
      "starting to compute hyp=26\n",
      "====================\n",
      "starting to compute hyp=27\n",
      "====================\n",
      "starting to compute hyp=28\n",
      "====================\n",
      "starting to compute hyp=29\n"
     ]
    }
   ],
   "source": [
    "mse_KNN = hyp_tuning('KNN', Xtrain_exo, ytrain_exo, Xdev_exo, ydev_exo)"
   ]
  },
  {
   "cell_type": "code",
   "execution_count": 37,
   "metadata": {},
   "outputs": [
    {
     "name": "stdout",
     "output_type": "stream",
     "text": [
      "====================\n",
      "starting to compute hyp=2\n",
      "2 0.0170847770374471\n",
      "====================\n",
      "starting to compute hyp=3\n",
      "3 0.013114965392635238\n",
      "====================\n",
      "starting to compute hyp=4\n",
      "====================\n",
      "starting to compute hyp=5\n",
      "5 0.008033447165090218\n",
      "====================\n",
      "starting to compute hyp=6\n",
      "====================\n",
      "starting to compute hyp=7\n",
      "====================\n",
      "starting to compute hyp=8\n",
      "====================\n",
      "starting to compute hyp=9\n",
      "====================\n",
      "starting to compute hyp=10\n",
      "====================\n",
      "starting to compute hyp=11\n",
      "====================\n",
      "starting to compute hyp=12\n",
      "====================\n",
      "starting to compute hyp=13\n",
      "====================\n",
      "starting to compute hyp=14\n",
      "====================\n",
      "starting to compute hyp=15\n",
      "====================\n",
      "starting to compute hyp=16\n",
      "====================\n",
      "starting to compute hyp=17\n",
      "====================\n",
      "starting to compute hyp=18\n",
      "====================\n",
      "starting to compute hyp=19\n",
      "====================\n",
      "starting to compute hyp=20\n",
      "====================\n",
      "starting to compute hyp=21\n",
      "====================\n",
      "starting to compute hyp=22\n",
      "====================\n",
      "starting to compute hyp=23\n",
      "====================\n",
      "starting to compute hyp=24\n",
      "====================\n",
      "starting to compute hyp=25\n",
      "====================\n",
      "starting to compute hyp=26\n",
      "====================\n",
      "starting to compute hyp=27\n",
      "====================\n",
      "starting to compute hyp=28\n",
      "====================\n",
      "starting to compute hyp=29\n"
     ]
    }
   ],
   "source": [
    "mse_RF = hyp_tuning('RF', Xtrain_exo, ytrain_exo, Xdev_exo, ydev_exo)"
   ]
  },
  {
   "cell_type": "code",
   "execution_count": 38,
   "metadata": {},
   "outputs": [
    {
     "data": {
      "text/plain": [
       "{2: 0.303295558483608,\n",
       " 3: 0.3020542355088155,\n",
       " 5: 0.3013890671612971,\n",
       " 6: 0.2869898544553507,\n",
       " 7: 0.27741462628985025}"
      ]
     },
     "execution_count": 38,
     "metadata": {},
     "output_type": "execute_result"
    }
   ],
   "source": [
    "mse_KNN"
   ]
  },
  {
   "cell_type": "code",
   "execution_count": 39,
   "metadata": {},
   "outputs": [
    {
     "data": {
      "text/plain": [
       "{2: 0.0170847770374471, 3: 0.013114965392635238, 5: 0.008033447165090218}"
      ]
     },
     "execution_count": 39,
     "metadata": {},
     "output_type": "execute_result"
    }
   ],
   "source": [
    "mse_RF"
   ]
  },
  {
   "cell_type": "code",
   "execution_count": null,
   "metadata": {},
   "outputs": [],
   "source": []
  }
 ],
 "metadata": {
  "kernelspec": {
   "display_name": "Python 3",
   "language": "python",
   "name": "python3"
  },
  "language_info": {
   "codemirror_mode": {
    "name": "ipython",
    "version": 3
   },
   "file_extension": ".py",
   "mimetype": "text/x-python",
   "name": "python",
   "nbconvert_exporter": "python",
   "pygments_lexer": "ipython3",
   "version": "3.5.2"
  }
 },
 "nbformat": 4,
 "nbformat_minor": 2
}
